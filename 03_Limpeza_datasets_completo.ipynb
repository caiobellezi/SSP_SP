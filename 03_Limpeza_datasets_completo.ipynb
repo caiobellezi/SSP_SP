{
 "cells": [
  {
   "cell_type": "markdown",
   "id": "medieval-advertiser",
   "metadata": {},
   "source": [
    "# Limpeza dos dados\n",
    "## Roubo de Celulares\n",
    "\n",
    "Com os dados obtidos  e já compilados, o próximo passo é realizar a limpeza do dataset\n",
    "Isso consiste em:\n",
    " - Separar a cidade de São Bernardo do Campo\n",
    " - Verificar valores nulos\n",
    " - Campos duplicados\n",
    " - Remover informações que não serão úteis\n",
    " - Acertar ou remover informações erradas"
   ]
  },
  {
   "cell_type": "markdown",
   "id": "trained-election",
   "metadata": {},
   "source": [
    "### Importar as bibliotecas\n",
    "\n",
    "As bibliotecas que serão utilizadas são:\n",
    " - `Pandas` - Manipulação do dataset\n",
    " - `Matplotlib` - Visualização dos dados\n",
    " - `Seaborn`- Visualização dos dados\n",
    " - `Numpy` - habilita propriedades matemáticas"
   ]
  },
  {
   "cell_type": "code",
   "execution_count": 1,
   "id": "unlike-border",
   "metadata": {},
   "outputs": [],
   "source": [
    "#importando as bibliotecas\n",
    "import pandas as pd\n",
    "import matplotlib.pyplot as plt\n",
    "import seaborn as sns\n",
    "import numpy as np\n",
    "import os\n"
   ]
  },
  {
   "cell_type": "markdown",
   "id": "exceptional-patient",
   "metadata": {},
   "source": [
    "### Carregar o dataset de roubo de celulares\n",
    "\n",
    "Carregar o dataset, verificar suas dimensões e ter as primeiras impressões"
   ]
  },
  {
   "cell_type": "code",
   "execution_count": 2,
   "id": "liberal-subcommittee",
   "metadata": {},
   "outputs": [
    {
     "name": "stdout",
     "output_type": "stream",
     "text": [
      "Linhas totais:  6258784\n",
      "\n",
      "Total de arquivos concatenados: 3\n",
      "\n",
      "Dimensões do dataset: \n",
      "\t- 6258784 Linhas\n",
      "\t- 57 Colunas\n"
     ]
    }
   ],
   "source": [
    "path = 'data_cleaned/'\n",
    "\n",
    "directory = os.path.join(path) # Diretório onde estão salvos os arquivos .xls\n",
    "i=0 # Marcador criado para definir se é o primeiro arquivo ou não\n",
    "counter=0 #Contador de arquivos lidos\n",
    "\n",
    "\n",
    "for root,dirs,files in os.walk(directory): # root - Caminho lido | dirs - diretórios existentes dentro do caminho lido | files - arquivos existentes no caminho lido\n",
    "    \n",
    "    #Percorrer todos os arquivos um a um, e ler somente os arquivos com extensão .xls\n",
    "    for file in files:\n",
    "        if file.endswith(\"2020.csv\"):\n",
    "            dftemp = pd.read_csv(path+file, low_memory=False) # leitura do arquivo .xls (\"corrompido\")\n",
    "            \n",
    "            if i==0: # Condição IF para determinar se é a primeira leitura e copiar o dataset para a variável \"df\"\n",
    "                df = dftemp.copy()\n",
    "                i = 1\n",
    "                del(dftemp) # Deletar a variável para não sobrecarregar a memória\n",
    "                \n",
    "            else: # Para os demais arquivos realizar a junção com o primeiro arquivo\n",
    "                df = df.append(dftemp, ignore_index=True)\n",
    "                del(dftemp) # Deletar a variável para não sobrecarregar a memória\n",
    "                \n",
    "            linhas = df.shape[0]\n",
    "            counter = counter + 1\n",
    "            \n",
    "print(\"Linhas totais: \", linhas)\n",
    "print('\\nTotal de arquivos concatenados:', counter)\n",
    "print('\\nDimensões do dataset: \\n\\t- {} Linhas\\n\\t- {} Colunas'.format(df.shape[0],df.shape[1]))"
   ]
  },
  {
   "cell_type": "code",
   "execution_count": 3,
   "id": "encouraging-melbourne",
   "metadata": {},
   "outputs": [
    {
     "name": "stdout",
     "output_type": "stream",
     "text": [
      "6258784 Linhas\n",
      "57 Colunas\n"
     ]
    },
    {
     "data": {
      "text/html": [
       "<div>\n",
       "<style scoped>\n",
       "    .dataframe tbody tr th:only-of-type {\n",
       "        vertical-align: middle;\n",
       "    }\n",
       "\n",
       "    .dataframe tbody tr th {\n",
       "        vertical-align: top;\n",
       "    }\n",
       "\n",
       "    .dataframe thead th {\n",
       "        text-align: right;\n",
       "    }\n",
       "</style>\n",
       "<table border=\"1\" class=\"dataframe\">\n",
       "  <thead>\n",
       "    <tr style=\"text-align: right;\">\n",
       "      <th></th>\n",
       "      <th>ANO_BO</th>\n",
       "      <th>NUM_BO</th>\n",
       "      <th>NUMERO_BOLETIM</th>\n",
       "      <th>BO_INICIADO</th>\n",
       "      <th>BO_EMITIDO</th>\n",
       "      <th>DATAOCORRENCIA</th>\n",
       "      <th>HORAOCORRENCIA</th>\n",
       "      <th>PERIDOOCORRENCIA</th>\n",
       "      <th>DATACOMUNICACAO</th>\n",
       "      <th>DATAELABORACAO</th>\n",
       "      <th>...</th>\n",
       "      <th>DESCR_COR_VEICULO</th>\n",
       "      <th>DESCR_MARCA_VEICULO</th>\n",
       "      <th>ANO_FABRICACAO</th>\n",
       "      <th>ANO_MODELO</th>\n",
       "      <th>DESCR_TIPO_VEICULO</th>\n",
       "      <th>QUANT_CELULAR</th>\n",
       "      <th>MARCA_CELULAR</th>\n",
       "      <th>ROUBO_C</th>\n",
       "      <th>ROUBO_V</th>\n",
       "      <th>FURTO_V</th>\n",
       "    </tr>\n",
       "  </thead>\n",
       "  <tbody>\n",
       "    <tr>\n",
       "      <th>0</th>\n",
       "      <td>2009</td>\n",
       "      <td>4329</td>\n",
       "      <td>4329/2009</td>\n",
       "      <td>31/12/2009 23:58:08</td>\n",
       "      <td>01/01/2010 00:01:48</td>\n",
       "      <td>31/12/2009</td>\n",
       "      <td>23:00</td>\n",
       "      <td>A NOITE</td>\n",
       "      <td>31/12/2009</td>\n",
       "      <td>31/12/2009 23:58:08</td>\n",
       "      <td>...</td>\n",
       "      <td>Branco</td>\n",
       "      <td>VW/GOL PLUS MI</td>\n",
       "      <td>1997.0</td>\n",
       "      <td>1997.0</td>\n",
       "      <td>AUTOMOVEL</td>\n",
       "      <td>NaN</td>\n",
       "      <td>NaN</td>\n",
       "      <td>0</td>\n",
       "      <td>0</td>\n",
       "      <td>1</td>\n",
       "    </tr>\n",
       "    <tr>\n",
       "      <th>1</th>\n",
       "      <td>2009</td>\n",
       "      <td>6595</td>\n",
       "      <td>6595/2009</td>\n",
       "      <td>31/12/2009 23:55:54</td>\n",
       "      <td>01/01/2010 00:02:38</td>\n",
       "      <td>31/12/2009</td>\n",
       "      <td>NaN</td>\n",
       "      <td>A TARDE</td>\n",
       "      <td>31/12/2009</td>\n",
       "      <td>31/12/2009 23:55:54</td>\n",
       "      <td>...</td>\n",
       "      <td>Branco</td>\n",
       "      <td>VW/KOMBI</td>\n",
       "      <td>1974.0</td>\n",
       "      <td>1974.0</td>\n",
       "      <td>AUTOMOVEL</td>\n",
       "      <td>NaN</td>\n",
       "      <td>NaN</td>\n",
       "      <td>0</td>\n",
       "      <td>0</td>\n",
       "      <td>1</td>\n",
       "    </tr>\n",
       "    <tr>\n",
       "      <th>2</th>\n",
       "      <td>2010</td>\n",
       "      <td>1</td>\n",
       "      <td>1/2010</td>\n",
       "      <td>01/01/2010 00:05:13</td>\n",
       "      <td>01/01/2010 00:12:24</td>\n",
       "      <td>31/12/2009</td>\n",
       "      <td>19:40</td>\n",
       "      <td>A NOITE</td>\n",
       "      <td>31/12/2009</td>\n",
       "      <td>01/01/2010 00:05:13</td>\n",
       "      <td>...</td>\n",
       "      <td>Azul</td>\n",
       "      <td>FIAT/PALIO YOUNG</td>\n",
       "      <td>2000.0</td>\n",
       "      <td>2001.0</td>\n",
       "      <td>AUTOMOVEL</td>\n",
       "      <td>NaN</td>\n",
       "      <td>NaN</td>\n",
       "      <td>0</td>\n",
       "      <td>0</td>\n",
       "      <td>1</td>\n",
       "    </tr>\n",
       "    <tr>\n",
       "      <th>3</th>\n",
       "      <td>2010</td>\n",
       "      <td>1</td>\n",
       "      <td>1/2010</td>\n",
       "      <td>01/01/2010 00:48:15</td>\n",
       "      <td>01/01/2010 00:51:39</td>\n",
       "      <td>31/12/2009</td>\n",
       "      <td>23:50</td>\n",
       "      <td>A NOITE</td>\n",
       "      <td>01/01/2010</td>\n",
       "      <td>01/01/2010 00:48:15</td>\n",
       "      <td>...</td>\n",
       "      <td>Preta</td>\n",
       "      <td>HONDA/CG 125 FAN</td>\n",
       "      <td>2006.0</td>\n",
       "      <td>2006.0</td>\n",
       "      <td>MOTOCICLO</td>\n",
       "      <td>NaN</td>\n",
       "      <td>NaN</td>\n",
       "      <td>0</td>\n",
       "      <td>0</td>\n",
       "      <td>1</td>\n",
       "    </tr>\n",
       "    <tr>\n",
       "      <th>4</th>\n",
       "      <td>2010</td>\n",
       "      <td>1</td>\n",
       "      <td>1/2010</td>\n",
       "      <td>01/01/2010 00:58:51</td>\n",
       "      <td>01/01/2010 01:02:29</td>\n",
       "      <td>31/12/2009</td>\n",
       "      <td>22:30</td>\n",
       "      <td>A NOITE</td>\n",
       "      <td>01/01/2010</td>\n",
       "      <td>01/01/2010 00:58:51</td>\n",
       "      <td>...</td>\n",
       "      <td>Branco</td>\n",
       "      <td>IMP/FIAT UNO MILLE SX</td>\n",
       "      <td>1997.0</td>\n",
       "      <td>1998.0</td>\n",
       "      <td>AUTOMOVEL</td>\n",
       "      <td>NaN</td>\n",
       "      <td>NaN</td>\n",
       "      <td>0</td>\n",
       "      <td>0</td>\n",
       "      <td>1</td>\n",
       "    </tr>\n",
       "  </tbody>\n",
       "</table>\n",
       "<p>5 rows × 57 columns</p>\n",
       "</div>"
      ],
      "text/plain": [
       "   ANO_BO  NUM_BO NUMERO_BOLETIM          BO_INICIADO           BO_EMITIDO  \\\n",
       "0    2009    4329      4329/2009  31/12/2009 23:58:08  01/01/2010 00:01:48   \n",
       "1    2009    6595      6595/2009  31/12/2009 23:55:54  01/01/2010 00:02:38   \n",
       "2    2010       1         1/2010  01/01/2010 00:05:13  01/01/2010 00:12:24   \n",
       "3    2010       1         1/2010  01/01/2010 00:48:15  01/01/2010 00:51:39   \n",
       "4    2010       1         1/2010  01/01/2010 00:58:51  01/01/2010 01:02:29   \n",
       "\n",
       "  DATAOCORRENCIA HORAOCORRENCIA PERIDOOCORRENCIA DATACOMUNICACAO  \\\n",
       "0     31/12/2009          23:00          A NOITE      31/12/2009   \n",
       "1     31/12/2009            NaN          A TARDE      31/12/2009   \n",
       "2     31/12/2009          19:40          A NOITE      31/12/2009   \n",
       "3     31/12/2009          23:50          A NOITE      01/01/2010   \n",
       "4     31/12/2009          22:30          A NOITE      01/01/2010   \n",
       "\n",
       "        DATAELABORACAO  ... DESCR_COR_VEICULO    DESCR_MARCA_VEICULO  \\\n",
       "0  31/12/2009 23:58:08  ...            Branco         VW/GOL PLUS MI   \n",
       "1  31/12/2009 23:55:54  ...            Branco               VW/KOMBI   \n",
       "2  01/01/2010 00:05:13  ...              Azul       FIAT/PALIO YOUNG   \n",
       "3  01/01/2010 00:48:15  ...             Preta       HONDA/CG 125 FAN   \n",
       "4  01/01/2010 00:58:51  ...            Branco  IMP/FIAT UNO MILLE SX   \n",
       "\n",
       "  ANO_FABRICACAO ANO_MODELO DESCR_TIPO_VEICULO QUANT_CELULAR MARCA_CELULAR  \\\n",
       "0         1997.0     1997.0          AUTOMOVEL           NaN           NaN   \n",
       "1         1974.0     1974.0          AUTOMOVEL           NaN           NaN   \n",
       "2         2000.0     2001.0          AUTOMOVEL           NaN           NaN   \n",
       "3         2006.0     2006.0          MOTOCICLO           NaN           NaN   \n",
       "4         1997.0     1998.0          AUTOMOVEL           NaN           NaN   \n",
       "\n",
       "  ROUBO_C ROUBO_V FURTO_V  \n",
       "0       0       0       1  \n",
       "1       0       0       1  \n",
       "2       0       0       1  \n",
       "3       0       0       1  \n",
       "4       0       0       1  \n",
       "\n",
       "[5 rows x 57 columns]"
      ]
     },
     "execution_count": 3,
     "metadata": {},
     "output_type": "execute_result"
    }
   ],
   "source": [
    "print('{} Linhas\\n{} Colunas'.format(df.shape[0],df.shape[1]))\n",
    "df.head() # Mostra as 5 primeiras linhas do dataset"
   ]
  },
  {
   "cell_type": "markdown",
   "id": "clinical-doctrine",
   "metadata": {},
   "source": [
    "### Verificar dados nulos e ausentes\n",
    "\n",
    "É possivel ver que pelo menos 18 colunas possuem mais de 80% de dados ausentes, a grande maioria relacionado a dados pessoais.\n",
    "\n",
    "Essas as quais podem ser diretamente removidas do dataset.\n",
    "\n",
    "Abaixo a lista ordenada em % dos primeiros 35 mais ausentes"
   ]
  },
  {
   "cell_type": "code",
   "execution_count": 4,
   "id": "coral-geneva",
   "metadata": {},
   "outputs": [
    {
     "name": "stdout",
     "output_type": "stream",
     "text": [
      "<class 'pandas.core.frame.DataFrame'>\n",
      "RangeIndex: 6258784 entries, 0 to 6258783\n",
      "Data columns (total 57 columns):\n",
      " #   Column                    Dtype  \n",
      "---  ------                    -----  \n",
      " 0   ANO_BO                    int64  \n",
      " 1   NUM_BO                    int64  \n",
      " 2   NUMERO_BOLETIM            object \n",
      " 3   BO_INICIADO               object \n",
      " 4   BO_EMITIDO                object \n",
      " 5   DATAOCORRENCIA            object \n",
      " 6   HORAOCORRENCIA            object \n",
      " 7   PERIDOOCORRENCIA          object \n",
      " 8   DATACOMUNICACAO           object \n",
      " 9   DATAELABORACAO            object \n",
      " 10  BO_AUTORIA                object \n",
      " 11  FLAGRANTE                 object \n",
      " 12  NUMERO_BOLETIM_PRINCIPAL  object \n",
      " 13  LOGRADOURO                object \n",
      " 14  NUMERO                    object \n",
      " 15  BAIRRO                    object \n",
      " 16  CIDADE                    object \n",
      " 17  UF                        object \n",
      " 18  LATITUDE                  object \n",
      " 19  LONGITUDE                 object \n",
      " 20  DESCRICAOLOCAL            object \n",
      " 21  EXAME                     object \n",
      " 22  SOLUCAO                   object \n",
      " 23  DELEGACIA_NOME            object \n",
      " 24  DELEGACIA_CIRCUNSCRICAO   object \n",
      " 25  ESPECIE                   object \n",
      " 26  RUBRICA                   object \n",
      " 27  DESDOBRAMENTO             object \n",
      " 28  STATUS                    object \n",
      " 29  TIPOPESSOA                object \n",
      " 30  VITIMAFATAL               object \n",
      " 31  NATURALIDADE              object \n",
      " 32  NACIONALIDADE             object \n",
      " 33  SEXO                      object \n",
      " 34  DATANASCIMENTO            object \n",
      " 35  IDADE                     object \n",
      " 36  ESTADOCIVIL               object \n",
      " 37  PROFISSAO                 object \n",
      " 38  GRAUINSTRUCAO             object \n",
      " 39  CORCUTIS                  object \n",
      " 40  NATUREZAVINCULADA         object \n",
      " 41  TIPOVINCULO               object \n",
      " 42  RELACIONAMENTO            object \n",
      " 43  PARENTESCO                float64\n",
      " 44  PLACA_VEICULO             object \n",
      " 45  UF_VEICULO                object \n",
      " 46  CIDADE_VEICULO            object \n",
      " 47  DESCR_COR_VEICULO         object \n",
      " 48  DESCR_MARCA_VEICULO       object \n",
      " 49  ANO_FABRICACAO            float64\n",
      " 50  ANO_MODELO                float64\n",
      " 51  DESCR_TIPO_VEICULO        object \n",
      " 52  QUANT_CELULAR             object \n",
      " 53  MARCA_CELULAR             object \n",
      " 54  ROUBO_C                   int64  \n",
      " 55  ROUBO_V                   int64  \n",
      " 56  FURTO_V                   int64  \n",
      "dtypes: float64(3), int64(5), object(49)\n",
      "memory usage: 2.7+ GB\n"
     ]
    }
   ],
   "source": [
    "df.info()"
   ]
  },
  {
   "cell_type": "code",
   "execution_count": 5,
   "id": "behind-official",
   "metadata": {},
   "outputs": [
    {
     "data": {
      "text/plain": [
       "PARENTESCO                  100.000000\n",
       "RELACIONAMENTO               99.999105\n",
       "PROFISSAO                    99.898383\n",
       "GRAUINSTRUCAO                99.894484\n",
       "NACIONALIDADE                99.857161\n",
       "ESTADOCIVIL                  99.847526\n",
       "NATURALIDADE                 99.838131\n",
       "DATANASCIMENTO               99.835479\n",
       "IDADE                        99.830334\n",
       "SEXO                         99.790183\n",
       "VITIMAFATAL                  99.786236\n",
       "TIPOPESSOA                   99.786236\n",
       "NATUREZAVINCULADA            99.786220\n",
       "CORCUTIS                     99.786220\n",
       "TIPOVINCULO                  99.786204\n",
       "DESDOBRAMENTO                94.816932\n",
       "NUMERO_BOLETIM_PRINCIPAL     93.829744\n",
       "EXAME                        83.911731\n",
       "QUANT_CELULAR                65.123193\n",
       "MARCA_CELULAR                57.909604\n",
       "DESCR_MARCA_VEICULO          49.574726\n",
       "PLACA_VEICULO                49.427684\n",
       "CIDADE_VEICULO               49.354108\n",
       "DESCR_TIPO_VEICULO           49.289766\n",
       "UF_VEICULO                   49.211668\n",
       "DESCR_COR_VEICULO            49.032032\n",
       "LONGITUDE                    19.243291\n",
       "LATITUDE                     19.242811\n",
       "HORAOCORRENCIA               15.601817\n",
       "LOGRADOURO                    9.783594\n",
       "BAIRRO                        8.400226\n",
       "ANO_MODELO                    4.923912\n",
       "STATUS                        3.627238\n",
       "ANO_FABRICACAO                2.974284\n",
       "CIDADE                        0.150221\n",
       "dtype: float64"
      ]
     },
     "execution_count": 5,
     "metadata": {},
     "output_type": "execute_result"
    }
   ],
   "source": [
    "nulos = df.isnull().sum()*100\n",
    "nulos = nulos / len(df)\n",
    "nulos.sort_values(ascending=False).head(35)"
   ]
  },
  {
   "cell_type": "markdown",
   "id": "warming-pricing",
   "metadata": {},
   "source": [
    "### Remover colunas e dados indesejados\n",
    "\n",
    "Primeiramente avaliar entre as colunas que tem mais que 70% dos dados ausentes o que é possível eliminar e criar uma lista com esses campos"
   ]
  },
  {
   "cell_type": "code",
   "execution_count": 6,
   "id": "unavailable-novelty",
   "metadata": {
    "scrolled": false
   },
   "outputs": [
    {
     "data": {
      "text/plain": [
       "Index(['HORAOCORRENCIA', 'NUMERO_BOLETIM_PRINCIPAL', 'LOGRADOURO', 'BAIRRO',\n",
       "       'LATITUDE', 'LONGITUDE', 'EXAME', 'DESDOBRAMENTO', 'STATUS',\n",
       "       'TIPOPESSOA', 'VITIMAFATAL', 'NATURALIDADE', 'NACIONALIDADE', 'SEXO',\n",
       "       'DATANASCIMENTO', 'IDADE', 'ESTADOCIVIL', 'PROFISSAO', 'GRAUINSTRUCAO',\n",
       "       'CORCUTIS', 'NATUREZAVINCULADA', 'TIPOVINCULO', 'RELACIONAMENTO',\n",
       "       'PARENTESCO', 'PLACA_VEICULO', 'UF_VEICULO', 'CIDADE_VEICULO',\n",
       "       'DESCR_COR_VEICULO', 'DESCR_MARCA_VEICULO', 'ANO_FABRICACAO',\n",
       "       'ANO_MODELO', 'DESCR_TIPO_VEICULO', 'QUANT_CELULAR', 'MARCA_CELULAR'],\n",
       "      dtype='object')"
      ]
     },
     "execution_count": 6,
     "metadata": {},
     "output_type": "execute_result"
    }
   ],
   "source": [
    "nulos.index[nulos > 0.7]"
   ]
  },
  {
   "cell_type": "markdown",
   "id": "signal-group",
   "metadata": {},
   "source": [
    "Os campos pessoais podem ser diretamente eliminados, para os demais campos será analisado a real necessidade"
   ]
  },
  {
   "cell_type": "code",
   "execution_count": 7,
   "id": "muslim-james",
   "metadata": {},
   "outputs": [],
   "source": [
    "eliminar = ['PARENTESCO', 'RELACIONAMENTO', 'NACIONALIDADE', 'PROFISSAO',\n",
    "       'GRAUINSTRUCAO', 'NATURALIDADE', 'DATANASCIMENTO', 'ESTADOCIVIL',\n",
    "       'IDADE', 'NATUREZAVINCULADA', 'TIPOPESSOA', 'SEXO', 'CORCUTIS',\n",
    "       'TIPOVINCULO']"
   ]
  },
  {
   "cell_type": "code",
   "execution_count": 8,
   "id": "dirty-declaration",
   "metadata": {},
   "outputs": [],
   "source": [
    "df.drop(eliminar, axis=1, inplace=True)"
   ]
  },
  {
   "cell_type": "code",
   "execution_count": 9,
   "id": "tamil-ferry",
   "metadata": {},
   "outputs": [
    {
     "data": {
      "text/plain": [
       "43"
      ]
     },
     "execution_count": 9,
     "metadata": {},
     "output_type": "execute_result"
    }
   ],
   "source": [
    "len(df.columns)"
   ]
  },
  {
   "cell_type": "markdown",
   "id": "monetary-gates",
   "metadata": {},
   "source": [
    "### Analisando demais colunas\n",
    "\n",
    "Usar comando abaixo para ajustar configurações de visualização do pandas para explorar os dados das colunas"
   ]
  },
  {
   "cell_type": "code",
   "execution_count": 10,
   "id": "legitimate-ecology",
   "metadata": {},
   "outputs": [],
   "source": [
    "pd.set_option('display.max_columns', 60) # Define limite de 60 colunas na visualização\n",
    "#pd.set_option('display.max_seq_items', 30) # Define limite de linhas na visualização"
   ]
  },
  {
   "cell_type": "markdown",
   "id": "vietnamese-failing",
   "metadata": {},
   "source": [
    "Selecionar somente os campos onde há vitima fatal e contar.\n",
    "\n",
    "De acordo com o site da SSP-SP, a referência de quantidade de Boletins de Ocorrência deve ser pelo Número do Boletim (NUMERO_BOLETIM).\n"
   ]
  },
  {
   "cell_type": "code",
   "execution_count": 11,
   "id": "optimum-generic",
   "metadata": {},
   "outputs": [
    {
     "name": "stdout",
     "output_type": "stream",
     "text": [
      "2100 vitimas fatais de 2010 à 2020\n"
     ]
    }
   ],
   "source": [
    "vitimafatal = df[df['VITIMAFATAL'].isnull()==False]\n",
    "total_vf = len(vitimafatal['NUMERO_BOLETIM'].unique())\n",
    "print(total_vf, 'vitimas fatais de 2010 à 2020')"
   ]
  },
  {
   "cell_type": "markdown",
   "id": "decreased-yorkshire",
   "metadata": {},
   "source": [
    "Neste caso, houve 2100 vitimas fatais entre 2010 e 2020,\n",
    "\n",
    "Por esta razão os dados serão mantidos, apenas a coluna `'VITIMAFATAL'` não será removida."
   ]
  },
  {
   "cell_type": "markdown",
   "id": "soviet-picture",
   "metadata": {},
   "source": [
    "O campo `'EXAME'`, `'RUBRICA'`, `'ESPECIE'`, `'DESDOBRAMENTO'`, possuem informações que não são relevantes para a ánalise, porém os demais dados devem ser mantidos, removendos apenas as colunas.\n"
   ]
  },
  {
   "cell_type": "code",
   "execution_count": 12,
   "id": "nutritional-region",
   "metadata": {},
   "outputs": [
    {
     "name": "stdout",
     "output_type": "stream",
     "text": [
      "EXAME\n",
      "[nan 'IC' 'IC-IML' 'IML' 'SVO'] \n",
      "\n",
      "RUBRICA\n",
      "['Furto (art. 155) - VEICULO'\n",
      " 'Furto qualificado (art. 155, §4o.) - RESIDENCIA'\n",
      " 'Furto qualificado (art. 155, §4o.) - VEICULO'\n",
      " 'Fuga de local de acidente (Art. 305)'\n",
      " 'Localização/Apreensão e Entrega de veículo' 'Choque'\n",
      " 'Entrega de veículo localizado/apreendido'\n",
      " 'Localização/Apreensão de veículo' 'Ato Infracional'\n",
      " 'Localização/Apreensão de objeto'] \n",
      "\n",
      "ESPECIE\n",
      "['Título II - Patrimônio (arts. 155 a 183)'\n",
      " 'L 9503/97 - Código de Trânsito Brasileiro' 'Localização e/ou Devolução'\n",
      " 'Acidente de trânsito' 'Ato infracional' 'Captura procurado' 'Pessoa'\n",
      " 'Título XI - Administração pública (arts. 312 a 359-H)'\n",
      " 'Título VIII - Incolumidade pública (arts. 250 a 285)'\n",
      " 'Outros - não criminal'] \n",
      "\n",
      "DESDOBRAMENTO\n",
      "[nan '§4o. Se o crime é cometido:'\n",
      " 'Possuir, deter, portar, adquirir, fornecer, receber, ter em depósito...'\n",
      " 'caput. Subtrair coisa móvel alheia, mediante grave ameaça ou violência a pessoa'\n",
      " 'Nas mesmas penas incorrem quem (Par. único)'\n",
      " '§5o. Se a subtração for de veículo automotor que venha a ser transportado'\n",
      " 'caput. Opor-se à execução de ato legal, mediante violência ou ameaça'\n",
      " 'i) à incolumidade física do indivíduo;'\n",
      " '§1o. Se o ato, em razão da resistência, não se executa'\n",
      " 'Caput Corromper ou facilitar a corrupção de menor de 18 (dezoito) anos']\n"
     ]
    }
   ],
   "source": [
    "print(\"EXAME\")\n",
    "print(df.EXAME.unique()[:10],'\\n')\n",
    "print(\"RUBRICA\")\n",
    "print(df.RUBRICA.unique()[:10],'\\n')\n",
    "print(\"ESPECIE\")\n",
    "print(df.ESPECIE.unique()[:10],'\\n')\n",
    "print(\"DESDOBRAMENTO\")\n",
    "print(df.DESDOBRAMENTO.unique()[:10])\n"
   ]
  },
  {
   "cell_type": "code",
   "execution_count": 13,
   "id": "crucial-replica",
   "metadata": {},
   "outputs": [],
   "source": [
    "eliminar = [\"EXAME\", \"RUBRICA\", \"ESPECIE\", \"DESDOBRAMENTO\"]\n",
    "\n",
    "df.drop(eliminar, axis=1, inplace=True)"
   ]
  },
  {
   "cell_type": "code",
   "execution_count": 14,
   "id": "graduate-kingdom",
   "metadata": {},
   "outputs": [
    {
     "data": {
      "text/plain": [
       "(6258784, 39)"
      ]
     },
     "execution_count": 14,
     "metadata": {},
     "output_type": "execute_result"
    }
   ],
   "source": [
    "df.shape"
   ]
  },
  {
   "cell_type": "markdown",
   "id": "sudden-animation",
   "metadata": {},
   "source": [
    "## Analise de variáveis"
   ]
  },
  {
   "cell_type": "code",
   "execution_count": 15,
   "id": "cordless-coalition",
   "metadata": {},
   "outputs": [
    {
     "data": {
      "text/plain": [
       "Index(['ANO_BO', 'NUM_BO', 'NUMERO_BOLETIM', 'BO_INICIADO', 'BO_EMITIDO',\n",
       "       'DATAOCORRENCIA', 'HORAOCORRENCIA', 'PERIDOOCORRENCIA',\n",
       "       'DATACOMUNICACAO', 'DATAELABORACAO', 'BO_AUTORIA', 'FLAGRANTE',\n",
       "       'NUMERO_BOLETIM_PRINCIPAL', 'LOGRADOURO', 'NUMERO', 'BAIRRO', 'CIDADE',\n",
       "       'UF', 'LATITUDE', 'LONGITUDE', 'DESCRICAOLOCAL', 'SOLUCAO',\n",
       "       'DELEGACIA_NOME', 'DELEGACIA_CIRCUNSCRICAO', 'STATUS', 'VITIMAFATAL',\n",
       "       'PLACA_VEICULO', 'UF_VEICULO', 'CIDADE_VEICULO', 'DESCR_COR_VEICULO',\n",
       "       'DESCR_MARCA_VEICULO', 'ANO_FABRICACAO', 'ANO_MODELO',\n",
       "       'DESCR_TIPO_VEICULO', 'QUANT_CELULAR', 'MARCA_CELULAR', 'ROUBO_C',\n",
       "       'ROUBO_V', 'FURTO_V'],\n",
       "      dtype='object')"
      ]
     },
     "execution_count": 15,
     "metadata": {},
     "output_type": "execute_result"
    }
   ],
   "source": [
    "df.columns"
   ]
  },
  {
   "cell_type": "code",
   "execution_count": 16,
   "id": "expected-jesus",
   "metadata": {
    "scrolled": false
   },
   "outputs": [
    {
     "data": {
      "text/html": [
       "<div>\n",
       "<style scoped>\n",
       "    .dataframe tbody tr th:only-of-type {\n",
       "        vertical-align: middle;\n",
       "    }\n",
       "\n",
       "    .dataframe tbody tr th {\n",
       "        vertical-align: top;\n",
       "    }\n",
       "\n",
       "    .dataframe thead th {\n",
       "        text-align: right;\n",
       "    }\n",
       "</style>\n",
       "<table border=\"1\" class=\"dataframe\">\n",
       "  <thead>\n",
       "    <tr style=\"text-align: right;\">\n",
       "      <th></th>\n",
       "      <th>ANO_BO</th>\n",
       "      <th>NUM_BO</th>\n",
       "      <th>NUMERO_BOLETIM</th>\n",
       "      <th>BO_INICIADO</th>\n",
       "      <th>BO_EMITIDO</th>\n",
       "      <th>DATAOCORRENCIA</th>\n",
       "      <th>HORAOCORRENCIA</th>\n",
       "      <th>PERIDOOCORRENCIA</th>\n",
       "      <th>DATACOMUNICACAO</th>\n",
       "      <th>DATAELABORACAO</th>\n",
       "      <th>BO_AUTORIA</th>\n",
       "      <th>FLAGRANTE</th>\n",
       "      <th>NUMERO_BOLETIM_PRINCIPAL</th>\n",
       "      <th>LOGRADOURO</th>\n",
       "      <th>NUMERO</th>\n",
       "      <th>BAIRRO</th>\n",
       "      <th>CIDADE</th>\n",
       "      <th>UF</th>\n",
       "      <th>LATITUDE</th>\n",
       "      <th>LONGITUDE</th>\n",
       "      <th>DESCRICAOLOCAL</th>\n",
       "      <th>SOLUCAO</th>\n",
       "      <th>DELEGACIA_NOME</th>\n",
       "      <th>DELEGACIA_CIRCUNSCRICAO</th>\n",
       "      <th>STATUS</th>\n",
       "      <th>VITIMAFATAL</th>\n",
       "      <th>PLACA_VEICULO</th>\n",
       "      <th>UF_VEICULO</th>\n",
       "      <th>CIDADE_VEICULO</th>\n",
       "      <th>DESCR_COR_VEICULO</th>\n",
       "      <th>DESCR_MARCA_VEICULO</th>\n",
       "      <th>ANO_FABRICACAO</th>\n",
       "      <th>ANO_MODELO</th>\n",
       "      <th>DESCR_TIPO_VEICULO</th>\n",
       "      <th>QUANT_CELULAR</th>\n",
       "      <th>MARCA_CELULAR</th>\n",
       "      <th>ROUBO_C</th>\n",
       "      <th>ROUBO_V</th>\n",
       "      <th>FURTO_V</th>\n",
       "    </tr>\n",
       "  </thead>\n",
       "  <tbody>\n",
       "    <tr>\n",
       "      <th>6258779</th>\n",
       "      <td>2020</td>\n",
       "      <td>1441970</td>\n",
       "      <td>1441970/2020</td>\n",
       "      <td>30/09/2020 23:09:23</td>\n",
       "      <td>30/09/2020 23:07:52</td>\n",
       "      <td>30/09/2020</td>\n",
       "      <td>20:42</td>\n",
       "      <td>A NOITE</td>\n",
       "      <td>30/09/2020</td>\n",
       "      <td>30/09/2020 23:09:23</td>\n",
       "      <td>Desconhecida</td>\n",
       "      <td>Não</td>\n",
       "      <td>NaN</td>\n",
       "      <td>RUA ANDRÉIA DA SILVA BARROS</td>\n",
       "      <td>347.0</td>\n",
       "      <td>JARDIM TERRAS DE SANTO ANTONIO</td>\n",
       "      <td>HORTOLANDIA</td>\n",
       "      <td>SP</td>\n",
       "      <td>-22,9062783537479</td>\n",
       "      <td>-47,1787835739918</td>\n",
       "      <td>Garagem ou abrigo de residência</td>\n",
       "      <td>BO PARA INVESTIGAÇÃO</td>\n",
       "      <td>DELEGACIA ELETRONICA</td>\n",
       "      <td>01º D.P. HORTOLÂNDIA</td>\n",
       "      <td>Consumado</td>\n",
       "      <td>NaN</td>\n",
       "      <td>NaN</td>\n",
       "      <td>SP</td>\n",
       "      <td>NaN</td>\n",
       "      <td>Preta</td>\n",
       "      <td>HONDA/CG 125 TITAN</td>\n",
       "      <td>NaN</td>\n",
       "      <td>NaN</td>\n",
       "      <td>MOTOCICLO</td>\n",
       "      <td>NaN</td>\n",
       "      <td>NaN</td>\n",
       "      <td>0</td>\n",
       "      <td>1</td>\n",
       "      <td>0</td>\n",
       "    </tr>\n",
       "    <tr>\n",
       "      <th>6258780</th>\n",
       "      <td>2020</td>\n",
       "      <td>1441970</td>\n",
       "      <td>1441970/2020</td>\n",
       "      <td>30/09/2020 23:09:23</td>\n",
       "      <td>30/09/2020 23:07:52</td>\n",
       "      <td>30/09/2020</td>\n",
       "      <td>20:42</td>\n",
       "      <td>A NOITE</td>\n",
       "      <td>30/09/2020</td>\n",
       "      <td>30/09/2020 23:09:23</td>\n",
       "      <td>Desconhecida</td>\n",
       "      <td>Não</td>\n",
       "      <td>NaN</td>\n",
       "      <td>RUA ANDRÉIA DA SILVA BARROS</td>\n",
       "      <td>347.0</td>\n",
       "      <td>JARDIM TERRAS DE SANTO ANTONIO</td>\n",
       "      <td>HORTOLANDIA</td>\n",
       "      <td>SP</td>\n",
       "      <td>-22,9062783537479</td>\n",
       "      <td>-47,1787835739918</td>\n",
       "      <td>Garagem ou abrigo de residência</td>\n",
       "      <td>BO PARA INVESTIGAÇÃO</td>\n",
       "      <td>DELEGACIA ELETRONICA</td>\n",
       "      <td>01º D.P. HORTOLÂNDIA</td>\n",
       "      <td>Consumado</td>\n",
       "      <td>NaN</td>\n",
       "      <td>DPL1580</td>\n",
       "      <td>SP</td>\n",
       "      <td>CAMPINAS</td>\n",
       "      <td>Vermelho</td>\n",
       "      <td>YAMAHA/FZ25 FAZER</td>\n",
       "      <td>2019.0</td>\n",
       "      <td>NaN</td>\n",
       "      <td>MOTOCICLO</td>\n",
       "      <td>NaN</td>\n",
       "      <td>NaN</td>\n",
       "      <td>0</td>\n",
       "      <td>1</td>\n",
       "      <td>0</td>\n",
       "    </tr>\n",
       "    <tr>\n",
       "      <th>6258781</th>\n",
       "      <td>2020</td>\n",
       "      <td>1440526</td>\n",
       "      <td>1440526/2020</td>\n",
       "      <td>30/09/2020 17:46:46</td>\n",
       "      <td>30/09/2020 23:08:45</td>\n",
       "      <td>30/09/2020</td>\n",
       "      <td>10:45</td>\n",
       "      <td>PELA MANHÃ</td>\n",
       "      <td>30/09/2020</td>\n",
       "      <td>30/09/2020 17:46:46</td>\n",
       "      <td>Desconhecida</td>\n",
       "      <td>Não</td>\n",
       "      <td>NaN</td>\n",
       "      <td>AVENIDA RAIMUNDO PEREIRA DE MAGALHÃES</td>\n",
       "      <td>12495.0</td>\n",
       "      <td>JARDIM MARILU</td>\n",
       "      <td>S.PAULO</td>\n",
       "      <td>SP</td>\n",
       "      <td>-23,4307817</td>\n",
       "      <td>-46,7203606</td>\n",
       "      <td>Via pública</td>\n",
       "      <td>BO PARA REGISTRO</td>\n",
       "      <td>DELEGACIA ELETRONICA</td>\n",
       "      <td>46º D.P. PERUS</td>\n",
       "      <td>Consumado</td>\n",
       "      <td>NaN</td>\n",
       "      <td>EVI5936</td>\n",
       "      <td>SP</td>\n",
       "      <td>VALINHOS</td>\n",
       "      <td>Branco</td>\n",
       "      <td>I/IVECO DAILY 35S14GV</td>\n",
       "      <td>2011.0</td>\n",
       "      <td>NaN</td>\n",
       "      <td>AUTOMOVEL</td>\n",
       "      <td>NaN</td>\n",
       "      <td>NaN</td>\n",
       "      <td>0</td>\n",
       "      <td>1</td>\n",
       "      <td>0</td>\n",
       "    </tr>\n",
       "    <tr>\n",
       "      <th>6258782</th>\n",
       "      <td>2020</td>\n",
       "      <td>1439915</td>\n",
       "      <td>1439915/2020</td>\n",
       "      <td>30/09/2020 16:25:49</td>\n",
       "      <td>30/09/2020 23:33:10</td>\n",
       "      <td>29/09/2020</td>\n",
       "      <td>11:20</td>\n",
       "      <td>PELA MANHÃ</td>\n",
       "      <td>30/09/2020</td>\n",
       "      <td>30/09/2020 16:25:49</td>\n",
       "      <td>Desconhecida</td>\n",
       "      <td>Não</td>\n",
       "      <td>NaN</td>\n",
       "      <td>ESTRADA TURÍSTICA DO JARAGUÁ</td>\n",
       "      <td>700.0</td>\n",
       "      <td>VILA JARAGUÁ</td>\n",
       "      <td>S.PAULO</td>\n",
       "      <td>SP</td>\n",
       "      <td>-23,4880678</td>\n",
       "      <td>-46,7554815</td>\n",
       "      <td>Via pública</td>\n",
       "      <td>ENCAMINHAMENTO DP ÁREA DO FATO</td>\n",
       "      <td>DELEGACIA ELETRONICA</td>\n",
       "      <td>46º D.P. PERUS</td>\n",
       "      <td>Consumado</td>\n",
       "      <td>NaN</td>\n",
       "      <td>FSK6835</td>\n",
       "      <td>SP</td>\n",
       "      <td>SÃO PAULO</td>\n",
       "      <td>Branco</td>\n",
       "      <td>I/M.BENZ 311CDISTREETC</td>\n",
       "      <td>2014.0</td>\n",
       "      <td>NaN</td>\n",
       "      <td>AUTOMOVEL</td>\n",
       "      <td>NaN</td>\n",
       "      <td>NaN</td>\n",
       "      <td>0</td>\n",
       "      <td>1</td>\n",
       "      <td>0</td>\n",
       "    </tr>\n",
       "    <tr>\n",
       "      <th>6258783</th>\n",
       "      <td>2020</td>\n",
       "      <td>2624</td>\n",
       "      <td>2624/2020</td>\n",
       "      <td>30/09/2020 23:19:28</td>\n",
       "      <td>30/09/2020 23:37:33</td>\n",
       "      <td>30/09/2020</td>\n",
       "      <td>22:30</td>\n",
       "      <td>A NOITE</td>\n",
       "      <td>30/09/2020</td>\n",
       "      <td>30/09/2020 23:19:28</td>\n",
       "      <td>Desconhecida</td>\n",
       "      <td>Não</td>\n",
       "      <td>NaN</td>\n",
       "      <td>RODOVIA SP 332</td>\n",
       "      <td>45.0</td>\n",
       "      <td>CRISTAL PARQUE</td>\n",
       "      <td>FRANCO DA ROCHA</td>\n",
       "      <td>SP</td>\n",
       "      <td>-23,2960414</td>\n",
       "      <td>-46,777100127</td>\n",
       "      <td>Via pública</td>\n",
       "      <td>ENCAMINHAMENTO DP ÁREA DO FATO</td>\n",
       "      <td>DEL.POL.FRANCISCO MORATO</td>\n",
       "      <td>DEL.POL.FRANCO ROCHA</td>\n",
       "      <td>Consumado</td>\n",
       "      <td>NaN</td>\n",
       "      <td>EFL8943</td>\n",
       "      <td>SP</td>\n",
       "      <td>CAJAMAR</td>\n",
       "      <td>Vermelho</td>\n",
       "      <td>HONDA/XRE 300</td>\n",
       "      <td>2010.0</td>\n",
       "      <td>2011.0</td>\n",
       "      <td>MOTOCICLO</td>\n",
       "      <td>NaN</td>\n",
       "      <td>NaN</td>\n",
       "      <td>0</td>\n",
       "      <td>1</td>\n",
       "      <td>0</td>\n",
       "    </tr>\n",
       "  </tbody>\n",
       "</table>\n",
       "</div>"
      ],
      "text/plain": [
       "         ANO_BO   NUM_BO NUMERO_BOLETIM          BO_INICIADO  \\\n",
       "6258779    2020  1441970   1441970/2020  30/09/2020 23:09:23   \n",
       "6258780    2020  1441970   1441970/2020  30/09/2020 23:09:23   \n",
       "6258781    2020  1440526   1440526/2020  30/09/2020 17:46:46   \n",
       "6258782    2020  1439915   1439915/2020  30/09/2020 16:25:49   \n",
       "6258783    2020     2624      2624/2020  30/09/2020 23:19:28   \n",
       "\n",
       "                  BO_EMITIDO DATAOCORRENCIA HORAOCORRENCIA PERIDOOCORRENCIA  \\\n",
       "6258779  30/09/2020 23:07:52     30/09/2020          20:42          A NOITE   \n",
       "6258780  30/09/2020 23:07:52     30/09/2020          20:42          A NOITE   \n",
       "6258781  30/09/2020 23:08:45     30/09/2020          10:45       PELA MANHÃ   \n",
       "6258782  30/09/2020 23:33:10     29/09/2020          11:20       PELA MANHÃ   \n",
       "6258783  30/09/2020 23:37:33     30/09/2020          22:30          A NOITE   \n",
       "\n",
       "        DATACOMUNICACAO       DATAELABORACAO    BO_AUTORIA FLAGRANTE  \\\n",
       "6258779      30/09/2020  30/09/2020 23:09:23  Desconhecida       Não   \n",
       "6258780      30/09/2020  30/09/2020 23:09:23  Desconhecida       Não   \n",
       "6258781      30/09/2020  30/09/2020 17:46:46  Desconhecida       Não   \n",
       "6258782      30/09/2020  30/09/2020 16:25:49  Desconhecida       Não   \n",
       "6258783      30/09/2020  30/09/2020 23:19:28  Desconhecida       Não   \n",
       "\n",
       "        NUMERO_BOLETIM_PRINCIPAL                             LOGRADOURO  \\\n",
       "6258779                      NaN            RUA ANDRÉIA DA SILVA BARROS   \n",
       "6258780                      NaN            RUA ANDRÉIA DA SILVA BARROS   \n",
       "6258781                      NaN  AVENIDA RAIMUNDO PEREIRA DE MAGALHÃES   \n",
       "6258782                      NaN           ESTRADA TURÍSTICA DO JARAGUÁ   \n",
       "6258783                      NaN                         RODOVIA SP 332   \n",
       "\n",
       "          NUMERO                          BAIRRO           CIDADE  UF  \\\n",
       "6258779    347.0  JARDIM TERRAS DE SANTO ANTONIO      HORTOLANDIA  SP   \n",
       "6258780    347.0  JARDIM TERRAS DE SANTO ANTONIO      HORTOLANDIA  SP   \n",
       "6258781  12495.0                   JARDIM MARILU          S.PAULO  SP   \n",
       "6258782    700.0                    VILA JARAGUÁ          S.PAULO  SP   \n",
       "6258783     45.0                  CRISTAL PARQUE  FRANCO DA ROCHA  SP   \n",
       "\n",
       "                  LATITUDE          LONGITUDE  \\\n",
       "6258779  -22,9062783537479  -47,1787835739918   \n",
       "6258780  -22,9062783537479  -47,1787835739918   \n",
       "6258781        -23,4307817        -46,7203606   \n",
       "6258782        -23,4880678        -46,7554815   \n",
       "6258783        -23,2960414      -46,777100127   \n",
       "\n",
       "                          DESCRICAOLOCAL                         SOLUCAO  \\\n",
       "6258779  Garagem ou abrigo de residência            BO PARA INVESTIGAÇÃO   \n",
       "6258780  Garagem ou abrigo de residência            BO PARA INVESTIGAÇÃO   \n",
       "6258781                      Via pública                BO PARA REGISTRO   \n",
       "6258782                      Via pública  ENCAMINHAMENTO DP ÁREA DO FATO   \n",
       "6258783                      Via pública  ENCAMINHAMENTO DP ÁREA DO FATO   \n",
       "\n",
       "                   DELEGACIA_NOME DELEGACIA_CIRCUNSCRICAO     STATUS  \\\n",
       "6258779      DELEGACIA ELETRONICA    01º D.P. HORTOLÂNDIA  Consumado   \n",
       "6258780      DELEGACIA ELETRONICA    01º D.P. HORTOLÂNDIA  Consumado   \n",
       "6258781      DELEGACIA ELETRONICA          46º D.P. PERUS  Consumado   \n",
       "6258782      DELEGACIA ELETRONICA          46º D.P. PERUS  Consumado   \n",
       "6258783  DEL.POL.FRANCISCO MORATO    DEL.POL.FRANCO ROCHA  Consumado   \n",
       "\n",
       "        VITIMAFATAL PLACA_VEICULO UF_VEICULO CIDADE_VEICULO DESCR_COR_VEICULO  \\\n",
       "6258779         NaN           NaN         SP            NaN             Preta   \n",
       "6258780         NaN       DPL1580         SP       CAMPINAS          Vermelho   \n",
       "6258781         NaN       EVI5936         SP       VALINHOS            Branco   \n",
       "6258782         NaN       FSK6835         SP      SÃO PAULO            Branco   \n",
       "6258783         NaN       EFL8943         SP        CAJAMAR          Vermelho   \n",
       "\n",
       "            DESCR_MARCA_VEICULO  ANO_FABRICACAO  ANO_MODELO  \\\n",
       "6258779      HONDA/CG 125 TITAN             NaN         NaN   \n",
       "6258780       YAMAHA/FZ25 FAZER          2019.0         NaN   \n",
       "6258781   I/IVECO DAILY 35S14GV          2011.0         NaN   \n",
       "6258782  I/M.BENZ 311CDISTREETC          2014.0         NaN   \n",
       "6258783           HONDA/XRE 300          2010.0      2011.0   \n",
       "\n",
       "        DESCR_TIPO_VEICULO QUANT_CELULAR MARCA_CELULAR  ROUBO_C  ROUBO_V  \\\n",
       "6258779          MOTOCICLO           NaN           NaN        0        1   \n",
       "6258780          MOTOCICLO           NaN           NaN        0        1   \n",
       "6258781          AUTOMOVEL           NaN           NaN        0        1   \n",
       "6258782          AUTOMOVEL           NaN           NaN        0        1   \n",
       "6258783          MOTOCICLO           NaN           NaN        0        1   \n",
       "\n",
       "         FURTO_V  \n",
       "6258779        0  \n",
       "6258780        0  \n",
       "6258781        0  \n",
       "6258782        0  \n",
       "6258783        0  "
      ]
     },
     "execution_count": 16,
     "metadata": {},
     "output_type": "execute_result"
    }
   ],
   "source": [
    "df.tail()"
   ]
  },
  {
   "cell_type": "code",
   "execution_count": 17,
   "id": "stunning-backup",
   "metadata": {},
   "outputs": [
    {
     "data": {
      "text/plain": [
       "ANO_BO                        int64\n",
       "NUM_BO                        int64\n",
       "NUMERO_BOLETIM               object\n",
       "BO_INICIADO                  object\n",
       "BO_EMITIDO                   object\n",
       "DATAOCORRENCIA               object\n",
       "HORAOCORRENCIA               object\n",
       "PERIDOOCORRENCIA             object\n",
       "DATACOMUNICACAO              object\n",
       "DATAELABORACAO               object\n",
       "BO_AUTORIA                   object\n",
       "FLAGRANTE                    object\n",
       "NUMERO_BOLETIM_PRINCIPAL     object\n",
       "LOGRADOURO                   object\n",
       "NUMERO                       object\n",
       "BAIRRO                       object\n",
       "CIDADE                       object\n",
       "UF                           object\n",
       "LATITUDE                     object\n",
       "LONGITUDE                    object\n",
       "DESCRICAOLOCAL               object\n",
       "SOLUCAO                      object\n",
       "DELEGACIA_NOME               object\n",
       "DELEGACIA_CIRCUNSCRICAO      object\n",
       "STATUS                       object\n",
       "VITIMAFATAL                  object\n",
       "PLACA_VEICULO                object\n",
       "UF_VEICULO                   object\n",
       "CIDADE_VEICULO               object\n",
       "DESCR_COR_VEICULO            object\n",
       "DESCR_MARCA_VEICULO          object\n",
       "ANO_FABRICACAO              float64\n",
       "ANO_MODELO                  float64\n",
       "DESCR_TIPO_VEICULO           object\n",
       "QUANT_CELULAR                object\n",
       "MARCA_CELULAR                object\n",
       "ROUBO_C                       int64\n",
       "ROUBO_V                       int64\n",
       "FURTO_V                       int64\n",
       "dtype: object"
      ]
     },
     "execution_count": 17,
     "metadata": {},
     "output_type": "execute_result"
    }
   ],
   "source": [
    "df.dtypes"
   ]
  },
  {
   "cell_type": "markdown",
   "id": "rotary-finance",
   "metadata": {},
   "source": [
    "### Colunas que devem ser convertidas para datas / inteiros / categoricos"
   ]
  },
  {
   "cell_type": "code",
   "execution_count": 18,
   "id": "conservative-agency",
   "metadata": {},
   "outputs": [],
   "source": [
    "datas = ['BO_INICIADO', 'BO_EMITIDO',\n",
    "       'DATAOCORRENCIA', 'HORAOCORRENCIA',\n",
    "       'DATACOMUNICACAO', 'DATAELABORACAO']\n",
    "inteiros = ['NUMERO', 'ANO_FABRICACAO', 'ANO_MODELO', 'QUANT_CELULAR']\n",
    "\n",
    "categoricos = ['PERIDOOCORRENCIA', 'BO_AUTORIA', 'FLAGRANTE',\n",
    "       'DESCRICAOLOCAL', 'SOLUCAO', 'STATUS',\n",
    "       'VITIMAFATAL', 'DESCR_COR_VEICULO',\n",
    "       'DESCR_TIPO_VEICULO']\n"
   ]
  },
  {
   "cell_type": "markdown",
   "id": "molecular-onion",
   "metadata": {},
   "source": [
    "#### Variáveis Categóricas"
   ]
  },
  {
   "cell_type": "code",
   "execution_count": 19,
   "id": "gorgeous-crest",
   "metadata": {},
   "outputs": [],
   "source": [
    "df[categoricos] = df[categoricos].astype(\"category\")"
   ]
  },
  {
   "cell_type": "code",
   "execution_count": 20,
   "id": "hazardous-robert",
   "metadata": {
    "scrolled": false
   },
   "outputs": [
    {
     "name": "stdout",
     "output_type": "stream",
     "text": [
      "<class 'pandas.core.frame.DataFrame'>\n",
      "RangeIndex: 6258784 entries, 0 to 6258783\n",
      "Data columns (total 39 columns):\n",
      " #   Column                    Dtype   \n",
      "---  ------                    -----   \n",
      " 0   ANO_BO                    int64   \n",
      " 1   NUM_BO                    int64   \n",
      " 2   NUMERO_BOLETIM            object  \n",
      " 3   BO_INICIADO               object  \n",
      " 4   BO_EMITIDO                object  \n",
      " 5   DATAOCORRENCIA            object  \n",
      " 6   HORAOCORRENCIA            object  \n",
      " 7   PERIDOOCORRENCIA          category\n",
      " 8   DATACOMUNICACAO           object  \n",
      " 9   DATAELABORACAO            object  \n",
      " 10  BO_AUTORIA                category\n",
      " 11  FLAGRANTE                 category\n",
      " 12  NUMERO_BOLETIM_PRINCIPAL  object  \n",
      " 13  LOGRADOURO                object  \n",
      " 14  NUMERO                    object  \n",
      " 15  BAIRRO                    object  \n",
      " 16  CIDADE                    object  \n",
      " 17  UF                        object  \n",
      " 18  LATITUDE                  object  \n",
      " 19  LONGITUDE                 object  \n",
      " 20  DESCRICAOLOCAL            category\n",
      " 21  SOLUCAO                   category\n",
      " 22  DELEGACIA_NOME            object  \n",
      " 23  DELEGACIA_CIRCUNSCRICAO   object  \n",
      " 24  STATUS                    category\n",
      " 25  VITIMAFATAL               category\n",
      " 26  PLACA_VEICULO             object  \n",
      " 27  UF_VEICULO                object  \n",
      " 28  CIDADE_VEICULO            object  \n",
      " 29  DESCR_COR_VEICULO         category\n",
      " 30  DESCR_MARCA_VEICULO       object  \n",
      " 31  ANO_FABRICACAO            float64 \n",
      " 32  ANO_MODELO                float64 \n",
      " 33  DESCR_TIPO_VEICULO        category\n",
      " 34  QUANT_CELULAR             object  \n",
      " 35  MARCA_CELULAR             object  \n",
      " 36  ROUBO_C                   int64   \n",
      " 37  ROUBO_V                   int64   \n",
      " 38  FURTO_V                   int64   \n",
      "dtypes: category(9), float64(2), int64(5), object(23)\n",
      "memory usage: 1.5+ GB\n"
     ]
    }
   ],
   "source": [
    "df.info()"
   ]
  },
  {
   "cell_type": "markdown",
   "id": "romantic-measure",
   "metadata": {},
   "source": [
    "#### Variáveis Númericas"
   ]
  },
  {
   "cell_type": "code",
   "execution_count": 21,
   "id": "damaged-applicant",
   "metadata": {},
   "outputs": [
    {
     "data": {
      "text/plain": [
       "Index(['ANO_BO', 'NUM_BO', 'ANO_FABRICACAO', 'ANO_MODELO', 'ROUBO_C',\n",
       "       'ROUBO_V', 'FURTO_V'],\n",
       "      dtype='object')"
      ]
     },
     "execution_count": 21,
     "metadata": {},
     "output_type": "execute_result"
    }
   ],
   "source": [
    "df.select_dtypes(include=['integer', 'float']).columns"
   ]
  },
  {
   "cell_type": "markdown",
   "id": "short-bachelor",
   "metadata": {},
   "source": [
    "Verificar se os valores de cada uma das colunas estão consistentes"
   ]
  },
  {
   "cell_type": "markdown",
   "id": "charged-fight",
   "metadata": {},
   "source": [
    "##### ANO_BO"
   ]
  },
  {
   "cell_type": "code",
   "execution_count": 23,
   "id": "compound-discovery",
   "metadata": {},
   "outputs": [
    {
     "data": {
      "text/plain": [
       "array([2009, 2010, 2011, 2012, 2017, 2013, 2016, 2014, 2015, 2018, 2019,\n",
       "       2020], dtype=int64)"
      ]
     },
     "execution_count": 23,
     "metadata": {},
     "output_type": "execute_result"
    }
   ],
   "source": [
    "df['ANO_BO'].unique()"
   ]
  },
  {
   "cell_type": "markdown",
   "id": "accessory-raising",
   "metadata": {},
   "source": [
    "##### NUM_BO"
   ]
  },
  {
   "cell_type": "code",
   "execution_count": 24,
   "id": "natural-general",
   "metadata": {},
   "outputs": [
    {
     "data": {
      "text/html": [
       "<div>\n",
       "<style scoped>\n",
       "    .dataframe tbody tr th:only-of-type {\n",
       "        vertical-align: middle;\n",
       "    }\n",
       "\n",
       "    .dataframe tbody tr th {\n",
       "        vertical-align: top;\n",
       "    }\n",
       "\n",
       "    .dataframe thead th {\n",
       "        text-align: right;\n",
       "    }\n",
       "</style>\n",
       "<table border=\"1\" class=\"dataframe\">\n",
       "  <thead>\n",
       "    <tr style=\"text-align: right;\">\n",
       "      <th></th>\n",
       "      <th>ANO_BO</th>\n",
       "      <th>NUM_BO</th>\n",
       "      <th>NUMERO_BOLETIM</th>\n",
       "      <th>BO_INICIADO</th>\n",
       "      <th>BO_EMITIDO</th>\n",
       "      <th>DATAOCORRENCIA</th>\n",
       "      <th>HORAOCORRENCIA</th>\n",
       "      <th>PERIDOOCORRENCIA</th>\n",
       "      <th>DATACOMUNICACAO</th>\n",
       "      <th>DATAELABORACAO</th>\n",
       "      <th>BO_AUTORIA</th>\n",
       "      <th>FLAGRANTE</th>\n",
       "      <th>NUMERO_BOLETIM_PRINCIPAL</th>\n",
       "      <th>LOGRADOURO</th>\n",
       "      <th>NUMERO</th>\n",
       "      <th>BAIRRO</th>\n",
       "      <th>CIDADE</th>\n",
       "      <th>UF</th>\n",
       "      <th>LATITUDE</th>\n",
       "      <th>LONGITUDE</th>\n",
       "      <th>DESCRICAOLOCAL</th>\n",
       "      <th>SOLUCAO</th>\n",
       "      <th>DELEGACIA_NOME</th>\n",
       "      <th>DELEGACIA_CIRCUNSCRICAO</th>\n",
       "      <th>STATUS</th>\n",
       "      <th>VITIMAFATAL</th>\n",
       "      <th>PLACA_VEICULO</th>\n",
       "      <th>UF_VEICULO</th>\n",
       "      <th>CIDADE_VEICULO</th>\n",
       "      <th>DESCR_COR_VEICULO</th>\n",
       "      <th>DESCR_MARCA_VEICULO</th>\n",
       "      <th>ANO_FABRICACAO</th>\n",
       "      <th>ANO_MODELO</th>\n",
       "      <th>DESCR_TIPO_VEICULO</th>\n",
       "      <th>QUANT_CELULAR</th>\n",
       "      <th>MARCA_CELULAR</th>\n",
       "      <th>ROUBO_C</th>\n",
       "      <th>ROUBO_V</th>\n",
       "      <th>FURTO_V</th>\n",
       "    </tr>\n",
       "  </thead>\n",
       "  <tbody>\n",
       "  </tbody>\n",
       "</table>\n",
       "</div>"
      ],
      "text/plain": [
       "Empty DataFrame\n",
       "Columns: [ANO_BO, NUM_BO, NUMERO_BOLETIM, BO_INICIADO, BO_EMITIDO, DATAOCORRENCIA, HORAOCORRENCIA, PERIDOOCORRENCIA, DATACOMUNICACAO, DATAELABORACAO, BO_AUTORIA, FLAGRANTE, NUMERO_BOLETIM_PRINCIPAL, LOGRADOURO, NUMERO, BAIRRO, CIDADE, UF, LATITUDE, LONGITUDE, DESCRICAOLOCAL, SOLUCAO, DELEGACIA_NOME, DELEGACIA_CIRCUNSCRICAO, STATUS, VITIMAFATAL, PLACA_VEICULO, UF_VEICULO, CIDADE_VEICULO, DESCR_COR_VEICULO, DESCR_MARCA_VEICULO, ANO_FABRICACAO, ANO_MODELO, DESCR_TIPO_VEICULO, QUANT_CELULAR, MARCA_CELULAR, ROUBO_C, ROUBO_V, FURTO_V]\n",
       "Index: []"
      ]
     },
     "execution_count": 24,
     "metadata": {},
     "output_type": "execute_result"
    }
   ],
   "source": [
    "df.loc[df['NUM_BO'] < 0]"
   ]
  },
  {
   "cell_type": "markdown",
   "id": "pacific-three",
   "metadata": {},
   "source": [
    "##### NUMERO"
   ]
  },
  {
   "cell_type": "code",
   "execution_count": 25,
   "id": "normal-equity",
   "metadata": {},
   "outputs": [],
   "source": [
    "df = df[(df['NUMERO'] != 'Título II - Patrimônio (arts. 155 a 183)') & (df['NUMERO'] != '96º D.P. MONÇÕES')]"
   ]
  },
  {
   "cell_type": "code",
   "execution_count": 26,
   "id": "detected-transition",
   "metadata": {},
   "outputs": [
    {
     "name": "stdout",
     "output_type": "stream",
     "text": [
      "NUMERO\n",
      "ANO_FABRICACAO\n",
      "ANO_MODELO\n",
      "QUANT_CELULAR\n"
     ]
    }
   ],
   "source": [
    "for i in inteiros:\n",
    "    print(i)\n",
    "    df[i] = pd.to_numeric(df[i].replace(np.nan, 0), downcast='integer', errors='coerce')"
   ]
  },
  {
   "cell_type": "markdown",
   "id": "affecting-physiology",
   "metadata": {},
   "source": [
    "Na coluna número é possivel ver que tem alguns números negativos, para isso vamos considerá-los como positivos"
   ]
  },
  {
   "cell_type": "code",
   "execution_count": 27,
   "id": "secure-absolute",
   "metadata": {},
   "outputs": [],
   "source": [
    "pd.set_option('display.float_format', lambda x: '%.0f' % x)"
   ]
  },
  {
   "cell_type": "code",
   "execution_count": 28,
   "id": "traditional-pension",
   "metadata": {},
   "outputs": [
    {
     "data": {
      "text/plain": [
       "count      6258782\n",
       "mean         27959\n",
       "std        5103881\n",
       "min         -19739\n",
       "25%              0\n",
       "50%            100\n",
       "75%            440\n",
       "max     1998810785\n",
       "Name: NUMERO, dtype: float64"
      ]
     },
     "execution_count": 28,
     "metadata": {},
     "output_type": "execute_result"
    }
   ],
   "source": [
    "df['NUMERO'].describe()"
   ]
  },
  {
   "cell_type": "code",
   "execution_count": 29,
   "id": "gothic-remainder",
   "metadata": {},
   "outputs": [
    {
     "data": {
      "text/plain": [
       "7"
      ]
     },
     "execution_count": 29,
     "metadata": {},
     "output_type": "execute_result"
    }
   ],
   "source": [
    "len(df.loc[df['NUMERO'] < 0])"
   ]
  },
  {
   "cell_type": "code",
   "execution_count": 30,
   "id": "dressed-listening",
   "metadata": {},
   "outputs": [],
   "source": [
    "df['NUMERO'] = np.where((df['NUMERO'] < 0), abs(df['NUMERO']), df['NUMERO'])"
   ]
  },
  {
   "cell_type": "code",
   "execution_count": 31,
   "id": "handy-render",
   "metadata": {},
   "outputs": [
    {
     "data": {
      "text/html": [
       "<div>\n",
       "<style scoped>\n",
       "    .dataframe tbody tr th:only-of-type {\n",
       "        vertical-align: middle;\n",
       "    }\n",
       "\n",
       "    .dataframe tbody tr th {\n",
       "        vertical-align: top;\n",
       "    }\n",
       "\n",
       "    .dataframe thead th {\n",
       "        text-align: right;\n",
       "    }\n",
       "</style>\n",
       "<table border=\"1\" class=\"dataframe\">\n",
       "  <thead>\n",
       "    <tr style=\"text-align: right;\">\n",
       "      <th></th>\n",
       "      <th>ANO_BO</th>\n",
       "      <th>NUM_BO</th>\n",
       "      <th>NUMERO_BOLETIM</th>\n",
       "      <th>BO_INICIADO</th>\n",
       "      <th>BO_EMITIDO</th>\n",
       "      <th>DATAOCORRENCIA</th>\n",
       "      <th>HORAOCORRENCIA</th>\n",
       "      <th>PERIDOOCORRENCIA</th>\n",
       "      <th>DATACOMUNICACAO</th>\n",
       "      <th>DATAELABORACAO</th>\n",
       "      <th>BO_AUTORIA</th>\n",
       "      <th>FLAGRANTE</th>\n",
       "      <th>NUMERO_BOLETIM_PRINCIPAL</th>\n",
       "      <th>LOGRADOURO</th>\n",
       "      <th>NUMERO</th>\n",
       "      <th>BAIRRO</th>\n",
       "      <th>CIDADE</th>\n",
       "      <th>UF</th>\n",
       "      <th>LATITUDE</th>\n",
       "      <th>LONGITUDE</th>\n",
       "      <th>DESCRICAOLOCAL</th>\n",
       "      <th>SOLUCAO</th>\n",
       "      <th>DELEGACIA_NOME</th>\n",
       "      <th>DELEGACIA_CIRCUNSCRICAO</th>\n",
       "      <th>STATUS</th>\n",
       "      <th>VITIMAFATAL</th>\n",
       "      <th>PLACA_VEICULO</th>\n",
       "      <th>UF_VEICULO</th>\n",
       "      <th>CIDADE_VEICULO</th>\n",
       "      <th>DESCR_COR_VEICULO</th>\n",
       "      <th>DESCR_MARCA_VEICULO</th>\n",
       "      <th>ANO_FABRICACAO</th>\n",
       "      <th>ANO_MODELO</th>\n",
       "      <th>DESCR_TIPO_VEICULO</th>\n",
       "      <th>QUANT_CELULAR</th>\n",
       "      <th>MARCA_CELULAR</th>\n",
       "      <th>ROUBO_C</th>\n",
       "      <th>ROUBO_V</th>\n",
       "      <th>FURTO_V</th>\n",
       "    </tr>\n",
       "  </thead>\n",
       "  <tbody>\n",
       "  </tbody>\n",
       "</table>\n",
       "</div>"
      ],
      "text/plain": [
       "Empty DataFrame\n",
       "Columns: [ANO_BO, NUM_BO, NUMERO_BOLETIM, BO_INICIADO, BO_EMITIDO, DATAOCORRENCIA, HORAOCORRENCIA, PERIDOOCORRENCIA, DATACOMUNICACAO, DATAELABORACAO, BO_AUTORIA, FLAGRANTE, NUMERO_BOLETIM_PRINCIPAL, LOGRADOURO, NUMERO, BAIRRO, CIDADE, UF, LATITUDE, LONGITUDE, DESCRICAOLOCAL, SOLUCAO, DELEGACIA_NOME, DELEGACIA_CIRCUNSCRICAO, STATUS, VITIMAFATAL, PLACA_VEICULO, UF_VEICULO, CIDADE_VEICULO, DESCR_COR_VEICULO, DESCR_MARCA_VEICULO, ANO_FABRICACAO, ANO_MODELO, DESCR_TIPO_VEICULO, QUANT_CELULAR, MARCA_CELULAR, ROUBO_C, ROUBO_V, FURTO_V]\n",
       "Index: []"
      ]
     },
     "execution_count": 31,
     "metadata": {},
     "output_type": "execute_result"
    }
   ],
   "source": [
    "df.loc[df['NUMERO'] < 0]"
   ]
  },
  {
   "cell_type": "markdown",
   "id": "horizontal-conversion",
   "metadata": {},
   "source": [
    "Também é possivel identificar diversos números muito maiores do que o encontrados normalmente em nossas ruas, mas fica impossivel saber qual seria a numeração correta\n",
    "\n",
    "primeiramente será feito um filtro onde todos os números maiors do que 9 mil serão avaliados e contados"
   ]
  },
  {
   "cell_type": "code",
   "execution_count": 32,
   "id": "extreme-opposition",
   "metadata": {},
   "outputs": [
    {
     "data": {
      "text/plain": [
       "77718"
      ]
     },
     "execution_count": 32,
     "metadata": {},
     "output_type": "execute_result"
    }
   ],
   "source": [
    "out_num = df['NUMERO'].loc[df['NUMERO'] > 9000].value_counts().sum()\n",
    "out_num"
   ]
  },
  {
   "cell_type": "code",
   "execution_count": 33,
   "id": "polyphonic-irish",
   "metadata": {},
   "outputs": [
    {
     "data": {
      "text/plain": [
       "99999    15463\n",
       "9999      6957\n",
       "10000     3818\n",
       "12000     2192\n",
       "15000     1743\n",
       "11000     1496\n",
       "11111     1252\n",
       "13000     1004\n",
       "22540      956\n",
       "16000      932\n",
       "14000      819\n",
       "18000      668\n",
       "20000      665\n",
       "25000      653\n",
       "17000      653\n",
       "16741      645\n",
       "10500      606\n",
       "11500      555\n",
       "9500       531\n",
       "22000      469\n",
       "Name: NUMERO, dtype: int64"
      ]
     },
     "execution_count": 33,
     "metadata": {},
     "output_type": "execute_result"
    }
   ],
   "source": [
    "#20 primeiros registros com números maiores do que 9mil\n",
    "df['NUMERO'].loc[df['NUMERO'] > 9000].value_counts().head(20)"
   ]
  },
  {
   "cell_type": "code",
   "execution_count": 34,
   "id": "alpha-productivity",
   "metadata": {},
   "outputs": [
    {
     "name": "stdout",
     "output_type": "stream",
     "text": [
      "1.24% dos dados possuem número da rua maior do que 9 mil\n"
     ]
    }
   ],
   "source": [
    "out_num_p100 = out_num*100 / df.shape[0] \n",
    "print('{}% dos dados possuem número da rua maior do que 9 mil'.format(round(out_num_p100, 2)))"
   ]
  },
  {
   "cell_type": "markdown",
   "id": "necessary-wedding",
   "metadata": {},
   "source": [
    "Por ser uma quantia não tão significante, esses números considerados como número \"1\"\n"
   ]
  },
  {
   "cell_type": "code",
   "execution_count": 35,
   "id": "cordless-wheel",
   "metadata": {},
   "outputs": [],
   "source": [
    "df['NUMERO'] = np.where((df['NUMERO'] > 9000), 1, df['NUMERO'])"
   ]
  },
  {
   "cell_type": "markdown",
   "id": "limiting-angle",
   "metadata": {},
   "source": [
    "Ao mesmo tempo existem mais de 1,73 milhão de registros com o número zero (27,64%), estes também serão passados para \"1\""
   ]
  },
  {
   "cell_type": "code",
   "execution_count": 36,
   "id": "chinese-leave",
   "metadata": {},
   "outputs": [
    {
     "name": "stdout",
     "output_type": "stream",
     "text": [
      "1730148 entradas com valor \"zero\"\n",
      "27.64 %\n"
     ]
    }
   ],
   "source": [
    "print(df['NUMERO'].loc[df['NUMERO'] == 0].value_counts().sum(), 'entradas com valor \"zero\"')\n",
    "print(round(100*df['NUMERO'].loc[df['NUMERO'] == 0].value_counts().sum() / df.shape[0],2), '%')\n"
   ]
  },
  {
   "cell_type": "code",
   "execution_count": 37,
   "id": "successful-price",
   "metadata": {},
   "outputs": [],
   "source": [
    "df['NUMERO'] = np.where((df['NUMERO'] == 0 ), 1, df['NUMERO'])"
   ]
  },
  {
   "cell_type": "code",
   "execution_count": 38,
   "id": "quantitative-trial",
   "metadata": {},
   "outputs": [
    {
     "data": {
      "text/plain": [
       "count   6258782\n",
       "mean        450\n",
       "std         998\n",
       "min           1\n",
       "25%           1\n",
       "50%         100\n",
       "75%         402\n",
       "max        9000\n",
       "Name: NUMERO, dtype: float64"
      ]
     },
     "execution_count": 38,
     "metadata": {},
     "output_type": "execute_result"
    }
   ],
   "source": [
    "df['NUMERO'].describe()"
   ]
  },
  {
   "cell_type": "markdown",
   "id": "criminal-discussion",
   "metadata": {},
   "source": [
    "#####  ANO_FABRICACAO"
   ]
  },
  {
   "cell_type": "markdown",
   "id": "czech-religious",
   "metadata": {},
   "source": [
    "Podemos verificar que há diversos anos de fabricação que não consistem com a realidade, uma vez que o primeiro automovel foi fabricado em 1886\n",
    "\n",
    "Alguns deste valores como apenas \"8\" poderia representar \"2008\", outras como \"95\" poderiam ser \"1995\", mas como não tem como ter certeza, não podemos assumir isso logo de primeira.\n",
    "\n",
    "O primeiro carro fabricado no Brasil foi no ano de 1956, pela Romi-sIetta\n"
   ]
  },
  {
   "cell_type": "code",
   "execution_count": 39,
   "id": "rapid-bookmark",
   "metadata": {},
   "outputs": [
    {
     "data": {
      "text/plain": [
       "array([1997, 1974, 2000, 2006,    0, 2008, 1994, 2007, 1989, 1985, 2002,\n",
       "       2005, 1990, 1992, 1984, 1995, 1991, 1999, 2001, 2003, 1987, 2004,\n",
       "       1996, 1988, 1983, 1993, 1982, 1998, 1975, 2009, 1979, 1976, 1986,\n",
       "       1977, 1980, 1970, 1971, 1978, 1973, 1969, 1981, 1964, 1966, 1968,\n",
       "       1972, 1967, 1965, 2010,  200,  198, 1098, 2101, 1962, 2011, 1961,\n",
       "         84, 1081, 1963, 1957,    7,    4, 1952, 1959,   89,  209, 2099,\n",
       "       1960, 1841,   91, 2088, 1958,   98,   10,  978, 1951, 1899,  201,\n",
       "       1928, 2012,  985, 2066, 2013,   12, 2998,   95, 8989, 2207,   97,\n",
       "       2911, 2021, 2014, 3013, 2912, 1190,  202, 9394,   87,  992, 1085,\n",
       "       1948,  211,  708, 1112, 1013, 2104, 2103, 1898, 2015, 2913, 1093,\n",
       "       1191, 1195,  193, 1910,  213, 1193, 1079, 1883, 1083, 1944, 1889,\n",
       "        910, 1111,  997, 1515, 1414,  304, 1194,  607, 1415, 1011, 1940,\n",
       "       1199, 2206, 1010,   73, 1945, 1213, 1088,   99, 1914,    6,   96,\n",
       "       1947, 7998,  809,   93, 1884, 1903, 2016,  207,  205, 1314, 1956,\n",
       "       1911,   88, 1949, 1881, 1895, 1516,  998,   46, 3011, 2017, 1930,\n",
       "       1939,  405,   13, 1955, 1196, 1197,  210,   85, 2018, 1912, 1954,\n",
       "       2019, 1092, 1313,   92, 1929,  218, 1918, 2020,  199,  219,   20,\n",
       "       1499,   94,  203, 1020,   76,  712, 5004, 1005,  208,   11, 7907,\n",
       "       1012, 1212, 2107,    8,   14, 2208,    9, 2209, 2022,  204,    2,\n",
       "       2112, 1367,  412,  707, 1039,   16,  506, 1617, 2106], dtype=int16)"
      ]
     },
     "execution_count": 39,
     "metadata": {},
     "output_type": "execute_result"
    }
   ],
   "source": [
    "df['ANO_FABRICACAO'].unique()"
   ]
  },
  {
   "cell_type": "markdown",
   "id": "existing-ukraine",
   "metadata": {},
   "source": [
    "\n",
    "- Primeiro passo será separar todas as entradas menor que 1950 e maior que 2020\n",
    "- Depois contar qual a quantidade e a porcentagem destas entradas em relação aos demais\n",
    "- Analisar em detalhes alguns destes valores por amostragem"
   ]
  },
  {
   "cell_type": "code",
   "execution_count": 40,
   "id": "complex-charter",
   "metadata": {},
   "outputs": [
    {
     "name": "stdout",
     "output_type": "stream",
     "text": [
      "467 Entradas onde Ano de fabricação é menor que 1950, maior que 2020 e diferente de zero\n",
      "0.01% do total de entradas\n"
     ]
    }
   ],
   "source": [
    "#seleciona os campos onde Ano de Fabricação é menor que 1950 e maior que 2020\n",
    "ano_fab = df.query('ANO_FABRICACAO < 1950 or ANO_FABRICACAO > 2020')\n",
    "\n",
    "#Seleciona os campos onde Ano de Fabricação é diferente de zero\n",
    "ano_fab = ano_fab.loc[df.ANO_FABRICACAO != 0]\n",
    "print(len(ano_fab), 'Entradas onde Ano de fabricação é menor que 1950, maior que 2020 e diferente de zero')\n",
    "print('{}% do total de entradas'.format(round(len(ano_fab)*100 / df.shape[0],2)))"
   ]
  },
  {
   "cell_type": "code",
   "execution_count": 41,
   "id": "manual-electron",
   "metadata": {
    "scrolled": false
   },
   "outputs": [
    {
     "data": {
      "text/html": [
       "<div>\n",
       "<style scoped>\n",
       "    .dataframe tbody tr th:only-of-type {\n",
       "        vertical-align: middle;\n",
       "    }\n",
       "\n",
       "    .dataframe tbody tr th {\n",
       "        vertical-align: top;\n",
       "    }\n",
       "\n",
       "    .dataframe thead th {\n",
       "        text-align: right;\n",
       "    }\n",
       "</style>\n",
       "<table border=\"1\" class=\"dataframe\">\n",
       "  <thead>\n",
       "    <tr style=\"text-align: right;\">\n",
       "      <th></th>\n",
       "      <th>ANO_BO</th>\n",
       "      <th>PLACA_VEICULO</th>\n",
       "      <th>DESCR_MARCA_VEICULO</th>\n",
       "      <th>DESCR_TIPO_VEICULO</th>\n",
       "      <th>ANO_FABRICACAO</th>\n",
       "      <th>ANO_MODELO</th>\n",
       "    </tr>\n",
       "  </thead>\n",
       "  <tbody>\n",
       "    <tr>\n",
       "      <th>265403</th>\n",
       "      <td>2012</td>\n",
       "      <td>CFJ8507</td>\n",
       "      <td>H/HONDA CG 125</td>\n",
       "      <td>MOTOCICLO</td>\n",
       "      <td>985</td>\n",
       "      <td>1985</td>\n",
       "    </tr>\n",
       "    <tr>\n",
       "      <th>5881117</th>\n",
       "      <td>2017</td>\n",
       "      <td>PZN3268</td>\n",
       "      <td>FIAT/FIAT UNO S</td>\n",
       "      <td>AUTOMOVEL</td>\n",
       "      <td>2107</td>\n",
       "      <td>2018</td>\n",
       "    </tr>\n",
       "    <tr>\n",
       "      <th>6232869</th>\n",
       "      <td>2020</td>\n",
       "      <td>LRF8342</td>\n",
       "      <td>I/BMW X5 M COMPETITION</td>\n",
       "      <td>AUTOMOVEL</td>\n",
       "      <td>13</td>\n",
       "      <td>0</td>\n",
       "    </tr>\n",
       "    <tr>\n",
       "      <th>4655453</th>\n",
       "      <td>2011</td>\n",
       "      <td>MFE2419</td>\n",
       "      <td>SR/RODOTECNICA SRT TQ2</td>\n",
       "      <td>SEMI-REBOQUE</td>\n",
       "      <td>207</td>\n",
       "      <td>2007</td>\n",
       "    </tr>\n",
       "    <tr>\n",
       "      <th>1921541</th>\n",
       "      <td>2011</td>\n",
       "      <td>AMJ8941</td>\n",
       "      <td>M.BENZ/LS 1634</td>\n",
       "      <td>CAMINHÃO TRATOR</td>\n",
       "      <td>5004</td>\n",
       "      <td>2004</td>\n",
       "    </tr>\n",
       "    <tr>\n",
       "      <th>1456835</th>\n",
       "      <td>2020</td>\n",
       "      <td>DYZ2042</td>\n",
       "      <td>H/HONDA 150</td>\n",
       "      <td>MOTOCICLO</td>\n",
       "      <td>200</td>\n",
       "      <td>0</td>\n",
       "    </tr>\n",
       "    <tr>\n",
       "      <th>1994237</th>\n",
       "      <td>2012</td>\n",
       "      <td>AQL1447</td>\n",
       "      <td>VW/25.370 CLM T 6X2</td>\n",
       "      <td>CAMINHÃO TRATOR</td>\n",
       "      <td>208</td>\n",
       "      <td>2008</td>\n",
       "    </tr>\n",
       "    <tr>\n",
       "      <th>2946306</th>\n",
       "      <td>2015</td>\n",
       "      <td>FMQ1566</td>\n",
       "      <td>FIAT/FIAT</td>\n",
       "      <td>AUTOMOVEL</td>\n",
       "      <td>213</td>\n",
       "      <td>214</td>\n",
       "    </tr>\n",
       "    <tr>\n",
       "      <th>2356315</th>\n",
       "      <td>2013</td>\n",
       "      <td>AWI7907</td>\n",
       "      <td>FIAT/MILLE ECONOMY</td>\n",
       "      <td>AUTOMOVEL</td>\n",
       "      <td>7907</td>\n",
       "      <td>2012</td>\n",
       "    </tr>\n",
       "    <tr>\n",
       "      <th>2356317</th>\n",
       "      <td>2013</td>\n",
       "      <td>AWI7907</td>\n",
       "      <td>FIAT/MILLE ECONOMY</td>\n",
       "      <td>AUTOMOVEL</td>\n",
       "      <td>7907</td>\n",
       "      <td>2012</td>\n",
       "    </tr>\n",
       "    <tr>\n",
       "      <th>5506106</th>\n",
       "      <td>2015</td>\n",
       "      <td>FMQ1566</td>\n",
       "      <td>FIAT/FIAT</td>\n",
       "      <td>AUTOMOVEL</td>\n",
       "      <td>213</td>\n",
       "      <td>214</td>\n",
       "    </tr>\n",
       "    <tr>\n",
       "      <th>196073</th>\n",
       "      <td>2011</td>\n",
       "      <td>HLG1524</td>\n",
       "      <td>FIAT/PALIO FIRE ECONOMY</td>\n",
       "      <td>AUTOMOVEL</td>\n",
       "      <td>10</td>\n",
       "      <td>0</td>\n",
       "    </tr>\n",
       "    <tr>\n",
       "      <th>4899998</th>\n",
       "      <td>2012</td>\n",
       "      <td>NZO3112</td>\n",
       "      <td>IMP/VOLVO</td>\n",
       "      <td>CAMINHÃO</td>\n",
       "      <td>1011</td>\n",
       "      <td>0</td>\n",
       "    </tr>\n",
       "    <tr>\n",
       "      <th>4640950</th>\n",
       "      <td>2011</td>\n",
       "      <td>GMQ6569</td>\n",
       "      <td>FORD/ESCORT L</td>\n",
       "      <td>AUTOMOVEL</td>\n",
       "      <td>84</td>\n",
       "      <td>84</td>\n",
       "    </tr>\n",
       "    <tr>\n",
       "      <th>1234830</th>\n",
       "      <td>2018</td>\n",
       "      <td>IJM0929</td>\n",
       "      <td>IMP/FORD</td>\n",
       "      <td>AUTOMOVEL</td>\n",
       "      <td>1930</td>\n",
       "      <td>1930</td>\n",
       "    </tr>\n",
       "    <tr>\n",
       "      <th>123214</th>\n",
       "      <td>2010</td>\n",
       "      <td>HBT</td>\n",
       "      <td>HONDA/CBX 250 TWISTER</td>\n",
       "      <td>MOTOCICLO</td>\n",
       "      <td>1841</td>\n",
       "      <td>0</td>\n",
       "    </tr>\n",
       "    <tr>\n",
       "      <th>1971234</th>\n",
       "      <td>2012</td>\n",
       "      <td>NKA5421</td>\n",
       "      <td>REB/NOMA SR2E18RT1 CG</td>\n",
       "      <td>SEMI-REBOQUE</td>\n",
       "      <td>2207</td>\n",
       "      <td>2008</td>\n",
       "    </tr>\n",
       "    <tr>\n",
       "      <th>4498844</th>\n",
       "      <td>2010</td>\n",
       "      <td>KJS7088</td>\n",
       "      <td>HONDA/XR 250 TORNADO</td>\n",
       "      <td>MOTOCICLO</td>\n",
       "      <td>205</td>\n",
       "      <td>0</td>\n",
       "    </tr>\n",
       "    <tr>\n",
       "      <th>1009939</th>\n",
       "      <td>2016</td>\n",
       "      <td>FJT5760</td>\n",
       "      <td>CHEVROLET/CELTA 1.0L LT</td>\n",
       "      <td>AUTOMOVEL</td>\n",
       "      <td>1314</td>\n",
       "      <td>1314</td>\n",
       "    </tr>\n",
       "    <tr>\n",
       "      <th>1296448</th>\n",
       "      <td>2018</td>\n",
       "      <td>BGS9643</td>\n",
       "      <td>IMP/VW GOL GL 1.8</td>\n",
       "      <td>AUTOMOVEL</td>\n",
       "      <td>92</td>\n",
       "      <td>92</td>\n",
       "    </tr>\n",
       "  </tbody>\n",
       "</table>\n",
       "</div>"
      ],
      "text/plain": [
       "         ANO_BO PLACA_VEICULO      DESCR_MARCA_VEICULO DESCR_TIPO_VEICULO  \\\n",
       "265403     2012       CFJ8507           H/HONDA CG 125          MOTOCICLO   \n",
       "5881117    2017       PZN3268          FIAT/FIAT UNO S          AUTOMOVEL   \n",
       "6232869    2020       LRF8342   I/BMW X5 M COMPETITION          AUTOMOVEL   \n",
       "4655453    2011       MFE2419   SR/RODOTECNICA SRT TQ2       SEMI-REBOQUE   \n",
       "1921541    2011       AMJ8941           M.BENZ/LS 1634    CAMINHÃO TRATOR   \n",
       "1456835    2020       DYZ2042              H/HONDA 150          MOTOCICLO   \n",
       "1994237    2012       AQL1447      VW/25.370 CLM T 6X2    CAMINHÃO TRATOR   \n",
       "2946306    2015       FMQ1566                FIAT/FIAT          AUTOMOVEL   \n",
       "2356315    2013       AWI7907       FIAT/MILLE ECONOMY          AUTOMOVEL   \n",
       "2356317    2013       AWI7907       FIAT/MILLE ECONOMY          AUTOMOVEL   \n",
       "5506106    2015       FMQ1566                FIAT/FIAT          AUTOMOVEL   \n",
       "196073     2011       HLG1524  FIAT/PALIO FIRE ECONOMY          AUTOMOVEL   \n",
       "4899998    2012       NZO3112                IMP/VOLVO           CAMINHÃO   \n",
       "4640950    2011       GMQ6569            FORD/ESCORT L          AUTOMOVEL   \n",
       "1234830    2018       IJM0929                 IMP/FORD          AUTOMOVEL   \n",
       "123214     2010           HBT    HONDA/CBX 250 TWISTER          MOTOCICLO   \n",
       "1971234    2012       NKA5421    REB/NOMA SR2E18RT1 CG       SEMI-REBOQUE   \n",
       "4498844    2010       KJS7088     HONDA/XR 250 TORNADO          MOTOCICLO   \n",
       "1009939    2016       FJT5760  CHEVROLET/CELTA 1.0L LT          AUTOMOVEL   \n",
       "1296448    2018       BGS9643        IMP/VW GOL GL 1.8          AUTOMOVEL   \n",
       "\n",
       "         ANO_FABRICACAO  ANO_MODELO  \n",
       "265403              985        1985  \n",
       "5881117            2107        2018  \n",
       "6232869              13           0  \n",
       "4655453             207        2007  \n",
       "1921541            5004        2004  \n",
       "1456835             200           0  \n",
       "1994237             208        2008  \n",
       "2946306             213         214  \n",
       "2356315            7907        2012  \n",
       "2356317            7907        2012  \n",
       "5506106             213         214  \n",
       "196073               10           0  \n",
       "4899998            1011           0  \n",
       "4640950              84          84  \n",
       "1234830            1930        1930  \n",
       "123214             1841           0  \n",
       "1971234            2207        2008  \n",
       "4498844             205           0  \n",
       "1009939            1314        1314  \n",
       "1296448              92          92  "
      ]
     },
     "execution_count": 41,
     "metadata": {},
     "output_type": "execute_result"
    }
   ],
   "source": [
    "# seleciona 20 amostras aleatórias para uma avaliação mais detalhada\n",
    "ano_fab[['ANO_BO', 'PLACA_VEICULO', 'DESCR_MARCA_VEICULO', 'DESCR_TIPO_VEICULO', 'ANO_FABRICACAO', 'ANO_MODELO']].sample(n=20, random_state=111)"
   ]
  },
  {
   "cell_type": "markdown",
   "id": "favorite-kruger",
   "metadata": {},
   "source": [
    "Conforme observado na tabela acima se analisado o campo `DESCR_MARCA_VEICULO`, `ANO_FABRICACAO` e `ANO_MODELO`, a maioria dos casos está claro que foram erros de digitação e poderiam ser facilmente arrumados.\n",
    "\n",
    "No entanto por se tratar apenas de 0,01% de todos os registros esses valores serão considerados como \"0\""
   ]
  },
  {
   "cell_type": "code",
   "execution_count": 42,
   "id": "considerable-collapse",
   "metadata": {},
   "outputs": [
    {
     "name": "stderr",
     "output_type": "stream",
     "text": [
      "c:\\users\\caior\\appdata\\local\\programs\\python\\python39\\lib\\site-packages\\pandas\\core\\indexing.py:1637: SettingWithCopyWarning: \n",
      "A value is trying to be set on a copy of a slice from a DataFrame\n",
      "\n",
      "See the caveats in the documentation: https://pandas.pydata.org/pandas-docs/stable/user_guide/indexing.html#returning-a-view-versus-a-copy\n",
      "  self._setitem_single_block(indexer, value, name)\n"
     ]
    }
   ],
   "source": [
    "#seleciona a coluna ANO_FABRICACAO onde o index é igual do dataset \"ano_fab\" e define os valores como \"0\"\n",
    "df['ANO_FABRICACAO'].loc[ano_fab.index] = 0"
   ]
  },
  {
   "cell_type": "code",
   "execution_count": 43,
   "id": "inappropriate-graphics",
   "metadata": {},
   "outputs": [
    {
     "data": {
      "text/plain": [
       "array([1997, 1974, 2000, 2006,    0, 2008, 1994, 2007, 1989, 1985, 2002,\n",
       "       2005, 1990, 1992, 1984, 1995, 1991, 1999, 2001, 2003, 1987, 2004,\n",
       "       1996, 1988, 1983, 1993, 1982, 1998, 1975, 2009, 1979, 1976, 1986,\n",
       "       1977, 1980, 1970, 1971, 1978, 1973, 1969, 1981, 1964, 1966, 1968,\n",
       "       1972, 1967, 1965, 2010, 1962, 2011, 1961, 1963, 1957, 1952, 1959,\n",
       "       1960, 1958, 1951, 2012, 2013, 2014, 2015, 2016, 1956, 2017, 1955,\n",
       "       2018, 1954, 2019, 2020], dtype=int16)"
      ]
     },
     "execution_count": 43,
     "metadata": {},
     "output_type": "execute_result"
    }
   ],
   "source": [
    "df['ANO_FABRICACAO'].unique()"
   ]
  },
  {
   "cell_type": "markdown",
   "id": "cathedral-particle",
   "metadata": {},
   "source": [
    "#####  ANO_MODELO"
   ]
  },
  {
   "cell_type": "markdown",
   "id": "saving-transition",
   "metadata": {},
   "source": [
    "Repetir os mesmos passos do `ANO_FABRICACAO` mas com `ANO_MODELO` até 2021\n",
    "\n",
    "com o comando `df.ANO_MODELO.unique()` já é possivel identificar que há divergências nos valores \n"
   ]
  },
  {
   "cell_type": "code",
   "execution_count": 44,
   "id": "hazardous-geology",
   "metadata": {},
   "outputs": [
    {
     "data": {
      "text/plain": [
       "array([1997, 1974, 2001, 2006, 1998,    0, 2008, 2007, 1994, 1989, 1985,\n",
       "       2002, 2005, 1990, 1992, 1984, 1996, 1991, 2000, 2009, 2003, 1987,\n",
       "       1995, 2004, 1988, 1983, 1999, 1986, 1993, 1982, 1975, 1979, 1976,\n",
       "       1977, 2010, 1980, 1971, 1978, 1973, 1969, 1981, 1964, 1966, 1968,\n",
       "       1972,  125, 1600, 1970, 1967, 1965,  313, 5610, 2011, 1962, 4000,\n",
       "       4013, 1218,  100, 1961,   84,   40, 1963, 1957,    8, 2020,    4,\n",
       "       1952,  275, 1620, 1720, 1959, 1155,   89, 8140, 7630,  290, 1684,\n",
       "       1634,  150, 1960, 2855,  500,    6,  250, 2012,   16, 5516,   91,\n",
       "       3020,  580,  200,  285,  450, 1016, 1606, 1958,  400,   98, 1000,\n",
       "       1951,  980, 1928, 9996,   10,    5, 2013, 2408,   12, 1111, 1518,\n",
       "       2322,   97, 2207, 3514, 8150, 2208, 2066, 2014, 1780, 2913,   93,\n",
       "       1190, 4283, 9394,  350, 1195,   88,   13, 3013,  815,    1, 9600,\n",
       "       4600,  416,  292, 1948,  213,  112, 1013, 2015,  708,  750, 1112,\n",
       "       1898,  265, 2103, 1093,  320, 1191, 2033, 1910,  188, 1193, 1079,\n",
       "        120, 1883, 1083,  180, 1944, 1889, 2113,  910, 1515, 7854, 1414,\n",
       "        304,  607,  785, 1415, 2016, 1011, 6600, 4275,  207, 1940,   20,\n",
       "       1199, 1010,   73, 1945, 1194,  283, 1213,  660, 4292, 1088, 2017,\n",
       "        196,  300,   49, 1914,   96,   85, 1947,  809,   94, 1884, 1314,\n",
       "        658, 1956,  216,  938, 1911, 1300, 1949, 1881, 1895,   65, 1516,\n",
       "       1244, 2075,  998,   46,    3, 2018, 1930, 1939,  405,   14, 1313,\n",
       "       1955, 1196, 1197,  230, 2206, 2019, 1912, 1954, 1092,   92, 1929,\n",
       "         99, 2021,  950, 2108,  199, 1932, 2425,  915, 1713,  440, 2422,\n",
       "       1517, 2996,  380,  420, 1242, 1933,  600, 1214, 1900, 1418, 2537,\n",
       "       1318, 1113,   76, 2220, 2044,  201, 1200, 2423, 2204,  202,  130,\n",
       "        315, 2428, 2429,  124,  211,  340, 1501, 2912,  865, 2540,  985,\n",
       "        924, 2055,  114,  802,  111, 1012, 2088,  205, 2924,  214,   50,\n",
       "       5600, 6615,  160, 2652,  217, 2301,  206,    9, 1180, 9150,  209,\n",
       "        113, 1938, 4131,  323,   95, 2209, 1215, 1718,  710, 5310, 2911,\n",
       "       1830, 2099, 1613, 3804, 2112,  413, 1513, 5049, 3551, 1618, 2426,\n",
       "       3003, 1935,   75, 1367,  412, 2102,   60,  553, 7180, 1039, 1014,\n",
       "       1212,  506, 6997, 1617, 2107,  212,  219, 8500], dtype=int16)"
      ]
     },
     "execution_count": 44,
     "metadata": {},
     "output_type": "execute_result"
    }
   ],
   "source": [
    "df.ANO_MODELO.unique()"
   ]
  },
  {
   "cell_type": "markdown",
   "id": "returning-affect",
   "metadata": {},
   "source": [
    "\n",
    "- Primeiro passo será separar todas as entradas menor que 1950 e maior que 2021\n",
    "- Depois contar qual a quantidade e a porcentagem destas entradas em relação aos demais\n",
    "- Analisar em detalhes alguns destes valores por amostragem"
   ]
  },
  {
   "cell_type": "code",
   "execution_count": 45,
   "id": "educated-telescope",
   "metadata": {},
   "outputs": [
    {
     "name": "stdout",
     "output_type": "stream",
     "text": [
      "1177 Entradas onde o ano do modelo é menor que 1950, maior que 2021 e diferente de zero\n",
      "0.02% do total de entradas\n"
     ]
    }
   ],
   "source": [
    "#seleciona os campos onde Ano de Fabricação é menor que 1950 e maior que 2020\n",
    "ano_mod = df.query('ANO_MODELO < 1950 or ANO_MODELO > 2021')\n",
    "\n",
    "#Seleciona os campos onde Ano de Fabricação é diferente de zero\n",
    "ano_mod = ano_mod.loc[df.ANO_MODELO != 0]\n",
    "print(len(ano_mod), 'Entradas onde o ano do modelo é menor que 1950, maior que 2021 e diferente de zero')\n",
    "print('{}% do total de entradas'.format(round(len(ano_mod)*100 / df.shape[0],2)))"
   ]
  },
  {
   "cell_type": "code",
   "execution_count": 46,
   "id": "micro-press",
   "metadata": {
    "scrolled": true
   },
   "outputs": [
    {
     "data": {
      "text/html": [
       "<div>\n",
       "<style scoped>\n",
       "    .dataframe tbody tr th:only-of-type {\n",
       "        vertical-align: middle;\n",
       "    }\n",
       "\n",
       "    .dataframe tbody tr th {\n",
       "        vertical-align: top;\n",
       "    }\n",
       "\n",
       "    .dataframe thead th {\n",
       "        text-align: right;\n",
       "    }\n",
       "</style>\n",
       "<table border=\"1\" class=\"dataframe\">\n",
       "  <thead>\n",
       "    <tr style=\"text-align: right;\">\n",
       "      <th></th>\n",
       "      <th>ANO_BO</th>\n",
       "      <th>PLACA_VEICULO</th>\n",
       "      <th>DESCR_MARCA_VEICULO</th>\n",
       "      <th>DESCR_TIPO_VEICULO</th>\n",
       "      <th>ANO_FABRICACAO</th>\n",
       "      <th>ANO_MODELO</th>\n",
       "    </tr>\n",
       "  </thead>\n",
       "  <tbody>\n",
       "    <tr>\n",
       "      <th>4755486</th>\n",
       "      <td>2011</td>\n",
       "      <td>MIJ9299</td>\n",
       "      <td>IMP/VOLVO</td>\n",
       "      <td>CAMINHÃO</td>\n",
       "      <td>2010</td>\n",
       "      <td>440</td>\n",
       "    </tr>\n",
       "    <tr>\n",
       "      <th>5480183</th>\n",
       "      <td>2015</td>\n",
       "      <td>NaN</td>\n",
       "      <td>I/SHINERAY XY 50 Q</td>\n",
       "      <td>MOTONETA</td>\n",
       "      <td>2013</td>\n",
       "      <td>1014</td>\n",
       "    </tr>\n",
       "    <tr>\n",
       "      <th>2311407</th>\n",
       "      <td>2013</td>\n",
       "      <td>LLN9739</td>\n",
       "      <td>I/LR DISCOVERY 4 3.0 SE</td>\n",
       "      <td>AUTOMOVEL</td>\n",
       "      <td>2011</td>\n",
       "      <td>211</td>\n",
       "    </tr>\n",
       "    <tr>\n",
       "      <th>1667813</th>\n",
       "      <td>2010</td>\n",
       "      <td>BXC2856</td>\n",
       "      <td>REB/ANTONINI</td>\n",
       "      <td>SEMI-REBOQUE</td>\n",
       "      <td>1993</td>\n",
       "      <td>1933</td>\n",
       "    </tr>\n",
       "    <tr>\n",
       "      <th>2013088</th>\n",
       "      <td>2012</td>\n",
       "      <td>HJR9607</td>\n",
       "      <td>VW/24.250</td>\n",
       "      <td>CAMINHÃO</td>\n",
       "      <td>2011</td>\n",
       "      <td>2425</td>\n",
       "    </tr>\n",
       "    <tr>\n",
       "      <th>4970816</th>\n",
       "      <td>2013</td>\n",
       "      <td>NYR6395</td>\n",
       "      <td>SCANIA/P340 BAULER CAM</td>\n",
       "      <td>CAMINHÃO TRATOR</td>\n",
       "      <td>0</td>\n",
       "      <td>340</td>\n",
       "    </tr>\n",
       "    <tr>\n",
       "      <th>4574541</th>\n",
       "      <td>2010</td>\n",
       "      <td>MFX5294</td>\n",
       "      <td>VOLVO/FH 440 6X2T</td>\n",
       "      <td>TRATOR RODAS</td>\n",
       "      <td>2008</td>\n",
       "      <td>440</td>\n",
       "    </tr>\n",
       "    <tr>\n",
       "      <th>3618602</th>\n",
       "      <td>2017</td>\n",
       "      <td>NaN</td>\n",
       "      <td>M.A./IMP TRATOR</td>\n",
       "      <td>TRATOR RODAS</td>\n",
       "      <td>0</td>\n",
       "      <td>6615</td>\n",
       "    </tr>\n",
       "    <tr>\n",
       "      <th>763734</th>\n",
       "      <td>2015</td>\n",
       "      <td>NaN</td>\n",
       "      <td>M.A./MASSEY-FERGUSON</td>\n",
       "      <td>TRATOR RODAS</td>\n",
       "      <td>2000</td>\n",
       "      <td>275</td>\n",
       "    </tr>\n",
       "    <tr>\n",
       "      <th>5527478</th>\n",
       "      <td>2015</td>\n",
       "      <td>NaN</td>\n",
       "      <td>I/SHINERAY XY 50 Q</td>\n",
       "      <td>CICLOMOTO</td>\n",
       "      <td>2015</td>\n",
       "      <td>50</td>\n",
       "    </tr>\n",
       "    <tr>\n",
       "      <th>2413752</th>\n",
       "      <td>2014</td>\n",
       "      <td>GSW1004</td>\n",
       "      <td>I/MERCEDES</td>\n",
       "      <td>CAMINHÃO</td>\n",
       "      <td>2011</td>\n",
       "      <td>1620</td>\n",
       "    </tr>\n",
       "    <tr>\n",
       "      <th>551548</th>\n",
       "      <td>2013</td>\n",
       "      <td>GMZ1043</td>\n",
       "      <td>FORD/FORD F 4000</td>\n",
       "      <td>CAMINHÃO</td>\n",
       "      <td>1989</td>\n",
       "      <td>4000</td>\n",
       "    </tr>\n",
       "    <tr>\n",
       "      <th>152542</th>\n",
       "      <td>2011</td>\n",
       "      <td>0000000</td>\n",
       "      <td>M.A./IMP TRATOR</td>\n",
       "      <td>TRATOR RODAS</td>\n",
       "      <td>1980</td>\n",
       "      <td>285</td>\n",
       "    </tr>\n",
       "    <tr>\n",
       "      <th>142674</th>\n",
       "      <td>2011</td>\n",
       "      <td>HMO8532</td>\n",
       "      <td>GM/CELTA</td>\n",
       "      <td>AUTOMOVEL</td>\n",
       "      <td>2010</td>\n",
       "      <td>3020</td>\n",
       "    </tr>\n",
       "    <tr>\n",
       "      <th>4793520</th>\n",
       "      <td>2012</td>\n",
       "      <td>GVJ6827</td>\n",
       "      <td>IMP/SCANIA T113H4X2 360</td>\n",
       "      <td>CAMINHÃO TRATOR</td>\n",
       "      <td>0</td>\n",
       "      <td>98</td>\n",
       "    </tr>\n",
       "    <tr>\n",
       "      <th>1149768</th>\n",
       "      <td>2017</td>\n",
       "      <td>NaN</td>\n",
       "      <td>MA/MASSEY MF4265</td>\n",
       "      <td>TRATOR MISTO</td>\n",
       "      <td>0</td>\n",
       "      <td>265</td>\n",
       "    </tr>\n",
       "    <tr>\n",
       "      <th>5239577</th>\n",
       "      <td>2014</td>\n",
       "      <td>FZX3635</td>\n",
       "      <td>CHEVROLET/ONIX 1.0MT LT</td>\n",
       "      <td>AUTOMOVEL</td>\n",
       "      <td>2013</td>\n",
       "      <td>10</td>\n",
       "    </tr>\n",
       "    <tr>\n",
       "      <th>326417</th>\n",
       "      <td>2012</td>\n",
       "      <td>COH1426</td>\n",
       "      <td>GM/KADETT GLS</td>\n",
       "      <td>AUTOMOVEL</td>\n",
       "      <td>0</td>\n",
       "      <td>97</td>\n",
       "    </tr>\n",
       "    <tr>\n",
       "      <th>2658770</th>\n",
       "      <td>2014</td>\n",
       "      <td>EZL8012</td>\n",
       "      <td>I/KIA KM BETA BONGO</td>\n",
       "      <td>CAMINHÃO</td>\n",
       "      <td>0</td>\n",
       "      <td>12</td>\n",
       "    </tr>\n",
       "    <tr>\n",
       "      <th>161548</th>\n",
       "      <td>2011</td>\n",
       "      <td>MSW2248</td>\n",
       "      <td>VW/CROSSFOX</td>\n",
       "      <td>AUTOMOVEL</td>\n",
       "      <td>2009</td>\n",
       "      <td>1606</td>\n",
       "    </tr>\n",
       "  </tbody>\n",
       "</table>\n",
       "</div>"
      ],
      "text/plain": [
       "         ANO_BO PLACA_VEICULO      DESCR_MARCA_VEICULO DESCR_TIPO_VEICULO  \\\n",
       "4755486    2011       MIJ9299                IMP/VOLVO           CAMINHÃO   \n",
       "5480183    2015           NaN       I/SHINERAY XY 50 Q           MOTONETA   \n",
       "2311407    2013       LLN9739  I/LR DISCOVERY 4 3.0 SE          AUTOMOVEL   \n",
       "1667813    2010       BXC2856             REB/ANTONINI       SEMI-REBOQUE   \n",
       "2013088    2012       HJR9607                VW/24.250           CAMINHÃO   \n",
       "4970816    2013       NYR6395   SCANIA/P340 BAULER CAM    CAMINHÃO TRATOR   \n",
       "4574541    2010       MFX5294        VOLVO/FH 440 6X2T       TRATOR RODAS   \n",
       "3618602    2017           NaN          M.A./IMP TRATOR       TRATOR RODAS   \n",
       "763734     2015           NaN     M.A./MASSEY-FERGUSON       TRATOR RODAS   \n",
       "5527478    2015           NaN       I/SHINERAY XY 50 Q          CICLOMOTO   \n",
       "2413752    2014       GSW1004               I/MERCEDES           CAMINHÃO   \n",
       "551548     2013       GMZ1043         FORD/FORD F 4000           CAMINHÃO   \n",
       "152542     2011       0000000          M.A./IMP TRATOR       TRATOR RODAS   \n",
       "142674     2011       HMO8532                 GM/CELTA          AUTOMOVEL   \n",
       "4793520    2012       GVJ6827  IMP/SCANIA T113H4X2 360    CAMINHÃO TRATOR   \n",
       "1149768    2017           NaN         MA/MASSEY MF4265       TRATOR MISTO   \n",
       "5239577    2014       FZX3635  CHEVROLET/ONIX 1.0MT LT          AUTOMOVEL   \n",
       "326417     2012       COH1426            GM/KADETT GLS          AUTOMOVEL   \n",
       "2658770    2014       EZL8012      I/KIA KM BETA BONGO           CAMINHÃO   \n",
       "161548     2011       MSW2248              VW/CROSSFOX          AUTOMOVEL   \n",
       "\n",
       "         ANO_FABRICACAO  ANO_MODELO  \n",
       "4755486            2010         440  \n",
       "5480183            2013        1014  \n",
       "2311407            2011         211  \n",
       "1667813            1993        1933  \n",
       "2013088            2011        2425  \n",
       "4970816               0         340  \n",
       "4574541            2008         440  \n",
       "3618602               0        6615  \n",
       "763734             2000         275  \n",
       "5527478            2015          50  \n",
       "2413752            2011        1620  \n",
       "551548             1989        4000  \n",
       "152542             1980         285  \n",
       "142674             2010        3020  \n",
       "4793520               0          98  \n",
       "1149768               0         265  \n",
       "5239577            2013          10  \n",
       "326417                0          97  \n",
       "2658770               0          12  \n",
       "161548             2009        1606  "
      ]
     },
     "execution_count": 46,
     "metadata": {},
     "output_type": "execute_result"
    }
   ],
   "source": [
    "# seleciona 20 amostras aleatórias para uma avaliação mais detalhada\n",
    "ano_mod[['ANO_BO', 'PLACA_VEICULO', 'DESCR_MARCA_VEICULO', 'DESCR_TIPO_VEICULO', 'ANO_FABRICACAO', 'ANO_MODELO']].sample(n=20, random_state=111)"
   ]
  },
  {
   "cell_type": "markdown",
   "id": "romantic-course",
   "metadata": {},
   "source": [
    "Como já \"corrigimos\" toda a coluna \"ANO_FABRICACAO\", vamos considerar que para todas essas entradas divergente que:\n",
    "```python\n",
    "ANO_MODELO = ANO_FABRICACAO\n",
    "```\n"
   ]
  },
  {
   "cell_type": "code",
   "execution_count": 47,
   "id": "certain-peeing",
   "metadata": {},
   "outputs": [],
   "source": [
    "ano_mod['ANO_MODELO'] = ano_mod['ANO_FABRICACAO']"
   ]
  },
  {
   "cell_type": "code",
   "execution_count": 48,
   "id": "acceptable-asian",
   "metadata": {
    "scrolled": true
   },
   "outputs": [
    {
     "name": "stderr",
     "output_type": "stream",
     "text": [
      "c:\\users\\caior\\appdata\\local\\programs\\python\\python39\\lib\\site-packages\\pandas\\core\\indexing.py:1637: SettingWithCopyWarning: \n",
      "A value is trying to be set on a copy of a slice from a DataFrame\n",
      "\n",
      "See the caveats in the documentation: https://pandas.pydata.org/pandas-docs/stable/user_guide/indexing.html#returning-a-view-versus-a-copy\n",
      "  self._setitem_single_block(indexer, value, name)\n"
     ]
    }
   ],
   "source": [
    "#seleciona a coluna ANO_FABRICACAO onde o index é igual do dataset \"ano_fab\" e define os valores como \"0\"\n",
    "df['ANO_MODELO'].loc[ano_mod.index] = ano_mod['ANO_MODELO']"
   ]
  },
  {
   "cell_type": "code",
   "execution_count": 49,
   "id": "spoken-scratch",
   "metadata": {},
   "outputs": [
    {
     "data": {
      "text/plain": [
       "array([1997, 1974, 2001, 2006, 1998,    0, 2008, 2007, 1994, 1989, 1985,\n",
       "       2002, 2005, 1990, 1992, 1984, 1996, 1991, 2000, 2009, 2003, 1987,\n",
       "       1995, 2004, 1988, 1983, 1999, 1986, 1993, 1982, 1975, 1979, 1976,\n",
       "       1977, 2010, 1980, 1971, 1978, 1973, 1969, 1981, 1964, 1966, 1968,\n",
       "       1972, 1970, 1967, 1965, 2011, 1962, 1961, 1963, 1957, 2020, 1952,\n",
       "       1959, 1960, 2012, 1958, 1951, 2013, 2014, 2015, 2016, 2017, 1956,\n",
       "       2018, 1955, 2019, 1954, 2021], dtype=int16)"
      ]
     },
     "execution_count": 49,
     "metadata": {},
     "output_type": "execute_result"
    }
   ],
   "source": [
    "df.ANO_MODELO.unique()"
   ]
  },
  {
   "cell_type": "markdown",
   "id": "moderate-thesis",
   "metadata": {},
   "source": [
    "#####  QUANT_CELULAR"
   ]
  },
  {
   "cell_type": "markdown",
   "id": "universal-sustainability",
   "metadata": {},
   "source": [
    "Como foi utilizado o comando \n",
    "\n",
    "```python\n",
    "errors = 'coerce'\n",
    "```\n",
    "Os valores que estavam como inválidos passaram a ser considerados NaN, é possível verificar que apenas 7 entradas estavam com essa inconsistência, por este motivo as mesmas serão eliminadas\n",
    "\n"
   ]
  },
  {
   "cell_type": "code",
   "execution_count": 50,
   "id": "found-master",
   "metadata": {},
   "outputs": [
    {
     "data": {
      "text/plain": [
       "7"
      ]
     },
     "execution_count": 50,
     "metadata": {},
     "output_type": "execute_result"
    }
   ],
   "source": [
    "df.QUANT_CELULAR.isnull().sum()"
   ]
  },
  {
   "cell_type": "code",
   "execution_count": 51,
   "id": "ahead-suspension",
   "metadata": {},
   "outputs": [],
   "source": [
    "df.dropna(subset = ['QUANT_CELULAR'], inplace=True)"
   ]
  },
  {
   "cell_type": "markdown",
   "id": "physical-rebound",
   "metadata": {},
   "source": [
    "Verificar as métricas estatisticas das quantidades de celulares roubados, apesar de aparecer alguns outliers, estes serão mantidos por poderem se tratar de roubo de carga"
   ]
  },
  {
   "cell_type": "code",
   "execution_count": 52,
   "id": "preliminary-surge",
   "metadata": {},
   "outputs": [
    {
     "data": {
      "text/plain": [
       "count    2181781\n",
       "mean           8\n",
       "std         9972\n",
       "min            1\n",
       "25%            1\n",
       "50%            1\n",
       "75%            1\n",
       "max     14728864\n",
       "Name: QUANT_CELULAR, dtype: float64"
      ]
     },
     "execution_count": 52,
     "metadata": {},
     "output_type": "execute_result"
    }
   ],
   "source": [
    "# resumo estatistico onde a quantidade de celular é diferente de zero\n",
    "df.QUANT_CELULAR.loc[df.QUANT_CELULAR != 0].describe()"
   ]
  },
  {
   "cell_type": "markdown",
   "id": "organizational-insight",
   "metadata": {},
   "source": [
    "Conforme tabela acima, é possivel ver que 75% das ocorrências acontecem com o roubo de apenas 1 celular,\n",
    "\n",
    "Para verificação de uma amostragem, será considerado apenas quantidades que estão além dos 8 sigmas (99,9994%)"
   ]
  },
  {
   "cell_type": "code",
   "execution_count": 53,
   "id": "outstanding-notion",
   "metadata": {},
   "outputs": [
    {
     "name": "stdout",
     "output_type": "stream",
     "text": [
      "99,9994% das quantidades estão abaixo de: 5760.0\n"
     ]
    }
   ],
   "source": [
    "print('99,9994% das quantidades estão abaixo de:', df.QUANT_CELULAR.loc[df.QUANT_CELULAR != 0].quantile(0.999994))"
   ]
  },
  {
   "cell_type": "markdown",
   "id": "informal-torture",
   "metadata": {},
   "source": [
    "Apenas 12 entradas estão acima de 5760 unidades roubadas, e somente 2 entradas estão com valores discrepantes dos demais, portanto essas 2 entradas serão eliminadas\n",
    "\n",
    "index:\n",
    " - 3411515\n",
    " - 3446741"
   ]
  },
  {
   "cell_type": "code",
   "execution_count": 54,
   "id": "consistent-notice",
   "metadata": {
    "scrolled": false
   },
   "outputs": [
    {
     "data": {
      "text/html": [
       "<div>\n",
       "<style scoped>\n",
       "    .dataframe tbody tr th:only-of-type {\n",
       "        vertical-align: middle;\n",
       "    }\n",
       "\n",
       "    .dataframe tbody tr th {\n",
       "        vertical-align: top;\n",
       "    }\n",
       "\n",
       "    .dataframe thead th {\n",
       "        text-align: right;\n",
       "    }\n",
       "</style>\n",
       "<table border=\"1\" class=\"dataframe\">\n",
       "  <thead>\n",
       "    <tr style=\"text-align: right;\">\n",
       "      <th></th>\n",
       "      <th>ANO_BO</th>\n",
       "      <th>NUM_BO</th>\n",
       "      <th>NUMERO_BOLETIM_PRINCIPAL</th>\n",
       "      <th>HORAOCORRENCIA</th>\n",
       "      <th>CIDADE</th>\n",
       "      <th>DESCRICAOLOCAL</th>\n",
       "      <th>QUANT_CELULAR</th>\n",
       "      <th>MARCA_CELULAR</th>\n",
       "    </tr>\n",
       "  </thead>\n",
       "  <tbody>\n",
       "    <tr>\n",
       "      <th>2496432</th>\n",
       "      <td>2014</td>\n",
       "      <td>12152</td>\n",
       "      <td>NaN</td>\n",
       "      <td>16:00</td>\n",
       "      <td>S.PAULO</td>\n",
       "      <td>Via pública</td>\n",
       "      <td>9413</td>\n",
       "      <td>ALCATEL</td>\n",
       "    </tr>\n",
       "    <tr>\n",
       "      <th>2508773</th>\n",
       "      <td>2014</td>\n",
       "      <td>14257</td>\n",
       "      <td>NaN</td>\n",
       "      <td>15:00</td>\n",
       "      <td>S.BERNARDO DO CAMPO</td>\n",
       "      <td>Via pública</td>\n",
       "      <td>9675</td>\n",
       "      <td>MOTORLA</td>\n",
       "    </tr>\n",
       "    <tr>\n",
       "      <th>2620589</th>\n",
       "      <td>2014</td>\n",
       "      <td>4646</td>\n",
       "      <td>NaN</td>\n",
       "      <td>22:20</td>\n",
       "      <td>S.PAULO</td>\n",
       "      <td>Residência</td>\n",
       "      <td>9860</td>\n",
       "      <td>MOTOROLA</td>\n",
       "    </tr>\n",
       "    <tr>\n",
       "      <th>2724402</th>\n",
       "      <td>2014</td>\n",
       "      <td>4850</td>\n",
       "      <td>NaN</td>\n",
       "      <td>00:30</td>\n",
       "      <td>DIADEMA</td>\n",
       "      <td>Via pública</td>\n",
       "      <td>9579</td>\n",
       "      <td>NaN</td>\n",
       "    </tr>\n",
       "    <tr>\n",
       "      <th>2898922</th>\n",
       "      <td>2015</td>\n",
       "      <td>1981</td>\n",
       "      <td>NaN</td>\n",
       "      <td>06:15</td>\n",
       "      <td>DIADEMA</td>\n",
       "      <td>Via pública</td>\n",
       "      <td>9844</td>\n",
       "      <td>SANSUNG GALAXY DUO</td>\n",
       "    </tr>\n",
       "    <tr>\n",
       "      <th>2900938</th>\n",
       "      <td>2015</td>\n",
       "      <td>2031</td>\n",
       "      <td>1981/2015 - 30127</td>\n",
       "      <td>06:15</td>\n",
       "      <td>DIADEMA</td>\n",
       "      <td>Via pública</td>\n",
       "      <td>9844</td>\n",
       "      <td>SANSUNG GALAXY DUO</td>\n",
       "    </tr>\n",
       "    <tr>\n",
       "      <th>3285240</th>\n",
       "      <td>2016</td>\n",
       "      <td>1924</td>\n",
       "      <td>NaN</td>\n",
       "      <td>18:30</td>\n",
       "      <td>S.PAULO</td>\n",
       "      <td>Comércio e serviços</td>\n",
       "      <td>9999</td>\n",
       "      <td>DIVERSAS</td>\n",
       "    </tr>\n",
       "    <tr>\n",
       "      <th>3411515</th>\n",
       "      <td>2017</td>\n",
       "      <td>1431</td>\n",
       "      <td>NaN</td>\n",
       "      <td>01:30</td>\n",
       "      <td>FERRAZ DE VASCONCELOS</td>\n",
       "      <td>Via pública</td>\n",
       "      <td>168455</td>\n",
       "      <td>Samsung</td>\n",
       "    </tr>\n",
       "    <tr>\n",
       "      <th>3446741</th>\n",
       "      <td>2017</td>\n",
       "      <td>1984</td>\n",
       "      <td>NaN</td>\n",
       "      <td>10:30</td>\n",
       "      <td>SUMARE</td>\n",
       "      <td>Via pública</td>\n",
       "      <td>14728864</td>\n",
       "      <td>Asus</td>\n",
       "    </tr>\n",
       "    <tr>\n",
       "      <th>3742202</th>\n",
       "      <td>2018</td>\n",
       "      <td>2900</td>\n",
       "      <td>NaN</td>\n",
       "      <td>16:55</td>\n",
       "      <td>ARARAQUARA</td>\n",
       "      <td>Comércio e serviços</td>\n",
       "      <td>9999</td>\n",
       "      <td>NaN</td>\n",
       "    </tr>\n",
       "    <tr>\n",
       "      <th>3743487</th>\n",
       "      <td>2018</td>\n",
       "      <td>1883</td>\n",
       "      <td>2900/2018 - 100908</td>\n",
       "      <td>16:55</td>\n",
       "      <td>ARARAQUARA</td>\n",
       "      <td>Comércio e serviços</td>\n",
       "      <td>9999</td>\n",
       "      <td>NaN</td>\n",
       "    </tr>\n",
       "    <tr>\n",
       "      <th>4337546</th>\n",
       "      <td>2020</td>\n",
       "      <td>594</td>\n",
       "      <td>NaN</td>\n",
       "      <td>12:00</td>\n",
       "      <td>SERTAOZINHO</td>\n",
       "      <td>Comércio e serviços</td>\n",
       "      <td>9999</td>\n",
       "      <td>NaN</td>\n",
       "    </tr>\n",
       "  </tbody>\n",
       "</table>\n",
       "</div>"
      ],
      "text/plain": [
       "         ANO_BO  NUM_BO NUMERO_BOLETIM_PRINCIPAL HORAOCORRENCIA  \\\n",
       "2496432    2014   12152                      NaN          16:00   \n",
       "2508773    2014   14257                      NaN          15:00   \n",
       "2620589    2014    4646                      NaN          22:20   \n",
       "2724402    2014    4850                      NaN          00:30   \n",
       "2898922    2015    1981                      NaN          06:15   \n",
       "2900938    2015    2031        1981/2015 - 30127          06:15   \n",
       "3285240    2016    1924                      NaN          18:30   \n",
       "3411515    2017    1431                      NaN          01:30   \n",
       "3446741    2017    1984                      NaN          10:30   \n",
       "3742202    2018    2900                      NaN          16:55   \n",
       "3743487    2018    1883       2900/2018 - 100908          16:55   \n",
       "4337546    2020     594                      NaN          12:00   \n",
       "\n",
       "                        CIDADE       DESCRICAOLOCAL  QUANT_CELULAR  \\\n",
       "2496432                S.PAULO          Via pública           9413   \n",
       "2508773    S.BERNARDO DO CAMPO          Via pública           9675   \n",
       "2620589                S.PAULO           Residência           9860   \n",
       "2724402                DIADEMA          Via pública           9579   \n",
       "2898922                DIADEMA          Via pública           9844   \n",
       "2900938                DIADEMA          Via pública           9844   \n",
       "3285240                S.PAULO  Comércio e serviços           9999   \n",
       "3411515  FERRAZ DE VASCONCELOS          Via pública         168455   \n",
       "3446741                 SUMARE          Via pública       14728864   \n",
       "3742202             ARARAQUARA  Comércio e serviços           9999   \n",
       "3743487             ARARAQUARA  Comércio e serviços           9999   \n",
       "4337546            SERTAOZINHO  Comércio e serviços           9999   \n",
       "\n",
       "              MARCA_CELULAR  \n",
       "2496432             ALCATEL  \n",
       "2508773             MOTORLA  \n",
       "2620589            MOTOROLA  \n",
       "2724402                 NaN  \n",
       "2898922  SANSUNG GALAXY DUO  \n",
       "2900938  SANSUNG GALAXY DUO  \n",
       "3285240            DIVERSAS  \n",
       "3411515             Samsung  \n",
       "3446741                Asus  \n",
       "3742202                 NaN  \n",
       "3743487                 NaN  \n",
       "4337546                 NaN  "
      ]
     },
     "execution_count": 54,
     "metadata": {},
     "output_type": "execute_result"
    }
   ],
   "source": [
    "df[['ANO_BO', 'NUM_BO', 'NUMERO_BOLETIM_PRINCIPAL', 'HORAOCORRENCIA', 'CIDADE', 'DESCRICAOLOCAL',\n",
    "    'QUANT_CELULAR', 'MARCA_CELULAR']]\\\n",
    ".loc[df.QUANT_CELULAR > df.QUANT_CELULAR.loc[df.QUANT_CELULAR != 0].quantile(0.999994)]"
   ]
  },
  {
   "cell_type": "code",
   "execution_count": 55,
   "id": "comprehensive-hurricane",
   "metadata": {},
   "outputs": [],
   "source": [
    "df.drop([3411515,3446741], axis=0, inplace=True)"
   ]
  },
  {
   "cell_type": "markdown",
   "id": "drawn-burke",
   "metadata": {},
   "source": [
    "## Salvar o arquivo em um  arquivo PARQUET"
   ]
  },
  {
   "cell_type": "code",
   "execution_count": 56,
   "id": "canadian-chambers",
   "metadata": {
    "scrolled": true
   },
   "outputs": [],
   "source": [
    "df.to_parquet('data_cleaned/ssp_cleaned.parquet', index=False)"
   ]
  },
  {
   "cell_type": "markdown",
   "id": "signal-helen",
   "metadata": {},
   "source": [
    "## Salvar o arquivo em um novo arquivo *.csv*"
   ]
  },
  {
   "cell_type": "code",
   "execution_count": 57,
   "id": "anonymous-couple",
   "metadata": {},
   "outputs": [],
   "source": [
    "df.to_csv('data_cleaned/ssp_cleaned.csv', index=False)"
   ]
  },
  {
   "cell_type": "code",
   "execution_count": null,
   "id": "massive-rapid",
   "metadata": {},
   "outputs": [],
   "source": []
  }
 ],
 "metadata": {
  "kernelspec": {
   "display_name": "Python 3",
   "language": "python",
   "name": "python3"
  },
  "language_info": {
   "codemirror_mode": {
    "name": "ipython",
    "version": 3
   },
   "file_extension": ".py",
   "mimetype": "text/x-python",
   "name": "python",
   "nbconvert_exporter": "python",
   "pygments_lexer": "ipython3",
   "version": "3.9.1"
  }
 },
 "nbformat": 4,
 "nbformat_minor": 5
}
