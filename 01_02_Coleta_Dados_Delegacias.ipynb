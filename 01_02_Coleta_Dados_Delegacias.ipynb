{
 "cells": [
  {
   "cell_type": "markdown",
   "id": "vital-overhead",
   "metadata": {},
   "source": [
    "### Coleta de endereço de delegacias\n",
    "\n",
    "Dados obtidos do site www.guiamais.com.br,\n",
    "\n",
    "Endereços de delegacias da cidade de São Bernardo do Campo\n",
    "\n",
    "\n",
    "## Importação das bibliotecas\n",
    "\n",
    " - `pandas` - Manipulação de Dataframe\n",
    " - `BeautifulSoup` - Manipulação de dados HTML\n",
    " - `urlopen` - Carregamento da URL"
   ]
  },
  {
   "cell_type": "code",
   "execution_count": 1,
   "id": "peripheral-shark",
   "metadata": {
    "scrolled": true
   },
   "outputs": [],
   "source": [
    "# importar bibliotecas\n",
    "import pandas as pd\n",
    "from bs4 import BeautifulSoup\n",
    "from urllib.request import urlopen"
   ]
  },
  {
   "cell_type": "code",
   "execution_count": 2,
   "id": "detected-prairie",
   "metadata": {},
   "outputs": [],
   "source": [
    "# carregar site\n",
    "url = 'https://www.guiamais.com.br/sao-bernardo-do-campo-sp/informacao-e-utilidade-publica/delegacias-de-policia'\n",
    "html = urlopen(url)"
   ]
  },
  {
   "cell_type": "code",
   "execution_count": 3,
   "id": "practical-hearts",
   "metadata": {},
   "outputs": [],
   "source": [
    "# ler a url aberta no BeautifulSoup\n",
    "bs = BeautifulSoup(html, 'lxml')\n"
   ]
  },
  {
   "cell_type": "markdown",
   "id": "portuguese-measurement",
   "metadata": {},
   "source": [
    "## Localizar alvo no HTML\n",
    "\n",
    "Os nomes das delegacias estão na classe `aTitle`, e os endereços se localizam na div `address`"
   ]
  },
  {
   "cell_type": "code",
   "execution_count": 4,
   "id": "iraqi-whale",
   "metadata": {},
   "outputs": [],
   "source": [
    "# localiza os nomes e os endereços\n",
    "nomes = bs.select('.aTitle')\n",
    "enderecos = bs.select('div address')\n",
    "\n",
    "#Extrai os somes e endereços\n",
    "nomes_del = []\n",
    "for nome in nomes:\n",
    "    nomes_del.append(nome.find('a').text[13:])\n",
    "    \n",
    "end_del = []\n",
    "for endereco in enderecos:\n",
    "    end_del.append(endereco.find('span').text[15:])"
   ]
  },
  {
   "cell_type": "markdown",
   "id": "burning-preview",
   "metadata": {},
   "source": [
    "Foram obtidos 20 nomes e 20 endereços"
   ]
  },
  {
   "cell_type": "code",
   "execution_count": 5,
   "id": "personalized-cincinnati",
   "metadata": {},
   "outputs": [
    {
     "name": "stdout",
     "output_type": "stream",
     "text": [
      "20 Nomes de delegacias\n",
      "20 Endereços de delegacias\n"
     ]
    }
   ],
   "source": [
    "print(len(nomes_del), 'Nomes de delegacias')\n",
    "print(len(end_del), 'Endereços de delegacias')\n"
   ]
  },
  {
   "cell_type": "markdown",
   "id": "civilian-slave",
   "metadata": {},
   "source": [
    "Como eram apenas 2 páginas de delegacias, foi feito manualmente o carregamento da segunda URL e posteriormente os dados foram incluidos no mesmo dataframe"
   ]
  },
  {
   "cell_type": "code",
   "execution_count": 6,
   "id": "dominant-singing",
   "metadata": {},
   "outputs": [],
   "source": [
    "# carregar site (Página 2)\n",
    "url2 = 'https://www.guiamais.com.br/sao-bernardo-do-campo-sp/informacao-e-utilidade-publica/delegacias-de-policia?page=2'\n",
    "html2 = urlopen(url2)\n",
    "\n",
    "# ler a url aberta no BeautifulSoup\n",
    "bs2 = BeautifulSoup(html2, 'lxml')"
   ]
  },
  {
   "cell_type": "code",
   "execution_count": 7,
   "id": "eight-impossible",
   "metadata": {},
   "outputs": [],
   "source": [
    "# localiza os nomes e os endereços\n",
    "nomes = bs.select('.aTitle')\n",
    "enderecos = bs.select('div address')\n",
    "\n",
    "#Extrai os somes e endereços\n",
    "for nome in nomes:\n",
    "    nomes_del.append(nome.find('a').text[13:]) \n",
    "\n",
    "for endereco in enderecos:\n",
    "    end_del.append(endereco.find('span').text[15:])"
   ]
  },
  {
   "cell_type": "markdown",
   "id": "desirable-hartford",
   "metadata": {},
   "source": [
    "Ao checar, foram incluidos 20 nomes e 20 endereços, totalizando 40 / 40 respectivamente"
   ]
  },
  {
   "cell_type": "code",
   "execution_count": 8,
   "id": "oriental-monitor",
   "metadata": {},
   "outputs": [
    {
     "name": "stdout",
     "output_type": "stream",
     "text": [
      "40 Nomes de delegacias\n",
      "40 Endereços de delegacias\n"
     ]
    }
   ],
   "source": [
    "print(len(nomes_del), 'Nomes de delegacias')\n",
    "print(len(end_del), 'Endereços de delegacias')\n"
   ]
  },
  {
   "cell_type": "markdown",
   "id": "martial-prince",
   "metadata": {},
   "source": [
    "## Visualização dos dados obtidos\n",
    "\n",
    "Abaixo é possível ver as 5 primeiras entradas dos nomes e endereços"
   ]
  },
  {
   "cell_type": "code",
   "execution_count": 9,
   "id": "executive-knowing",
   "metadata": {
    "scrolled": false
   },
   "outputs": [
    {
     "data": {
      "text/plain": [
       "(['CLUBE DIRETORES LOJISTAS SÃO BERNARDO CAMPO DISTRITOS',\n",
       "  'GUARDA MUNICIPAL',\n",
       "  '18ª DELEGACIA DE SERVIÇO MILITAR',\n",
       "  'POLÍCIA CIVIL DO ESTADO DE SÃO PAULO',\n",
       "  'POLÍCIA MILITAR DO ESTADO DE SÃO PAULO'],\n",
       " ['R Java, 267, Jardim do Mar - São Bernardo do Campo, SP',\n",
       "  'Av Redenção, 100, Jardim do Mar - São Bernardo do Campo, SP',\n",
       "  'R Arthur Corradi, 17, Centro - São Bernardo do Campo, SP',\n",
       "  'R José Meza Mendonça, 40, Jardim do Mar - São Bernardo do Campo, SP',\n",
       "  'R Ana Russo Vestri, 141, Rio Grande - São Bernardo do Campo, SP'])"
      ]
     },
     "execution_count": 9,
     "metadata": {},
     "output_type": "execute_result"
    }
   ],
   "source": [
    "nomes_del[:5], end_del[:5]"
   ]
  },
  {
   "cell_type": "markdown",
   "id": "scheduled-benjamin",
   "metadata": {},
   "source": [
    "## Transformar as 2 listas em um DataFrame"
   ]
  },
  {
   "cell_type": "code",
   "execution_count": 10,
   "id": "falling-questionnaire",
   "metadata": {},
   "outputs": [
    {
     "data": {
      "text/html": [
       "<div>\n",
       "<style scoped>\n",
       "    .dataframe tbody tr th:only-of-type {\n",
       "        vertical-align: middle;\n",
       "    }\n",
       "\n",
       "    .dataframe tbody tr th {\n",
       "        vertical-align: top;\n",
       "    }\n",
       "\n",
       "    .dataframe thead th {\n",
       "        text-align: right;\n",
       "    }\n",
       "</style>\n",
       "<table border=\"1\" class=\"dataframe\">\n",
       "  <thead>\n",
       "    <tr style=\"text-align: right;\">\n",
       "      <th></th>\n",
       "      <th>NOME</th>\n",
       "      <th>ENDERECO</th>\n",
       "    </tr>\n",
       "  </thead>\n",
       "  <tbody>\n",
       "    <tr>\n",
       "      <th>0</th>\n",
       "      <td>CLUBE DIRETORES LOJISTAS SÃO BERNARDO CAMPO DI...</td>\n",
       "      <td>R Java, 267, Jardim do Mar - São Bernardo do C...</td>\n",
       "    </tr>\n",
       "    <tr>\n",
       "      <th>1</th>\n",
       "      <td>GUARDA MUNICIPAL</td>\n",
       "      <td>Av Redenção, 100, Jardim do Mar - São Bernardo...</td>\n",
       "    </tr>\n",
       "    <tr>\n",
       "      <th>2</th>\n",
       "      <td>18ª DELEGACIA DE SERVIÇO MILITAR</td>\n",
       "      <td>R Arthur Corradi, 17, Centro - São Bernardo do...</td>\n",
       "    </tr>\n",
       "    <tr>\n",
       "      <th>3</th>\n",
       "      <td>POLÍCIA CIVIL DO ESTADO DE SÃO PAULO</td>\n",
       "      <td>R José Meza Mendonça, 40, Jardim do Mar - São ...</td>\n",
       "    </tr>\n",
       "    <tr>\n",
       "      <th>4</th>\n",
       "      <td>POLÍCIA MILITAR DO ESTADO DE SÃO PAULO</td>\n",
       "      <td>R Ana Russo Vestri, 141, Rio Grande - São Bern...</td>\n",
       "    </tr>\n",
       "  </tbody>\n",
       "</table>\n",
       "</div>"
      ],
      "text/plain": [
       "                                                NOME  \\\n",
       "0  CLUBE DIRETORES LOJISTAS SÃO BERNARDO CAMPO DI...   \n",
       "1                                   GUARDA MUNICIPAL   \n",
       "2                   18ª DELEGACIA DE SERVIÇO MILITAR   \n",
       "3               POLÍCIA CIVIL DO ESTADO DE SÃO PAULO   \n",
       "4             POLÍCIA MILITAR DO ESTADO DE SÃO PAULO   \n",
       "\n",
       "                                            ENDERECO  \n",
       "0  R Java, 267, Jardim do Mar - São Bernardo do C...  \n",
       "1  Av Redenção, 100, Jardim do Mar - São Bernardo...  \n",
       "2  R Arthur Corradi, 17, Centro - São Bernardo do...  \n",
       "3  R José Meza Mendonça, 40, Jardim do Mar - São ...  \n",
       "4  R Ana Russo Vestri, 141, Rio Grande - São Bern...  "
      ]
     },
     "execution_count": 10,
     "metadata": {},
     "output_type": "execute_result"
    }
   ],
   "source": [
    "df = pd.DataFrame({\n",
    "    'NOME': nomes_del,\n",
    "    'ENDERECO': end_del\n",
    "})\n",
    "\n",
    "df.head()"
   ]
  },
  {
   "cell_type": "code",
   "execution_count": 11,
   "id": "touched-gender",
   "metadata": {},
   "outputs": [
    {
     "data": {
      "text/plain": [
       "(40, 2)"
      ]
     },
     "execution_count": 11,
     "metadata": {},
     "output_type": "execute_result"
    }
   ],
   "source": [
    "# Verificar as dimensões do DF\n",
    "df.shape"
   ]
  },
  {
   "cell_type": "markdown",
   "id": "favorite-marsh",
   "metadata": {},
   "source": [
    "## Salvar em arquivo\n",
    "\n",
    "Salvar o DF em um arquivo `.csv`"
   ]
  },
  {
   "cell_type": "code",
   "execution_count": 12,
   "id": "supreme-effectiveness",
   "metadata": {},
   "outputs": [],
   "source": [
    "df.to_csv('data\\delegacias\\end_delegacias.csv', index=False)"
   ]
  }
 ],
 "metadata": {
  "kernelspec": {
   "display_name": "Python 3",
   "language": "python",
   "name": "python3"
  },
  "language_info": {
   "codemirror_mode": {
    "name": "ipython",
    "version": 3
   },
   "file_extension": ".py",
   "mimetype": "text/x-python",
   "name": "python",
   "nbconvert_exporter": "python",
   "pygments_lexer": "ipython3",
   "version": "3.9.1"
  }
 },
 "nbformat": 4,
 "nbformat_minor": 5
}
