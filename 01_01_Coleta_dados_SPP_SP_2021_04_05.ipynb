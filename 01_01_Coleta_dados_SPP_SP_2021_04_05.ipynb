{
 "cells": [
  {
   "cell_type": "markdown",
   "id": "stylish-calendar",
   "metadata": {},
   "source": [
    "# Automatizar o download das planilhas geradas pelo site da SSP-SP\n",
    "http://www.ssp.sp.gov.br/transparenciassp/\n",
    "\n",
    "Para esta tarefa será utilizado o Selenium para automatizar a navegação pelo site até a exportação das planilhas de:\n",
    "- Roubos de Celulares\n",
    "- Roubos de Veículos\n",
    "- Furtos de Veículos"
   ]
  },
  {
   "cell_type": "markdown",
   "id": "square-purchase",
   "metadata": {},
   "source": [
    "## Importar as bibliotecas necessárias para a coleta dos dados"
   ]
  },
  {
   "cell_type": "code",
   "execution_count": null,
   "id": "binding-equity",
   "metadata": {},
   "outputs": [],
   "source": [
    "#importando bibliotecas\n",
    "import os\n",
    "from selenium import webdriver\n",
    "from selenium.webdriver.common.by import By\n",
    "from selenium.webdriver.support.ui import WebDriverWait\n",
    "from selenium.webdriver.support import expected_conditions as EC\n",
    "from time import sleep\n",
    "from time import localtime, strftime\n",
    "from selenium.webdriver.chrome.options import Options\n",
    "\n"
   ]
  },
  {
   "cell_type": "markdown",
   "id": "spoken-kuwait",
   "metadata": {},
   "source": [
    "# Definir campos e periodo que serão baixados\n",
    "\n",
    "Serão baixados os dados de:\n",
    "   - Furto de Veículos\n",
    "   - Roubo de Veículos\n",
    "   - Roubo de Celular\n",
    "    \n",
    "No periodo de 2010 à 2020"
   ]
  },
  {
   "cell_type": "code",
   "execution_count": null,
   "id": "noted-relation",
   "metadata": {},
   "outputs": [],
   "source": [
    "meses = range(12,0,-1)\n",
    "anos = range(20,9,-1)\n",
    "campos = ['cphBody_btnFurtoVeiculo', 'cphBody_btnRouboVeiculo', 'cphBody_btnRouboCelular']\n"
   ]
  },
  {
   "cell_type": "markdown",
   "id": "departmental-april",
   "metadata": {},
   "source": [
    "# Definir local de download e webdriver\n",
    "\n",
    "Os arquivos estão sendo salvos em uma pasta chamada __*data*__ dentro do diretório onde o script esta sendo executado\n",
    "\n",
    "- Para usar o Firefox em modo headless utilize _**\"1\"**_\n",
    "- Para usar o Chrome utilize **_\"2\"_**"
   ]
  },
  {
   "cell_type": "code",
   "execution_count": null,
   "id": "other-fireplace",
   "metadata": {},
   "outputs": [],
   "source": [
    "#Localiza o diretório onde o script está sendo executado e acrescenta no caminho o diretório escolhido para salvar\n",
    "path_download = os.getcwd() + '\\\\data'\n"
   ]
  },
  {
   "cell_type": "code",
   "execution_count": null,
   "id": "continuous-payroll",
   "metadata": {},
   "outputs": [],
   "source": [
    "#Seleção de Webdriver\n",
    "print('Digite 1 para Firefox, 2 para Chrome\\t')\n",
    "x = input()\n",
    "\n",
    "if x=='1':\n",
    "    browser = 0\n",
    "    print('Selecionado 1-Firefox')\n",
    "elif x=='2':\n",
    "    browser = 1\n",
    "    print('Selecionado 2-Chrome')\n",
    "else:\n",
    "    print('Valor de entrada não é valido, selecionado 2-Chrome')\n",
    "    browser = 1\n",
    "\n",
    "    \n",
    "    \n",
    "if browser == 0:\n",
    "    fp = webdriver.FirefoxProfile()\n",
    "    fp.set_preference(\"browser.download.folderList\",2)\n",
    "    fp.set_preference(\"browser.download.manager.showWhenStarting\",False)\n",
    "    fp.set_preference(\"browser.download.dir\", path_download)\n",
    "    fp.set_preference(\"browser.helperApps.neverAsk.saveToDisk\", \"application/vnd.ms-excel\")\n",
    "    fo = webdriver.FirefoxOptions()\n",
    "    fo.headless = True\n",
    "\n",
    "    driver = webdriver.Firefox(firefox_profile=fp, options=fo)\n",
    "    print('Webdriver do Firefox configurado e inciado')\n",
    "else:\n",
    "    chrome_options = Options()\n",
    "    chrome_options.add_argument(\"--disable-extensions\")\n",
    "    chrome_options.add_argument(\"--disable-gpu\")\n",
    "    #chrome_options.add_argument(\"--no-sandbox\") # linux only\n",
    "    #chrome_options.add_argument(\"--headless\")\n",
    "    chrome_options.add_argument(\"--verbose\")\n",
    "\n",
    "    desired_caps = {'prefs': {'download': {'default_directory': path_download, \"directory_upgrade\": True}}}\n",
    "    driver = webdriver.Chrome(options=chrome_options, desired_capabilities = desired_caps)\n",
    "    driver.set_page_load_timeout(10800)\n",
    "    print('Webdriver do Chrome configurado e iniciado')    "
   ]
  },
  {
   "cell_type": "markdown",
   "id": "mathematical-elephant",
   "metadata": {},
   "source": [
    "# Coleta de dados\n",
    "\n",
    "Navegação pelo site e exportação dos arquivos escolhidos"
   ]
  },
  {
   "cell_type": "code",
   "execution_count": null,
   "id": "perfect-induction",
   "metadata": {
    "scrolled": false
   },
   "outputs": [],
   "source": [
    "# Carrega o site para coleta\n",
    "driver.get('http://www.ssp.sp.gov.br/transparenciassp/')\n",
    "sleep(10)\n",
    "\n",
    "for caminho in campos:\n",
    "    #Localizar o campo  escolhido, aguardar o carregamento da página e clicar no botão encontrado\n",
    "    print(strftime(\"Coletando dados de: \"+str(caminho[11:]) + \": %d %b %Y %H:%M:%S\", localtime()))\n",
    "    wait = WebDriverWait(driver, 10800) #Determina uma espera de 10800 segundos\n",
    "    \n",
    "    try:\n",
    "        sleep(5)\n",
    "        # Aguarda a remoção do \"blockUI\"\n",
    "        wait.until(EC.invisibility_of_element_located((By.XPATH, \"//div[@class='blockUI blockOverlay']\")))\n",
    "        \n",
    "    finally:\n",
    "        # Localiza o elemento (Roubo Veiculo / Furto Veiculo / Roubo Celular) e clica\n",
    "        elem = driver.find_element_by_id(caminho)\n",
    "        elem.click()\n",
    "        sleep(5)\n",
    "\n",
    "        # Loop for para seleção dos anos\n",
    "        for i in anos:\n",
    "            xpath = (\"//*[@id='cphBody_lkAno{}']\".format(i))\n",
    "            wait = WebDriverWait(driver, 10800)\n",
    "            \n",
    "            try:\n",
    "                # Aguarda a remoção do \"blockUI\"\n",
    "                wait.until(EC.invisibility_of_element_located((By.XPATH, \"//div[@class='blockUI blockOverlay']\")))\n",
    "                # Aguarda o elemento ser clicável\n",
    "                wait.until(EC.element_to_be_clickable((By.XPATH, xpath)))\n",
    "                \n",
    "            finally:\n",
    "                # Localiza o elemento ano e clica\n",
    "                elemano = driver.find_element_by_xpath(xpath)\n",
    "                elemano.click()\n",
    "                print('Clicado em ano: ', i)\n",
    "                sleep(5)\n",
    "\n",
    "                # Loop for para seleção dos meses\n",
    "                for j in meses:\n",
    "                    \n",
    "                    try:\n",
    "                        # Aguarda a remoção do \"blockUI\"\n",
    "                        wait.until(EC.invisibility_of_element_located((By.XPATH, \"//div[@class='blockUI blockOverlay']\")))\n",
    "                        # Aguarda o elemento ser clicável\n",
    "                        wait.until(EC.element_to_be_clickable((By.XPATH, '//*[@id=\"cphBody_lkMes{}\"]'.format(j))))\n",
    "                        \n",
    "                    finally:\n",
    "                        # Localiza o elemento mês e clica\n",
    "                        elemmes = driver.find_element_by_xpath('//*[@id=\"cphBody_lkMes{}\"]'.format(j))\n",
    "                        elemmes.click()\n",
    "                        print('Clicado em mes: ', j)\n",
    "                        sleep(10)\n",
    "\n",
    "######################### Inicio da exportação do arquivo \".xls\"\n",
    "                        try:\n",
    "                            # Aguarda a remoção do \"blockUI\"\n",
    "                            wait.until(EC.invisibility_of_element_located((By.XPATH, \"//div[@class='blockUI blockOverlay']\")))\n",
    "                            # Aguarda o elemento ser clicável\n",
    "                            wait.until(EC.element_to_be_clickable((By.XPATH, \"//*[@id='cphBody_ExportarBOLink']\")))\n",
    "                        \n",
    "                        finally:\n",
    "                            # Localiza o elemento de exportar e clica\n",
    "                            print(strftime(\"Inicio da exportação em %d %b %Y às %H:%M:%S de: {} - {}/{}\".format(caminho[11:], j, i), localtime())) #alterado\n",
    "                            elemex = driver.find_element_by_xpath(\"//*[@id='cphBody_ExportarBOLink']\")\n",
    "                            elemex.click()\n",
    "                            print(strftime(\"Finalização da exportação em %d %b %Y às %H:%M:%S de: {} - {}/{}\".format(caminho[11:], j, i), localtime())) #alterado\n",
    "                            sleep(30)\n",
    "\n",
    "\n"
   ]
  },
  {
   "cell_type": "code",
   "execution_count": null,
   "id": "matched-definition",
   "metadata": {},
   "outputs": [],
   "source": [
    "# Finaliza o Webdriver\n",
    "driver.quit()\n",
    "print('Coleta finalizada')"
   ]
  }
 ],
 "metadata": {
  "kernelspec": {
   "display_name": "Python 3",
   "language": "python",
   "name": "python3"
  },
  "language_info": {
   "codemirror_mode": {
    "name": "ipython",
    "version": 3
   },
   "file_extension": ".py",
   "mimetype": "text/x-python",
   "name": "python",
   "nbconvert_exporter": "python",
   "pygments_lexer": "ipython3",
   "version": "3.9.1"
  }
 },
 "nbformat": 4,
 "nbformat_minor": 5
}
