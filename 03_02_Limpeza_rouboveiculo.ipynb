{
 "cells": [
  {
   "cell_type": "markdown",
   "metadata": {},
   "source": [
    "# Limpeza dos dados\n",
    "## Roubo de Veiculos\n",
    "\n",
    "Com os dados obtidos  e já compilados, o próximo passo é realizar a limpeza do dataset\n",
    "Isso consiste em:\n",
    " - Separar a cidade de São Bernardo do Campo\n",
    " - Verificar valores nulos\n",
    " - Campos duplicados\n",
    " - Remover informações que não serão úteis\n",
    " - Acertar ou remover informações erradas"
   ]
  },
  {
   "cell_type": "markdown",
   "metadata": {},
   "source": [
    "### Importar as bibliotecas\n",
    "\n",
    "As bibliotecas que serão utilizadas são:\n",
    " - `Pandas` - Manipulação do dataset\n",
    " - `Matplotlib` - Visualização dos dados\n",
    " - `Seaborn`- Visualização dos dados\n",
    " - `Numpy` - habilita propriedades matemáticas"
   ]
  },
  {
   "cell_type": "code",
   "execution_count": 1,
   "metadata": {},
   "outputs": [],
   "source": [
    "#importando as bibliotecas\n",
    "import pandas as pd\n",
    "import matplotlib.pyplot as plt\n",
    "import seaborn as sns\n",
    "import numpy as np"
   ]
  },
  {
   "cell_type": "markdown",
   "metadata": {},
   "source": [
    "### Carregar o dataset de roubo de veiculos\n",
    "\n",
    "Carregar o dataset, verificar suas dimensões e ter as primeiras impressões"
   ]
  },
  {
   "cell_type": "code",
   "execution_count": 2,
   "metadata": {},
   "outputs": [],
   "source": [
    "path = 'data_cleaned/roubo_veiculo2010_2020.csv'\n",
    "\n",
    "df = pd.read_csv(path, low_memory=False) # Utilizado o low_memory = False devido ao tamnho do arquivo"
   ]
  },
  {
   "cell_type": "code",
   "execution_count": 3,
   "metadata": {},
   "outputs": [
    {
     "name": "stdout",
     "output_type": "stream",
     "text": [
      "1805887 Linhas\n",
      "54 Colunas\n"
     ]
    },
    {
     "data": {
      "text/html": [
       "<div>\n",
       "<style scoped>\n",
       "    .dataframe tbody tr th:only-of-type {\n",
       "        vertical-align: middle;\n",
       "    }\n",
       "\n",
       "    .dataframe tbody tr th {\n",
       "        vertical-align: top;\n",
       "    }\n",
       "\n",
       "    .dataframe thead th {\n",
       "        text-align: right;\n",
       "    }\n",
       "</style>\n",
       "<table border=\"1\" class=\"dataframe\">\n",
       "  <thead>\n",
       "    <tr style=\"text-align: right;\">\n",
       "      <th></th>\n",
       "      <th>ANO_BO</th>\n",
       "      <th>NUM_BO</th>\n",
       "      <th>NUMERO_BOLETIM</th>\n",
       "      <th>BO_INICIADO</th>\n",
       "      <th>BO_EMITIDO</th>\n",
       "      <th>DATAOCORRENCIA</th>\n",
       "      <th>HORAOCORRENCIA</th>\n",
       "      <th>PERIDOOCORRENCIA</th>\n",
       "      <th>DATACOMUNICACAO</th>\n",
       "      <th>DATAELABORACAO</th>\n",
       "      <th>...</th>\n",
       "      <th>PLACA_VEICULO</th>\n",
       "      <th>UF_VEICULO</th>\n",
       "      <th>CIDADE_VEICULO</th>\n",
       "      <th>DESCR_COR_VEICULO</th>\n",
       "      <th>DESCR_MARCA_VEICULO</th>\n",
       "      <th>ANO_FABRICACAO</th>\n",
       "      <th>ANO_MODELO</th>\n",
       "      <th>DESCR_TIPO_VEICULO</th>\n",
       "      <th>QUANT_CELULAR</th>\n",
       "      <th>MARCA_CELULAR</th>\n",
       "    </tr>\n",
       "  </thead>\n",
       "  <tbody>\n",
       "    <tr>\n",
       "      <th>0</th>\n",
       "      <td>2009</td>\n",
       "      <td>1777</td>\n",
       "      <td>1777/2009</td>\n",
       "      <td>31/12/2009 23:47:02</td>\n",
       "      <td>01/01/2010 00:02:23</td>\n",
       "      <td>31/12/2009</td>\n",
       "      <td>21:00</td>\n",
       "      <td>A NOITE</td>\n",
       "      <td>31/12/2009</td>\n",
       "      <td>31/12/2009 23:47:02</td>\n",
       "      <td>...</td>\n",
       "      <td>COL8760</td>\n",
       "      <td>SP</td>\n",
       "      <td>SAO PAULO</td>\n",
       "      <td>Cinza</td>\n",
       "      <td>FIAT/UNO MILLE EX</td>\n",
       "      <td>1999.0</td>\n",
       "      <td>1999.0</td>\n",
       "      <td>AUTOMOVEL</td>\n",
       "      <td>NaN</td>\n",
       "      <td>NaN</td>\n",
       "    </tr>\n",
       "    <tr>\n",
       "      <th>1</th>\n",
       "      <td>2010</td>\n",
       "      <td>1</td>\n",
       "      <td>1/2010</td>\n",
       "      <td>01/01/2010 00:01:56</td>\n",
       "      <td>01/01/2010 00:06:30</td>\n",
       "      <td>31/12/2009</td>\n",
       "      <td>23:30</td>\n",
       "      <td>A NOITE</td>\n",
       "      <td>31/12/2009</td>\n",
       "      <td>01/01/2010 00:01:56</td>\n",
       "      <td>...</td>\n",
       "      <td>EFW1311</td>\n",
       "      <td>SP</td>\n",
       "      <td>SAO PAULO</td>\n",
       "      <td>Branco</td>\n",
       "      <td>GM/MERIVA MAXX</td>\n",
       "      <td>2008.0</td>\n",
       "      <td>2009.0</td>\n",
       "      <td>AUTOMOVEL</td>\n",
       "      <td>NaN</td>\n",
       "      <td>NaN</td>\n",
       "    </tr>\n",
       "    <tr>\n",
       "      <th>2</th>\n",
       "      <td>2009</td>\n",
       "      <td>15657</td>\n",
       "      <td>15657/2009</td>\n",
       "      <td>31/12/2009 23:37:53</td>\n",
       "      <td>01/01/2010 00:08:27</td>\n",
       "      <td>31/12/2009</td>\n",
       "      <td>22:30</td>\n",
       "      <td>A NOITE</td>\n",
       "      <td>31/12/2009</td>\n",
       "      <td>31/12/2009 23:37:53</td>\n",
       "      <td>...</td>\n",
       "      <td>DZK4423</td>\n",
       "      <td>SP</td>\n",
       "      <td>CAMPINAS</td>\n",
       "      <td>Prata</td>\n",
       "      <td>FIAT/PALIO WK ADVEN FLEX</td>\n",
       "      <td>2007.0</td>\n",
       "      <td>2007.0</td>\n",
       "      <td>AUTOMOVEL</td>\n",
       "      <td>NaN</td>\n",
       "      <td>NaN</td>\n",
       "    </tr>\n",
       "    <tr>\n",
       "      <th>3</th>\n",
       "      <td>2009</td>\n",
       "      <td>6168</td>\n",
       "      <td>6168/2009</td>\n",
       "      <td>31/12/2009 23:56:36</td>\n",
       "      <td>01/01/2010 00:11:19</td>\n",
       "      <td>31/12/2009</td>\n",
       "      <td>22:15</td>\n",
       "      <td>A NOITE</td>\n",
       "      <td>31/12/2009</td>\n",
       "      <td>31/12/2009 23:56:36</td>\n",
       "      <td>...</td>\n",
       "      <td>ECS7846</td>\n",
       "      <td>SP</td>\n",
       "      <td>DIADEMA</td>\n",
       "      <td>Amarelo</td>\n",
       "      <td>HONDA/CBX 250 TWISTER</td>\n",
       "      <td>2008.0</td>\n",
       "      <td>2008.0</td>\n",
       "      <td>MOTOCICLO</td>\n",
       "      <td>NaN</td>\n",
       "      <td>NaN</td>\n",
       "    </tr>\n",
       "    <tr>\n",
       "      <th>4</th>\n",
       "      <td>2009</td>\n",
       "      <td>15059</td>\n",
       "      <td>15059/2009</td>\n",
       "      <td>01/01/2010 00:03:03</td>\n",
       "      <td>01/01/2010 00:17:20</td>\n",
       "      <td>31/12/2009</td>\n",
       "      <td>21:30</td>\n",
       "      <td>A NOITE</td>\n",
       "      <td>31/12/2009</td>\n",
       "      <td>01/01/2010 00:03:03</td>\n",
       "      <td>...</td>\n",
       "      <td>DDW8049</td>\n",
       "      <td>SP</td>\n",
       "      <td>SAO BERNARDO DO CAMP</td>\n",
       "      <td>Verde</td>\n",
       "      <td>IMP/FIAT SIENA ELX</td>\n",
       "      <td>2001.0</td>\n",
       "      <td>2001.0</td>\n",
       "      <td>AUTOMOVEL</td>\n",
       "      <td>NaN</td>\n",
       "      <td>NaN</td>\n",
       "    </tr>\n",
       "  </tbody>\n",
       "</table>\n",
       "<p>5 rows × 54 columns</p>\n",
       "</div>"
      ],
      "text/plain": [
       "   ANO_BO  NUM_BO NUMERO_BOLETIM          BO_INICIADO           BO_EMITIDO  \\\n",
       "0    2009    1777      1777/2009  31/12/2009 23:47:02  01/01/2010 00:02:23   \n",
       "1    2010       1         1/2010  01/01/2010 00:01:56  01/01/2010 00:06:30   \n",
       "2    2009   15657     15657/2009  31/12/2009 23:37:53  01/01/2010 00:08:27   \n",
       "3    2009    6168      6168/2009  31/12/2009 23:56:36  01/01/2010 00:11:19   \n",
       "4    2009   15059     15059/2009  01/01/2010 00:03:03  01/01/2010 00:17:20   \n",
       "\n",
       "  DATAOCORRENCIA HORAOCORRENCIA PERIDOOCORRENCIA DATACOMUNICACAO  \\\n",
       "0     31/12/2009          21:00          A NOITE      31/12/2009   \n",
       "1     31/12/2009          23:30          A NOITE      31/12/2009   \n",
       "2     31/12/2009          22:30          A NOITE      31/12/2009   \n",
       "3     31/12/2009          22:15          A NOITE      31/12/2009   \n",
       "4     31/12/2009          21:30          A NOITE      31/12/2009   \n",
       "\n",
       "        DATAELABORACAO  ... PLACA_VEICULO UF_VEICULO        CIDADE_VEICULO  \\\n",
       "0  31/12/2009 23:47:02  ...       COL8760         SP             SAO PAULO   \n",
       "1  01/01/2010 00:01:56  ...       EFW1311         SP             SAO PAULO   \n",
       "2  31/12/2009 23:37:53  ...       DZK4423         SP              CAMPINAS   \n",
       "3  31/12/2009 23:56:36  ...       ECS7846         SP               DIADEMA   \n",
       "4  01/01/2010 00:03:03  ...       DDW8049         SP  SAO BERNARDO DO CAMP   \n",
       "\n",
       "  DESCR_COR_VEICULO       DESCR_MARCA_VEICULO ANO_FABRICACAO ANO_MODELO  \\\n",
       "0             Cinza         FIAT/UNO MILLE EX         1999.0     1999.0   \n",
       "1            Branco            GM/MERIVA MAXX         2008.0     2009.0   \n",
       "2             Prata  FIAT/PALIO WK ADVEN FLEX         2007.0     2007.0   \n",
       "3           Amarelo     HONDA/CBX 250 TWISTER         2008.0     2008.0   \n",
       "4             Verde        IMP/FIAT SIENA ELX         2001.0     2001.0   \n",
       "\n",
       "  DESCR_TIPO_VEICULO QUANT_CELULAR MARCA_CELULAR  \n",
       "0          AUTOMOVEL           NaN           NaN  \n",
       "1          AUTOMOVEL           NaN           NaN  \n",
       "2          AUTOMOVEL           NaN           NaN  \n",
       "3          MOTOCICLO           NaN           NaN  \n",
       "4          AUTOMOVEL           NaN           NaN  \n",
       "\n",
       "[5 rows x 54 columns]"
      ]
     },
     "execution_count": 3,
     "metadata": {},
     "output_type": "execute_result"
    }
   ],
   "source": [
    "print('{} Linhas\\n{} Colunas'.format(df.shape[0],df.shape[1]))\n",
    "df.head() # Mostra as 5 primeiras linhas do dataset"
   ]
  },
  {
   "cell_type": "markdown",
   "metadata": {},
   "source": [
    "### Extrair os dados da cidade de Sâo Bernardo do Campo\n",
    "\n",
    "Como o foco da análise será somente a cidade de São Bernardo do Campo, deve-se entender como foi registrado o nome das cidades e achar a cidade escolhida."
   ]
  },
  {
   "cell_type": "code",
   "execution_count": 4,
   "metadata": {},
   "outputs": [
    {
     "data": {
      "text/plain": [
       "array(['CUBATAO', 'S.PAULO', 'CAMPINAS', 'DIADEMA', 'S.ANDRE',\n",
       "       'ITAQUAQUECETUBA', 'S.JOSE DO RIO PRETO', 'S.JOSE DOS CAMPOS',\n",
       "       'FRANCO DA ROCHA', 'ANDRADINA', 'S.BERNARDO DO CAMPO', 'OSASCO',\n",
       "       'GUARULHOS', 'S.SEBASTIAO', 'PERUIBE', 'CARAGUATATUBA', 'SUMARE',\n",
       "       'VOTUPORANGA', 'EMBU', 'CARAPICUIBA', 'PRAIA GRANDE', 'S.VICENTE',\n",
       "       'FRANCISCO MORATO', 'RIBEIRAO PRETO', 'BARUERI', 'ITANHAEM',\n",
       "       'CAJAMAR', 'TABOAO DA SERRA', 'AMERICANA', 'RIBEIRAO PIRES',\n",
       "       'HORTOLANDIA', 'LIMEIRA', 'MAUA', 'COTIA', 'PIRACICABA',\n",
       "       'SOROCABA', 'VARGEM GRANDE PAULISTA', 'INDAIATUBA', 'RIO CLARO',\n",
       "       'SUZANO', 'S.CAETANO DO SUL', 'FERRAZ DE VASCONCELOS', 'JACAREI',\n",
       "       'MARILIA', 'S.LOURENCO DA SERRA', 'MOGI DAS CRUZES', 'MONGAGUA',\n",
       "       'POA', 'EMBU-GUACU', 'TAUBATE', 'ARACATUBA', 'MAIRIPORA', 'BAURU',\n",
       "       'PINDAMONHANGABA', 'VALINHOS', 'JUNDIAI', 'CAIEIRAS',\n",
       "       'GUARATINGUETA', 'ATIBAIA', 'SANTOS', 'ITAPECERICA DA SERRA',\n",
       "       'ARUJA', 'PIRASSUNUNGA', nan, 'JUQUITIBA', 'JANDIRA', 'ITATIBA',\n",
       "       'MOGI-MIRIM', 'BIRIGUI', 'FRANCA', 'S.BARBARA D OESTE', 'GUARUJA',\n",
       "       'S.CARLOS', 'BRAGANCA PAULISTA', 'AMPARO', 'SANTANA DE PARNAIBA',\n",
       "       'S.ISABEL', 'FERNANDOPOLIS', 'ITAPEVI', 'ARARAS', 'TATUI',\n",
       "       'BARRETOS', 'ITU', 'GUARAREMA', 'ARARAQUARA', 'MOGI-GUACU', 'JAU',\n",
       "       'BIRITIBA-MIRIM', 'SALTO', 'LORENA', 'PENAPOLIS', 'REGISTRO',\n",
       "       'VOTORANTIM', 'ASSIS', 'CATANDUVA', 'PORTO FERREIRA',\n",
       "       'CAMPOS DO JORDAO', 'SALESOPOLIS', 'JACUPIRANGA', 'LEME',\n",
       "       'ITUVERAVA', 'JABOTICABAL', 'LINS', 'RIO GRANDE DA SERRA', 'TUPA',\n",
       "       'VARZEA PAULISTA', 'BOTUCATU', 'OLIMPIA', 'CABREUVA', 'ITAPIRA',\n",
       "       'MIRASSOL', 'ADAMANTINA', 'ITAPETININGA', 'OURINHOS',\n",
       "       'PRESIDENTE PRUDENTE', 'AVARE', 'BEBEDOURO', 'ROSANA', 'GUAIRA',\n",
       "       'S.FE DO SUL', 'PRESIDENTE VENCESLAU', 'S.MANUEL', 'ITARARE',\n",
       "       'S.CRUZ DO RIO PARDO', 'PARAGUACU PAULISTA', 'ITAPEVA', 'ELDORADO',\n",
       "       'MOCOCA', 'S.JOAO DA BOA VISTA', 'MATAO', 'PIRAPORA BOM JESUS',\n",
       "       'CAPAO BONITO', 'DRACENA', 'OSVALDO CRUZ', 'SETE BARRAS', 'IGUAPE',\n",
       "       'JALES', 'BARRA DO TURVO', 'CRUZEIRO', 'S.JOAQUIM DA BARRA',\n",
       "       'Sao Paulo', 'Sao Bernardo do Campo', 'Maua', 'Embu Guacu',\n",
       "       'Sao Vicente', 'Taubate', 'Santo Andre', 'CAMPO LIMPO PAULISTA',\n",
       "       'CACAPAVA', 'Guaruja', 'Sao Caetano do Sul', 'Taboao da Serra',\n",
       "       'Carapicuiba', 'Jundiai', 'Hortolandia', 'Sao Jose dos Campos',\n",
       "       'Sumare', 'Poa', 'SAO PAULO', 'CASA BRANCA', 'TAQUARITINGA',\n",
       "       'MONTE MOR', 'FERNANDO PRESTES', 'S.ADELIA', 'PORTO FELIZ',\n",
       "       'MORRO AGUDO', 'CACHOEIRA PAULISTA', 'S.SIMAO', 'BOFETE',\n",
       "       'PAULINIA', 'IBIUNA', 'S.ROQUE', 'TAIUVA', 'CONCHAL',\n",
       "       'MONTE AZUL PAULISTA', 'ALTINOPOLIS', 'COSMOPOLIS', 'CHARQUEADA',\n",
       "       'LAVRINHAS', 'PRATANIA', 'CERQUILHO', 'TREMEMBE', 'RINCAO',\n",
       "       'PONTAL', 'ENGENHEIRO COELHO', 'CAPELA DO ALTO', 'S.PEDRO',\n",
       "       'MIRACATU', 'MIRANDOPOLIS', 'SERTAOZINHO', 'PRADOPOLIS',\n",
       "       'S.ANTONIO DE POSSE', 'PEREIRAS', 'S.CRUZ DA CONCEICAO', 'PIEDADE',\n",
       "       'ITUPEVA', 'IPERO', 'LOUVEIRA', 'PIRAPOZINHO',\n",
       "       'BOM JESUS DOS PERDOES', 'IGARATA', 'SOCORRO', 'BARIRI',\n",
       "       'NOVA ODESSA', 'JAGUARIUNA', 'PINHALZINHO', 'CAPIVARI',\n",
       "       'CORDEIROPOLIS', 'RIO DAS PEDRAS', 'TANABI', 'REGENTE FEIJO',\n",
       "       'ELIAS FAUSTO', 'ITIRAPINA', 'CRAVINHOS', 'RANCHARIA', 'BARRINHA',\n",
       "       'CONCHAS', 'LUIS ANTONIO', 'JARINU', 'VARGEM GRANDE DO SUL',\n",
       "       'AGUAI', 'PEDRA BELA', 'IRACEMAPOLIS', 'PIRACAIA',\n",
       "       'JOSE BONIFACIO', 'SALTO DE PIRAPORA', 'NAZARE PAULISTA',\n",
       "       'UBATUBA', 'GUARARAPES', 'BERTIOGA', 'NHANDEARA', 'GAVIAO PEIXOTO',\n",
       "       'CORUMBATAI', 'PRESIDENTE EPITACIO', 'POTIM', 'AURIFLAMA',\n",
       "       'BORBOREMA', 'ALFREDO MARCONDES', 'CESARIO LANGE', 'MONTE ALTO',\n",
       "       'S.GERTRUDES', 'CAJATI', 'MIGUELOPOLIS', 'VINHEDO', 'ARACARIGUAMA',\n",
       "       'MORUNGABA', 'TIETE', 'ELISIARIO', 'BROTAS', 'PONTALINDA',\n",
       "       'CACONDE', 'TAMBAU', 'MAIRINQUE', 'BURI', 'IGARAPAVA', 'IRAPUA',\n",
       "       'PARDINHO', 'LENCOIS PAULISTA', 'ORLANDIA', 'ARANDU',\n",
       "       'ARACOIABA DA SERRA', 'OUROESTE', 'TAPIRAI',\n",
       "       'S.LUIS DO PARAITINGA', 'COROADOS', 'TAGUAI', 'LARANJAL PAULISTA',\n",
       "       'CUNHA', 'SALTINHO', 'ITAPUI', 'S.RITA PASSA QUATRO',\n",
       "       'AGUAS DE SANTA BARBARA', 'DESCALVADO', 'AGUDOS', 'SERRANA',\n",
       "       'PARANAPANEMA', 'HOLAMBRA', 'GETULINA', 'CANAS', 'CANANEIA',\n",
       "       'IBITINGA', 'DOIS CORREGOS', 'TEODORO SAMPAIO',\n",
       "       'S.CRUZ DAS PALMEIRAS', 'S.MIGUEL ARCANJO', 'BOITUVA', 'RAFARD',\n",
       "       'ALUMINIO', 'BARRA BONITA', 'PLANALTO', 'S.MARIA DA SERRA',\n",
       "       'JARDINOPOLIS', 'GUARIBA', 'VISTA ALEGRE DO ALTO',\n",
       "       'S.SEBASTIAO DA GRAMA', 'ANALANDIA', 'JUQUIA',\n",
       "       'AMERICO BRASILIENSE', 'NUPORANGA', 'CABRALIA PAULISTA',\n",
       "       'SERRA AZUL', 'ITARIRI', 'COLINA', 'SALES OLIVEIRA', 'CAJOBI',\n",
       "       'APARECIDA', 'BURITAMA', 'ARTUR NOGUEIRA', 'S.ROSA DE VITERBO',\n",
       "       'TUIUTI', 'PALMITAL', 'S.ANTONIO DA ALEGRIA', 'TAQUARIVAI',\n",
       "       'SERRA NEGRA', 'PILAR DO SUL', 'MIRANTE PARANAPANEMA',\n",
       "       'S.JOSE DA BELA VISTA', 'GUAPIACU', 'GARCA', 'ITAJU', 'CLEMENTINA',\n",
       "       'QUADRA', 'GUATAPARA', 'IBATE', 'AGUAS DE LINDOIA',\n",
       "       'PATROCINIO PAULISTA', 'TERRA ROXA', 'BURITIZAL',\n",
       "       'PEREIRA BARRETO', 'MOTUCA', 'PROMISSAO', 'MENDONCA', 'OCAUCU',\n",
       "       'VIRADOURO', 'Aruja', 'Itai', 'PEDERNEIRAS', 'ITOBI',\n",
       "       'ILHA COMPRIDA', 'BOCAINA', 'CAJURU', 'ITAPOLIS',\n",
       "       'CRISTAIS PAULISTA', 'MANDURI', 'AGUAS DE SAO PEDRO', 'TAPIRATIBA',\n",
       "       'IGARACU DO TIETE', 'MARACAI', 'CORONEL MACEDO', 'UBARANA',\n",
       "       'JOANOPOLIS', 'ESPIRITO STO. PINHAL', 'BANANAL', 'BATATAIS',\n",
       "       'ANGATUBA', 'ALVARES MACHADO', 'BRODOWSKI', 'ITABERA',\n",
       "       'BOA ESPERANCA DO SUL', 'GENERAL SALGADO', 'ROSEIRA',\n",
       "       'S.ANTONIO DO JARDIM', 'MONTEIRO LOBATO', 'PEDREIRA', 'ANHEMBI',\n",
       "       'URUPES', 'RIBEIRAO BONITO', 'TAQUARITUBA', 'MARTINOPOLIS',\n",
       "       'S.JOSE DO RIO PARDO', 'PORANGABA', 'PEDREGULHO', 'IPEUNA',\n",
       "       'S.ERNESTINA', 'Sao Lourenco da Serra', 'PINDORAMA',\n",
       "       'PARIQUERA-ACU', 'ARAMINA', 'CASSIA DOS COQUEIROS', 'AVANHANDAVA',\n",
       "       'S.BENTO DO SAPUCAI', 'GUAREI', 'RINOPOLIS', 'PIQUETE', 'LAGOINHA',\n",
       "       'POMPEIA', 'ALAMBARI', 'CAFELANDIA', 'COLOMBIA',\n",
       "       'REDENCAO DA SERRA', 'AGUAS DA PRATA', 'TORRINHA', 'FLOREAL',\n",
       "       'PARAPUA', 'ITATINGA', 'MONTE APRAZIVEL', 'FLORINEA',\n",
       "       'TRES FRONTEIRAS', 'S.ANTONIO DO PINHAL', 'LINDOIA', 'QUELUZ',\n",
       "       'JACI', 'CEDRAL', 'ALVINLANDIA', 'BALSAMO', 'RESTINGA', 'TARUMA',\n",
       "       'VARGEM', 'ALTAIR', 'MONTE CASTELO', 'ESTIVA GERBI',\n",
       "       'NOVA GRANADA', 'MOMBUCA', 'GUAICARA', 'PALMEIRA D OESTE',\n",
       "       'POTIRENDABA', 'PARAIBUNA', 'IBIRA', 'ONDA VERDE', 'S.BRANCA',\n",
       "       'JABORANDI', 'SARAPUI', 'GUARA', 'PARAISO', 'LUCELIA', 'ARIRANHA',\n",
       "       'ICEM', 'IPUA', 'JAMBEIRO', 'SALTO GRANDE', 'APARECIDA D OESTE',\n",
       "       'NOVO HORIZONTE', 'IPAUCU', 'PIRAJU', 'SEVERINIA', 'MERIDIANO',\n",
       "       'CANDIDO MOTA', 'PITANGUEIRAS', 'BADY BASSITT', 'PONGAI',\n",
       "       'TABATINGA', 'ITIRAPUA', 'GUARANTA', 'MACATUBA', 'S.MERCEDES',\n",
       "       'MONCOES', 'PAULISTANIA', 'MARABA PAULISTA', 'PAULO DE FARIA',\n",
       "       'PAULICEIA', 'CASTILHO', 'ITAI', 'ITAJOBI', 'TARABAI', 'CAIUA',\n",
       "       'DUMONT', 'S.LUCIA', 'IRAPURU', 'JOAO RAMALHO',\n",
       "       'PALMARES PAULISTA', 'CARDOSO', 'SILVEIRAS', 'RIBEIRAO BRANCO',\n",
       "       'ITAPORANGA', 'GLICERIO', 'MONTE ALEGRE DO SUL', 'JERIQUARA',\n",
       "       'RIOLANDIA', 'NEVES PAULISTA', 'URANIA', 'OSCAR BRESSANE',\n",
       "       'SANDOVALINA', 'BERNARDINO DE CAMPOS', 'CHAVANTES', 'UBIRAJARA',\n",
       "       'DOURADO', 'RUBIACEA', 'PANORAMA', 'VERA CRUZ', 'Cacapava',\n",
       "       'CERQUEIRA CESAR', 'SANTOPOLIS DO AGUAPEI', 'VALPARAISO',\n",
       "       'SUD MENUCCI', 'DUARTINA', 'TACIBA', 'BASTOS', 'RIBEIRAO GRANDE',\n",
       "       'PIRATININGA', 'MOGIGUACU', 'JUMIRIM', 'EUCLIDES DA CUNHA PTA',\n",
       "       'AREALVA', 'ESTRELA DO NORTE', 'PIRAJUI', 'S.PEDRO DO TURVO',\n",
       "       'IACRI', 'PIRANGI', 'EMBU DAS ARTES', 'PRESIDENTE ALVES',\n",
       "       'BORACEIA', 'RIBEIRAO CORRENTE', 'IEPE', 'TUPI PAULISTA',\n",
       "       'MINEIROS DO TIETE', 'VALENTIM GENTIL', 'NOVA EUROPA',\n",
       "       'NOVA CAMPINA', 'NOVA CASTILHO', 'IPIGUA', 'IPAUSSU', 'POLONI',\n",
       "       'MOGI GUACU', 'PEDRO DE TOLEDO', 'MOGI MIRIM', 'DIVINOLANDIA',\n",
       "       'COSMORAMA', 'AREIOPOLIS', 'ILHA SOLTEIRA', 'IARAS', 'SABINO',\n",
       "       'TABAPUA', 'NOVAIS', 'IBIRAREMA', 'REGINOPOLIS', 'ORIENTE',\n",
       "       'GALIA', 'IACANGA', 'NATIVIDADE DA SERRA', 'GUAPIARA', 'CANITAR',\n",
       "       'ILHABELA', 'DOBRADA', 'LUPERCIO', 'FARTURA', 'EMILIANOPOLIS',\n",
       "       'CATIGUA', 'NOVA ALIANCA', 'S.CLARA D OESTE', 'GUARACI',\n",
       "       'OURO VERDE', 'TAIACU', 'BOREBI', 'UCHOA', 'BILAC', 'ALTO ALEGRE',\n",
       "       'RIBEIRAO DO SUL', 'ORINDIUVA', 'TRABIJU', 'PALESTINA', 'TAQUARAL',\n",
       "       'S.ANTONIO DE ARACANGUA', 'APIAI', 'CAMPINA MONTE ALEGRE',\n",
       "       'RIFAINA', 'GUZOLANDIA', 'AVAI', 'BARBOSA', 'NOVA INDEPENDENCIA',\n",
       "       'GUARACAI', 'LOURDES', 'ECHAPORA', 'SUZANAPOLIS', 'BRAUNA',\n",
       "       'BRODOSQUI', 'BOM SUCESSO DE ITARARE', 'SALES',\n",
       "       'S.CRUZ DA ESPERANCA', 'CAMPOS NOVOS PAULISTA', 'INDIANA', 'QUATA',\n",
       "       'PRESIDENTE BERNARDES', 'SAGRES', 'MARAPOAMA', 'PIACATU',\n",
       "       'RUBINEIA', 'RIBEIRA', 'CANDIDO RODRIGUES', 'ITAPURA', 'NIPOA',\n",
       "       'NANTES', 'AREIAS', 'FLORIDA PAULISTA', 'PEDRINHAS PAULISTA',\n",
       "       'BARAO DE ANTONINA', 'CRUZALIA', 'FLORINIA'], dtype=object)"
      ]
     },
     "execution_count": 4,
     "metadata": {},
     "output_type": "execute_result"
    }
   ],
   "source": [
    "df.CIDADE.unique()"
   ]
  },
  {
   "cell_type": "markdown",
   "metadata": {},
   "source": [
    "Criar um novo dataframe apenas com a cidade de São Bernardo do Campo e verificar suas dimensões"
   ]
  },
  {
   "cell_type": "code",
   "execution_count": 5,
   "metadata": {
    "scrolled": true
   },
   "outputs": [
    {
     "name": "stdout",
     "output_type": "stream",
     "text": [
      "68201 Linhas\n",
      "54 Colunas\n"
     ]
    }
   ],
   "source": [
    "dfsbc = df.loc[df.CIDADE == 'S.BERNARDO DO CAMPO']\n",
    "print('{} Linhas\\n{} Colunas'.format(dfsbc.shape[0],dfsbc.shape[1]))"
   ]
  },
  {
   "cell_type": "markdown",
   "metadata": {},
   "source": [
    "### Verificar dados nulos e ausentes\n",
    "\n",
    "É possivel ver que pelo menos 19 colunas possuem mais de 90% de dados ausentes, a grande maioria relacionado a dados pessoais.\n",
    "\n",
    "Essas as quais podem ser diretamente removidas do dataset.\n",
    "\n",
    "Abaixo a lista ordenada em % dos primeiros 35 mais ausentes"
   ]
  },
  {
   "cell_type": "code",
   "execution_count": 6,
   "metadata": {},
   "outputs": [
    {
     "data": {
      "text/plain": [
       "MARCA_CELULAR               100.000000\n",
       "PARENTESCO                  100.000000\n",
       "QUANT_CELULAR               100.000000\n",
       "RELACIONAMENTO              100.000000\n",
       "PROFISSAO                    99.862172\n",
       "GRAUINSTRUCAO                99.771264\n",
       "ESTADOCIVIL                  99.674492\n",
       "NACIONALIDADE                99.665694\n",
       "NATURALIDADE                 99.648099\n",
       "DATANASCIMENTO               99.643700\n",
       "IDADE                        99.586516\n",
       "SEXO                         99.552792\n",
       "VITIMAFATAL                  99.548394\n",
       "TIPOVINCULO                  99.548394\n",
       "NATUREZAVINCULADA            99.548394\n",
       "CORCUTIS                     99.548394\n",
       "TIPOPESSOA                   99.548394\n",
       "DESDOBRAMENTO                96.568965\n",
       "NUMERO_BOLETIM_PRINCIPAL     95.922347\n",
       "EXAME                        81.042800\n",
       "PLACA_VEICULO                29.241507\n",
       "DESCR_MARCA_VEICULO          29.178458\n",
       "CIDADE_VEICULO               29.077286\n",
       "UF_VEICULO                   28.668201\n",
       "DESCR_TIPO_VEICULO           28.590490\n",
       "DESCR_COR_VEICULO            28.199000\n",
       "LATITUDE                     18.436680\n",
       "LONGITUDE                    18.436680\n",
       "LOGRADOURO                    8.115717\n",
       "STATUS                        7.790208\n",
       "BAIRRO                        5.819563\n",
       "HORAOCORRENCIA                4.552719\n",
       "ANO_MODELO                    3.463292\n",
       "ANO_FABRICACAO                1.727247\n",
       "SOLUCAO                       0.043988\n",
       "dtype: float64"
      ]
     },
     "execution_count": 6,
     "metadata": {},
     "output_type": "execute_result"
    }
   ],
   "source": [
    "nulos = dfsbc.isnull().sum().sort_values(ascending=False)*100 / dfsbc.shape[0]\n",
    "nulos.head(35)"
   ]
  },
  {
   "cell_type": "markdown",
   "metadata": {},
   "source": [
    "Uma outra maneira de ter uma visão geral é utilizando a função `Heatmap` da biblioteca `Seaborn`"
   ]
  },
  {
   "cell_type": "code",
   "execution_count": 7,
   "metadata": {},
   "outputs": [
    {
     "data": {
      "image/png": "[encoded data removed]",
      "text/plain": [
       "<Figure size 1080x864 with 1 Axes>"
      ]
     },
     "metadata": {
      "needs_background": "light"
     },
     "output_type": "display_data"
    }
   ],
   "source": [
    "fig = plt.figure(figsize = (15,12));\n",
    "sns.heatmap(dfsbc.isnull(), cbar = False);"
   ]
  },
  {
   "cell_type": "markdown",
   "metadata": {},
   "source": [
    "### Remover colunas e dados indesejados\n",
    "\n",
    "Primeiramente avaliar entre as colunas que tem mais que 70% dos dados ausentes o que é possível eliminar e criar uma lista com esses campos"
   ]
  },
  {
   "cell_type": "code",
   "execution_count": 8,
   "metadata": {
    "scrolled": true
   },
   "outputs": [
    {
     "data": {
      "text/plain": [
       "Index(['MARCA_CELULAR', 'PARENTESCO', 'QUANT_CELULAR', 'RELACIONAMENTO',\n",
       "       'PROFISSAO', 'GRAUINSTRUCAO', 'ESTADOCIVIL', 'NACIONALIDADE',\n",
       "       'NATURALIDADE', 'DATANASCIMENTO', 'IDADE', 'SEXO', 'VITIMAFATAL',\n",
       "       'TIPOVINCULO', 'NATUREZAVINCULADA', 'CORCUTIS', 'TIPOPESSOA',\n",
       "       'DESDOBRAMENTO', 'NUMERO_BOLETIM_PRINCIPAL', 'EXAME', 'PLACA_VEICULO',\n",
       "       'DESCR_MARCA_VEICULO', 'CIDADE_VEICULO', 'UF_VEICULO',\n",
       "       'DESCR_TIPO_VEICULO', 'DESCR_COR_VEICULO', 'LATITUDE', 'LONGITUDE',\n",
       "       'LOGRADOURO', 'STATUS', 'BAIRRO', 'HORAOCORRENCIA', 'ANO_MODELO',\n",
       "       'ANO_FABRICACAO'],\n",
       "      dtype='object')"
      ]
     },
     "execution_count": 8,
     "metadata": {},
     "output_type": "execute_result"
    }
   ],
   "source": [
    "nulos.index[nulos > 0.7]"
   ]
  },
  {
   "cell_type": "markdown",
   "metadata": {},
   "source": [
    "Os campos pessoais podem ser diretamente eliminados, assim como marca e quantidade de celular para os demais campos será analisado a real necessidade"
   ]
  },
  {
   "cell_type": "code",
   "execution_count": 9,
   "metadata": {},
   "outputs": [],
   "source": [
    "eliminar = ['MARCA_CELULAR', 'PARENTESCO', 'QUANT_CELULAR', 'RELACIONAMENTO', 'NACIONALIDADE', 'PROFISSAO',\n",
    "       'GRAUINSTRUCAO', 'NATURALIDADE', 'DATANASCIMENTO', 'ESTADOCIVIL',\n",
    "       'IDADE', 'NATUREZAVINCULADA', 'TIPOPESSOA', 'SEXO', 'CORCUTIS',\n",
    "       'TIPOVINCULO']"
   ]
  },
  {
   "cell_type": "code",
   "execution_count": 10,
   "metadata": {},
   "outputs": [
    {
     "name": "stderr",
     "output_type": "stream",
     "text": [
      "C:\\Users\\caior\\AppData\\Roaming\\Python\\Python38\\site-packages\\pandas\\core\\frame.py:4157: SettingWithCopyWarning: \n",
      "A value is trying to be set on a copy of a slice from a DataFrame\n",
      "\n",
      "See the caveats in the documentation: https://pandas.pydata.org/pandas-docs/stable/user_guide/indexing.html#returning-a-view-versus-a-copy\n",
      "  return super().drop(\n"
     ]
    }
   ],
   "source": [
    "dfsbc.drop(eliminar, axis=1, inplace=True)"
   ]
  },
  {
   "cell_type": "code",
   "execution_count": 11,
   "metadata": {},
   "outputs": [
    {
     "data": {
      "text/plain": [
       "(68201, 38)"
      ]
     },
     "execution_count": 11,
     "metadata": {},
     "output_type": "execute_result"
    }
   ],
   "source": [
    "dfsbc.shape"
   ]
  },
  {
   "cell_type": "markdown",
   "metadata": {},
   "source": [
    "### Analisando demais colunas\n",
    "\n",
    "Usar comando abaixo para ajustar configurações de visualização do pandas para explorar os dados das colunas"
   ]
  },
  {
   "cell_type": "code",
   "execution_count": 12,
   "metadata": {},
   "outputs": [],
   "source": [
    "pd.set_option('display.max_columns', 60) # Define limite de 60 colunas na visualização\n",
    "#pd.set_option('display.max_seq_items', 30) # Define limite de linhas na visualização"
   ]
  },
  {
   "cell_type": "markdown",
   "metadata": {},
   "source": [
    "Selecionar somente os campos onde há vitima fatal e contar.\n",
    "\n",
    "De acordo com o site da SSP-SP, a referência de quantidade de Boletins de Ocorrência deve ser pelo Número do Boletim (NUMERO_BOLETIM).\n",
    "\n",
    "Neste caso, houve 22 vitimas fatais entre 2010 e 2020,\n",
    "\n",
    "Por esta razão os dados serão mantidos, apenas a coluna será removida\n",
    "\n"
   ]
  },
  {
   "cell_type": "code",
   "execution_count": 13,
   "metadata": {},
   "outputs": [
    {
     "name": "stdout",
     "output_type": "stream",
     "text": [
      "39 vitimas fatais de 2010 à 2020\n"
     ]
    }
   ],
   "source": [
    "vitimafatal = dfsbc[dfsbc['VITIMAFATAL'].isnull()==False]\n",
    "total_vf = len(vitimafatal['NUMERO_BOLETIM'].unique())\n",
    "print(total_vf, 'vitimas fatais de 2010 à 2020')"
   ]
  },
  {
   "cell_type": "markdown",
   "metadata": {},
   "source": [
    "Neste caso, houve 39 vitimas fatais entre 2010 e 2020,\n",
    "\n",
    "Por esta razão os dados serão mantidos, apenas a coluna `'VITIMAFATAL'` será removida."
   ]
  },
  {
   "cell_type": "markdown",
   "metadata": {},
   "source": [
    "Os campos `'DESDOBRAMENTO'`, `'EXAME'`, possuem informações que não são relevantes para a ánalise, porém os dados devem ser mantidos, removendo apenas as colunas"
   ]
  },
  {
   "cell_type": "code",
   "execution_count": 14,
   "metadata": {},
   "outputs": [
    {
     "data": {
      "text/plain": [
       "array([nan, 'IC-IML', 'IC', 'IML'], dtype=object)"
      ]
     },
     "execution_count": 14,
     "metadata": {},
     "output_type": "execute_result"
    }
   ],
   "source": [
    "dfsbc.EXAME.unique()"
   ]
  },
  {
   "cell_type": "code",
   "execution_count": 15,
   "metadata": {},
   "outputs": [
    {
     "data": {
      "text/plain": [
       "array([nan,\n",
       "       'caput. Subtrair coisa móvel alheia, mediante grave ameaça ou violência a pessoa',\n",
       "       'Nas mesmas penas incorrem quem (Par. único)',\n",
       "       '§3o. Se da violência resulta lesão corporal grave:',\n",
       "       '§1o. (...) logo depois de subtraída a coisa, emprega violência contra pessoa',\n",
       "       'Morte decorrente de intervenção policial (RES. SSP 05 - 07/01/2013)',\n",
       "       '§4o. Se o crime é cometido:',\n",
       "       'Lesão corporal decorrente de intervenção policial (RES. SSP 05 - 07/01/2013)',\n",
       "       '§2o. Se resulta grave sofrimento físico ou moral',\n",
       "       'I - com violência à pessoa ou grave ameaça;',\n",
       "       'Possuir, deter, portar, adquirir, fornecer, receber, ter em depósito...',\n",
       "       '§3o. Se da violência resulta lesão corporal grave',\n",
       "       'Contra autoridade ou agente descrito nos arts. 142 e 144 da Constituição Federal',\n",
       "       'Caput Corromper ou facilitar a corrupção de menor de 18 (dezoito) anos',\n",
       "       'caput. Opor-se à execução de ato legal, mediante violência ou ameaça',\n",
       "       'VII - contra autoridade ou agente descrito nos arts. 142 e 144 da CF',\n",
       "       'Na condução de veículo automotor', 'Sequestro Relâmpago',\n",
       "       'Meio empregado para destruição ou rompimento de obstáculo à subtração da coisa',\n",
       "       'caput. Adulterar/remarcar núm de chassi ou sinal identificador de veículo',\n",
       "       '§1o. Se dura + de 24 horas, se o seqüestrado é menor de 18a., prat por quadrilha',\n",
       "       'V - para assegurar a execução/ocultação/impunidade/vantagem de outro crime',\n",
       "       'Morte Acidental',\n",
       "       'caput. Privar alguém de sua liberdade, mediante seqüestro ou cárcere privado:',\n",
       "       '§2o.Se a violência ou grave ameaça é exercida com emprego de arma de fogo de uso'],\n",
       "      dtype=object)"
      ]
     },
     "execution_count": 15,
     "metadata": {},
     "output_type": "execute_result"
    }
   ],
   "source": [
    "dfsbc.DESDOBRAMENTO.unique()"
   ]
  },
  {
   "cell_type": "code",
   "execution_count": 16,
   "metadata": {},
   "outputs": [
    {
     "name": "stderr",
     "output_type": "stream",
     "text": [
      "C:\\Users\\caior\\AppData\\Roaming\\Python\\Python38\\site-packages\\pandas\\core\\frame.py:4157: SettingWithCopyWarning: \n",
      "A value is trying to be set on a copy of a slice from a DataFrame\n",
      "\n",
      "See the caveats in the documentation: https://pandas.pydata.org/pandas-docs/stable/user_guide/indexing.html#returning-a-view-versus-a-copy\n",
      "  return super().drop(\n"
     ]
    }
   ],
   "source": [
    "eliminar = ['VITIMAFATAL', 'DESDOBRAMENTO', 'EXAME']\n",
    "\n",
    "dfsbc.drop(eliminar, axis=1, inplace=True)"
   ]
  },
  {
   "cell_type": "code",
   "execution_count": 17,
   "metadata": {},
   "outputs": [
    {
     "data": {
      "text/html": [
       "<div>\n",
       "<style scoped>\n",
       "    .dataframe tbody tr th:only-of-type {\n",
       "        vertical-align: middle;\n",
       "    }\n",
       "\n",
       "    .dataframe tbody tr th {\n",
       "        vertical-align: top;\n",
       "    }\n",
       "\n",
       "    .dataframe thead th {\n",
       "        text-align: right;\n",
       "    }\n",
       "</style>\n",
       "<table border=\"1\" class=\"dataframe\">\n",
       "  <thead>\n",
       "    <tr style=\"text-align: right;\">\n",
       "      <th></th>\n",
       "      <th>ANO_BO</th>\n",
       "      <th>NUM_BO</th>\n",
       "      <th>NUMERO_BOLETIM</th>\n",
       "      <th>BO_INICIADO</th>\n",
       "      <th>BO_EMITIDO</th>\n",
       "      <th>DATAOCORRENCIA</th>\n",
       "      <th>HORAOCORRENCIA</th>\n",
       "      <th>PERIDOOCORRENCIA</th>\n",
       "      <th>DATACOMUNICACAO</th>\n",
       "      <th>DATAELABORACAO</th>\n",
       "      <th>BO_AUTORIA</th>\n",
       "      <th>FLAGRANTE</th>\n",
       "      <th>NUMERO_BOLETIM_PRINCIPAL</th>\n",
       "      <th>LOGRADOURO</th>\n",
       "      <th>NUMERO</th>\n",
       "      <th>BAIRRO</th>\n",
       "      <th>CIDADE</th>\n",
       "      <th>UF</th>\n",
       "      <th>LATITUDE</th>\n",
       "      <th>LONGITUDE</th>\n",
       "      <th>DESCRICAOLOCAL</th>\n",
       "      <th>SOLUCAO</th>\n",
       "      <th>DELEGACIA_NOME</th>\n",
       "      <th>DELEGACIA_CIRCUNSCRICAO</th>\n",
       "      <th>ESPECIE</th>\n",
       "      <th>RUBRICA</th>\n",
       "      <th>STATUS</th>\n",
       "      <th>PLACA_VEICULO</th>\n",
       "      <th>UF_VEICULO</th>\n",
       "      <th>CIDADE_VEICULO</th>\n",
       "      <th>DESCR_COR_VEICULO</th>\n",
       "      <th>DESCR_MARCA_VEICULO</th>\n",
       "      <th>ANO_FABRICACAO</th>\n",
       "      <th>ANO_MODELO</th>\n",
       "      <th>DESCR_TIPO_VEICULO</th>\n",
       "    </tr>\n",
       "  </thead>\n",
       "  <tbody>\n",
       "    <tr>\n",
       "      <th>40</th>\n",
       "      <td>2010</td>\n",
       "      <td>3</td>\n",
       "      <td>3/2010</td>\n",
       "      <td>01/01/2010 02:49:46</td>\n",
       "      <td>01/01/2010 02:57:54</td>\n",
       "      <td>31/12/2009</td>\n",
       "      <td>23:15</td>\n",
       "      <td>A NOITE</td>\n",
       "      <td>01/01/2010</td>\n",
       "      <td>01/01/2010 02:49:46</td>\n",
       "      <td>Desconhecida</td>\n",
       "      <td>Não</td>\n",
       "      <td>NaN</td>\n",
       "      <td>R ROLANDO GAMBINI</td>\n",
       "      <td>100.0</td>\n",
       "      <td>ASSUNÇÃO</td>\n",
       "      <td>S.BERNARDO DO CAMPO</td>\n",
       "      <td>SP</td>\n",
       "      <td>NaN</td>\n",
       "      <td>NaN</td>\n",
       "      <td>Via pública</td>\n",
       "      <td>APRECIAÇÃO DO DELEGADO TITULAR</td>\n",
       "      <td>03º D.P. S.BERNARDO DO CAMPO</td>\n",
       "      <td>03º D.P. S.BERNARDO DO CAMPO</td>\n",
       "      <td>Título II - Patrimônio (arts. 155 a 183)</td>\n",
       "      <td>Roubo (art. 157) - VEICULO</td>\n",
       "      <td>Consumado</td>\n",
       "      <td>GZW4772</td>\n",
       "      <td>SP</td>\n",
       "      <td>SAO BERNARDO DO CAMP</td>\n",
       "      <td>Cinza</td>\n",
       "      <td>FIAT/PALIO EX</td>\n",
       "      <td>2002.0</td>\n",
       "      <td>2002.0</td>\n",
       "      <td>AUTOMOVEL</td>\n",
       "    </tr>\n",
       "    <tr>\n",
       "      <th>56</th>\n",
       "      <td>2009</td>\n",
       "      <td>15057</td>\n",
       "      <td>15057/2009</td>\n",
       "      <td>31/12/2009 23:27:18</td>\n",
       "      <td>01/01/2010 05:31:49</td>\n",
       "      <td>31/12/2009</td>\n",
       "      <td>21:38</td>\n",
       "      <td>A NOITE</td>\n",
       "      <td>31/12/2009</td>\n",
       "      <td>31/12/2009 23:27:18</td>\n",
       "      <td>Conhecida</td>\n",
       "      <td>Sim</td>\n",
       "      <td>NaN</td>\n",
       "      <td>AV BARAO DE MAUA</td>\n",
       "      <td>559.0</td>\n",
       "      <td>CHACARA INGLESA</td>\n",
       "      <td>S.BERNARDO DO CAMPO</td>\n",
       "      <td>SP</td>\n",
       "      <td>NaN</td>\n",
       "      <td>NaN</td>\n",
       "      <td>Via pública</td>\n",
       "      <td>BO PARA FLAGRANTE</td>\n",
       "      <td>01º D.P. S.B.C-DR OMAR CASSIM</td>\n",
       "      <td>01º D.P. S.B.C-DR OMAR CASSIM</td>\n",
       "      <td>Título II - Patrimônio (arts. 155 a 183)</td>\n",
       "      <td>Roubo (art. 157) - VEICULO</td>\n",
       "      <td>Consumado</td>\n",
       "      <td>DRQ4515</td>\n",
       "      <td>SP</td>\n",
       "      <td>SAO BERNARDO DO CAMP</td>\n",
       "      <td>Prata</td>\n",
       "      <td>VW/FOX 1.6 PLUS</td>\n",
       "      <td>2005.0</td>\n",
       "      <td>2006.0</td>\n",
       "      <td>AUTOMOVEL</td>\n",
       "    </tr>\n",
       "    <tr>\n",
       "      <th>116</th>\n",
       "      <td>2010</td>\n",
       "      <td>22</td>\n",
       "      <td>22/2010</td>\n",
       "      <td>01/01/2010 14:12:44</td>\n",
       "      <td>01/01/2010 14:17:52</td>\n",
       "      <td>31/12/2009</td>\n",
       "      <td>21:00</td>\n",
       "      <td>A NOITE</td>\n",
       "      <td>01/01/2010</td>\n",
       "      <td>01/01/2010 14:12:44</td>\n",
       "      <td>Desconhecida</td>\n",
       "      <td>Não</td>\n",
       "      <td>NaN</td>\n",
       "      <td>R CIDADE DO MEXICO</td>\n",
       "      <td>51.0</td>\n",
       "      <td>NaN</td>\n",
       "      <td>S.BERNARDO DO CAMPO</td>\n",
       "      <td>SP</td>\n",
       "      <td>NaN</td>\n",
       "      <td>NaN</td>\n",
       "      <td>Via pública</td>\n",
       "      <td>APRECIAÇÃO DO DELEGADO TITULAR</td>\n",
       "      <td>03º D.P. S.BERNARDO DO CAMPO</td>\n",
       "      <td>03º D.P. S.BERNARDO DO CAMPO</td>\n",
       "      <td>Título II - Patrimônio (arts. 155 a 183)</td>\n",
       "      <td>Roubo (art. 157) - VEICULO</td>\n",
       "      <td>Consumado</td>\n",
       "      <td>EIP4923</td>\n",
       "      <td>SP</td>\n",
       "      <td>SAO BERNARDO DO CAMP</td>\n",
       "      <td>Preta</td>\n",
       "      <td>VW/GOL 1.0</td>\n",
       "      <td>2009.0</td>\n",
       "      <td>2010.0</td>\n",
       "      <td>AUTOMOVEL</td>\n",
       "    </tr>\n",
       "    <tr>\n",
       "      <th>149</th>\n",
       "      <td>2010</td>\n",
       "      <td>9</td>\n",
       "      <td>9/2010</td>\n",
       "      <td>01/01/2010 20:31:31</td>\n",
       "      <td>01/01/2010 20:52:32</td>\n",
       "      <td>01/01/2010</td>\n",
       "      <td>19:10</td>\n",
       "      <td>A NOITE</td>\n",
       "      <td>01/01/2010</td>\n",
       "      <td>01/01/2010 20:31:31</td>\n",
       "      <td>Desconhecida</td>\n",
       "      <td>Não</td>\n",
       "      <td>NaN</td>\n",
       "      <td>NaN</td>\n",
       "      <td>0.0</td>\n",
       "      <td>ALVINÓPOLIS</td>\n",
       "      <td>S.BERNARDO DO CAMPO</td>\n",
       "      <td>SP</td>\n",
       "      <td>NaN</td>\n",
       "      <td>NaN</td>\n",
       "      <td>Residência</td>\n",
       "      <td>ENCAMINHAMENTO DP ÁREA DO FATO</td>\n",
       "      <td>02º D.P. S.BERNARDO DO CAMPO</td>\n",
       "      <td>05º D.P. S.BERNARDO DO CAMPO</td>\n",
       "      <td>Título II - Patrimônio (arts. 155 a 183)</td>\n",
       "      <td>Roubo (art. 157) - VEICULO</td>\n",
       "      <td>Consumado</td>\n",
       "      <td>DDS2135</td>\n",
       "      <td>SP</td>\n",
       "      <td>SAO BERNARDO DO CAMP</td>\n",
       "      <td>Azul</td>\n",
       "      <td>FIAT/PALIO YOUNG</td>\n",
       "      <td>2001.0</td>\n",
       "      <td>2001.0</td>\n",
       "      <td>AUTOMOVEL</td>\n",
       "    </tr>\n",
       "    <tr>\n",
       "      <th>151</th>\n",
       "      <td>2010</td>\n",
       "      <td>10</td>\n",
       "      <td>10/2010</td>\n",
       "      <td>01/01/2010 21:04:59</td>\n",
       "      <td>01/01/2010 21:12:34</td>\n",
       "      <td>01/01/2010</td>\n",
       "      <td>20:00</td>\n",
       "      <td>A NOITE</td>\n",
       "      <td>01/01/2010</td>\n",
       "      <td>01/01/2010 21:04:59</td>\n",
       "      <td>Desconhecida</td>\n",
       "      <td>Não</td>\n",
       "      <td>NaN</td>\n",
       "      <td>R JOAO DEPOLLI</td>\n",
       "      <td>115.0</td>\n",
       "      <td>V PAULICÉIA</td>\n",
       "      <td>S.BERNARDO DO CAMPO</td>\n",
       "      <td>SP</td>\n",
       "      <td>NaN</td>\n",
       "      <td>NaN</td>\n",
       "      <td>Via pública</td>\n",
       "      <td>ENCAMINHAMENTO DP ÁREA DO FATO</td>\n",
       "      <td>02º D.P. S.BERNARDO DO CAMPO</td>\n",
       "      <td>05º D.P. S.BERNARDO DO CAMPO</td>\n",
       "      <td>Título II - Patrimônio (arts. 155 a 183)</td>\n",
       "      <td>Roubo (art. 157) - VEICULO</td>\n",
       "      <td>Consumado</td>\n",
       "      <td>DQR9216</td>\n",
       "      <td>SP</td>\n",
       "      <td>SAO BERNARDO DO CAMP</td>\n",
       "      <td>Preta</td>\n",
       "      <td>HONDA/FIT LXL</td>\n",
       "      <td>2005.0</td>\n",
       "      <td>2006.0</td>\n",
       "      <td>AUTOMOVEL</td>\n",
       "    </tr>\n",
       "  </tbody>\n",
       "</table>\n",
       "</div>"
      ],
      "text/plain": [
       "     ANO_BO  NUM_BO NUMERO_BOLETIM          BO_INICIADO           BO_EMITIDO  \\\n",
       "40     2010       3         3/2010  01/01/2010 02:49:46  01/01/2010 02:57:54   \n",
       "56     2009   15057     15057/2009  31/12/2009 23:27:18  01/01/2010 05:31:49   \n",
       "116    2010      22        22/2010  01/01/2010 14:12:44  01/01/2010 14:17:52   \n",
       "149    2010       9         9/2010  01/01/2010 20:31:31  01/01/2010 20:52:32   \n",
       "151    2010      10        10/2010  01/01/2010 21:04:59  01/01/2010 21:12:34   \n",
       "\n",
       "    DATAOCORRENCIA HORAOCORRENCIA PERIDOOCORRENCIA DATACOMUNICACAO  \\\n",
       "40      31/12/2009          23:15          A NOITE      01/01/2010   \n",
       "56      31/12/2009          21:38          A NOITE      31/12/2009   \n",
       "116     31/12/2009          21:00          A NOITE      01/01/2010   \n",
       "149     01/01/2010          19:10          A NOITE      01/01/2010   \n",
       "151     01/01/2010          20:00          A NOITE      01/01/2010   \n",
       "\n",
       "          DATAELABORACAO    BO_AUTORIA FLAGRANTE NUMERO_BOLETIM_PRINCIPAL  \\\n",
       "40   01/01/2010 02:49:46  Desconhecida       Não                      NaN   \n",
       "56   31/12/2009 23:27:18     Conhecida       Sim                      NaN   \n",
       "116  01/01/2010 14:12:44  Desconhecida       Não                      NaN   \n",
       "149  01/01/2010 20:31:31  Desconhecida       Não                      NaN   \n",
       "151  01/01/2010 21:04:59  Desconhecida       Não                      NaN   \n",
       "\n",
       "             LOGRADOURO  NUMERO           BAIRRO               CIDADE  UF  \\\n",
       "40    R ROLANDO GAMBINI   100.0         ASSUNÇÃO  S.BERNARDO DO CAMPO  SP   \n",
       "56     AV BARAO DE MAUA   559.0  CHACARA INGLESA  S.BERNARDO DO CAMPO  SP   \n",
       "116  R CIDADE DO MEXICO    51.0              NaN  S.BERNARDO DO CAMPO  SP   \n",
       "149                 NaN     0.0      ALVINÓPOLIS  S.BERNARDO DO CAMPO  SP   \n",
       "151      R JOAO DEPOLLI   115.0      V PAULICÉIA  S.BERNARDO DO CAMPO  SP   \n",
       "\n",
       "    LATITUDE LONGITUDE DESCRICAOLOCAL                         SOLUCAO  \\\n",
       "40       NaN       NaN    Via pública  APRECIAÇÃO DO DELEGADO TITULAR   \n",
       "56       NaN       NaN    Via pública               BO PARA FLAGRANTE   \n",
       "116      NaN       NaN    Via pública  APRECIAÇÃO DO DELEGADO TITULAR   \n",
       "149      NaN       NaN     Residência  ENCAMINHAMENTO DP ÁREA DO FATO   \n",
       "151      NaN       NaN    Via pública  ENCAMINHAMENTO DP ÁREA DO FATO   \n",
       "\n",
       "                    DELEGACIA_NOME        DELEGACIA_CIRCUNSCRICAO  \\\n",
       "40    03º D.P. S.BERNARDO DO CAMPO   03º D.P. S.BERNARDO DO CAMPO   \n",
       "56   01º D.P. S.B.C-DR OMAR CASSIM  01º D.P. S.B.C-DR OMAR CASSIM   \n",
       "116   03º D.P. S.BERNARDO DO CAMPO   03º D.P. S.BERNARDO DO CAMPO   \n",
       "149   02º D.P. S.BERNARDO DO CAMPO   05º D.P. S.BERNARDO DO CAMPO   \n",
       "151   02º D.P. S.BERNARDO DO CAMPO   05º D.P. S.BERNARDO DO CAMPO   \n",
       "\n",
       "                                      ESPECIE                     RUBRICA  \\\n",
       "40   Título II - Patrimônio (arts. 155 a 183)  Roubo (art. 157) - VEICULO   \n",
       "56   Título II - Patrimônio (arts. 155 a 183)  Roubo (art. 157) - VEICULO   \n",
       "116  Título II - Patrimônio (arts. 155 a 183)  Roubo (art. 157) - VEICULO   \n",
       "149  Título II - Patrimônio (arts. 155 a 183)  Roubo (art. 157) - VEICULO   \n",
       "151  Título II - Patrimônio (arts. 155 a 183)  Roubo (art. 157) - VEICULO   \n",
       "\n",
       "        STATUS PLACA_VEICULO UF_VEICULO        CIDADE_VEICULO  \\\n",
       "40   Consumado       GZW4772         SP  SAO BERNARDO DO CAMP   \n",
       "56   Consumado       DRQ4515         SP  SAO BERNARDO DO CAMP   \n",
       "116  Consumado       EIP4923         SP  SAO BERNARDO DO CAMP   \n",
       "149  Consumado       DDS2135         SP  SAO BERNARDO DO CAMP   \n",
       "151  Consumado       DQR9216         SP  SAO BERNARDO DO CAMP   \n",
       "\n",
       "    DESCR_COR_VEICULO DESCR_MARCA_VEICULO  ANO_FABRICACAO  ANO_MODELO  \\\n",
       "40              Cinza       FIAT/PALIO EX          2002.0      2002.0   \n",
       "56              Prata     VW/FOX 1.6 PLUS          2005.0      2006.0   \n",
       "116             Preta          VW/GOL 1.0          2009.0      2010.0   \n",
       "149              Azul    FIAT/PALIO YOUNG          2001.0      2001.0   \n",
       "151             Preta       HONDA/FIT LXL          2005.0      2006.0   \n",
       "\n",
       "    DESCR_TIPO_VEICULO  \n",
       "40           AUTOMOVEL  \n",
       "56           AUTOMOVEL  \n",
       "116          AUTOMOVEL  \n",
       "149          AUTOMOVEL  \n",
       "151          AUTOMOVEL  "
      ]
     },
     "execution_count": 17,
     "metadata": {},
     "output_type": "execute_result"
    }
   ],
   "source": [
    "dfsbc.head()"
   ]
  },
  {
   "cell_type": "code",
   "execution_count": 18,
   "metadata": {},
   "outputs": [
    {
     "data": {
      "text/plain": [
       "(68201, 35)"
      ]
     },
     "execution_count": 18,
     "metadata": {},
     "output_type": "execute_result"
    }
   ],
   "source": [
    "dfsbc.shape"
   ]
  },
  {
   "cell_type": "markdown",
   "metadata": {},
   "source": [
    "Plotar novamente o gráfico *heatmap* para verificar como ficou o dataset após a eliminação dos dados anteriores"
   ]
  },
  {
   "cell_type": "code",
   "execution_count": 19,
   "metadata": {},
   "outputs": [
    {
     "data": {
      "image/png": "[encoded data removed]",
      "text/plain": [
       "<Figure size 1080x864 with 1 Axes>"
      ]
     },
     "metadata": {
      "needs_background": "light"
     },
     "output_type": "display_data"
    }
   ],
   "source": [
    "fig = plt.figure(figsize = (15,12));\n",
    "sns.heatmap(dfsbc.isnull(), cbar = False);"
   ]
  },
  {
   "cell_type": "markdown",
   "metadata": {},
   "source": [
    "## Verificando Outliers\n",
    "\n",
    "Ao executar o comando `.describe()`, é possível visualizar que na coluna `ANO_MODELO` tem algum valor não correto, pois é maior do que a data atual"
   ]
  },
  {
   "cell_type": "code",
   "execution_count": 20,
   "metadata": {},
   "outputs": [
    {
     "data": {
      "text/html": [
       "<div>\n",
       "<style scoped>\n",
       "    .dataframe tbody tr th:only-of-type {\n",
       "        vertical-align: middle;\n",
       "    }\n",
       "\n",
       "    .dataframe tbody tr th {\n",
       "        vertical-align: top;\n",
       "    }\n",
       "\n",
       "    .dataframe thead th {\n",
       "        text-align: right;\n",
       "    }\n",
       "</style>\n",
       "<table border=\"1\" class=\"dataframe\">\n",
       "  <thead>\n",
       "    <tr style=\"text-align: right;\">\n",
       "      <th></th>\n",
       "      <th>ANO_BO</th>\n",
       "      <th>NUM_BO</th>\n",
       "      <th>NUMERO</th>\n",
       "      <th>ANO_FABRICACAO</th>\n",
       "      <th>ANO_MODELO</th>\n",
       "    </tr>\n",
       "  </thead>\n",
       "  <tbody>\n",
       "    <tr>\n",
       "      <th>count</th>\n",
       "      <td>68201.000000</td>\n",
       "      <td>6.820100e+04</td>\n",
       "      <td>6.820100e+04</td>\n",
       "      <td>67023.000000</td>\n",
       "      <td>65839.000000</td>\n",
       "    </tr>\n",
       "    <tr>\n",
       "      <th>mean</th>\n",
       "      <td>2014.549713</td>\n",
       "      <td>6.780696e+04</td>\n",
       "      <td>1.534994e+04</td>\n",
       "      <td>1443.892902</td>\n",
       "      <td>1434.094093</td>\n",
       "    </tr>\n",
       "    <tr>\n",
       "      <th>std</th>\n",
       "      <td>2.915058</td>\n",
       "      <td>2.660687e+05</td>\n",
       "      <td>3.610610e+06</td>\n",
       "      <td>903.328473</td>\n",
       "      <td>909.441790</td>\n",
       "    </tr>\n",
       "    <tr>\n",
       "      <th>min</th>\n",
       "      <td>2009.000000</td>\n",
       "      <td>1.000000e+00</td>\n",
       "      <td>0.000000e+00</td>\n",
       "      <td>0.000000</td>\n",
       "      <td>0.000000</td>\n",
       "    </tr>\n",
       "    <tr>\n",
       "      <th>25%</th>\n",
       "      <td>2012.000000</td>\n",
       "      <td>1.546000e+03</td>\n",
       "      <td>1.000000e+01</td>\n",
       "      <td>0.000000</td>\n",
       "      <td>0.000000</td>\n",
       "    </tr>\n",
       "    <tr>\n",
       "      <th>50%</th>\n",
       "      <td>2014.000000</td>\n",
       "      <td>3.742000e+03</td>\n",
       "      <td>1.150000e+02</td>\n",
       "      <td>2008.000000</td>\n",
       "      <td>2008.000000</td>\n",
       "    </tr>\n",
       "    <tr>\n",
       "      <th>75%</th>\n",
       "      <td>2017.000000</td>\n",
       "      <td>7.605000e+03</td>\n",
       "      <td>5.060000e+02</td>\n",
       "      <td>2011.000000</td>\n",
       "      <td>2012.000000</td>\n",
       "    </tr>\n",
       "    <tr>\n",
       "      <th>max</th>\n",
       "      <td>2020.000000</td>\n",
       "      <td>2.038468e+06</td>\n",
       "      <td>9.428187e+08</td>\n",
       "      <td>2020.000000</td>\n",
       "      <td>9150.000000</td>\n",
       "    </tr>\n",
       "  </tbody>\n",
       "</table>\n",
       "</div>"
      ],
      "text/plain": [
       "             ANO_BO        NUM_BO        NUMERO  ANO_FABRICACAO    ANO_MODELO\n",
       "count  68201.000000  6.820100e+04  6.820100e+04    67023.000000  65839.000000\n",
       "mean    2014.549713  6.780696e+04  1.534994e+04     1443.892902   1434.094093\n",
       "std        2.915058  2.660687e+05  3.610610e+06      903.328473    909.441790\n",
       "min     2009.000000  1.000000e+00  0.000000e+00        0.000000      0.000000\n",
       "25%     2012.000000  1.546000e+03  1.000000e+01        0.000000      0.000000\n",
       "50%     2014.000000  3.742000e+03  1.150000e+02     2008.000000   2008.000000\n",
       "75%     2017.000000  7.605000e+03  5.060000e+02     2011.000000   2012.000000\n",
       "max     2020.000000  2.038468e+06  9.428187e+08     2020.000000   9150.000000"
      ]
     },
     "metadata": {},
     "output_type": "display_data"
    }
   ],
   "source": [
    "display(dfsbc.describe())"
   ]
  },
  {
   "cell_type": "markdown",
   "metadata": {},
   "source": [
    "Abaixo um *boxplot* e um gráfico de densidade para melhor visualizar estes *outliers*\n",
    "\n",
    "No caso um comparativo do `ANO_FABRICAÇÃO` com `ANO_MODELO` onde os 2 apresentam valores nulos (representados como zeros)"
   ]
  },
  {
   "cell_type": "markdown",
   "metadata": {},
   "source": [
    "# Ajustar Layout - escala X"
   ]
  },
  {
   "cell_type": "code",
   "execution_count": 21,
   "metadata": {
    "scrolled": false
   },
   "outputs": [
    {
     "data": {
      "image/png": "[encoded data removed]",
      "text/plain": [
       "<Figure size 1080x432 with 4 Axes>"
      ]
     },
     "metadata": {
      "needs_background": "light"
     },
     "output_type": "display_data"
    }
   ],
   "source": [
    "f = plt.figure(figsize=(15, 6))\n",
    "gs = f.add_gridspec(2, 2)\n",
    "\n",
    "with sns.axes_style(\"darkgrid\"):\n",
    "    ax = f.add_subplot(gs[0, 0])\n",
    "    sns.boxplot(x=dfsbc['ANO_FABRICACAO'], color='#033399')\n",
    "\n",
    "with sns.axes_style(\"darkgrid\"):\n",
    "    ax = f.add_subplot(gs[0, 1])\n",
    "    sns.boxplot(x=dfsbc['ANO_MODELO'], color='#990303')\n",
    "\n",
    "\n",
    "with sns.axes_style(\"darkgrid\"):\n",
    "    ax = f.add_subplot(gs[1, 0])\n",
    "    sns.kdeplot(x=dfsbc['ANO_FABRICACAO'], ax=ax, color='#033399')\n",
    "\n",
    "with sns.axes_style(\"darkgrid\"):\n",
    "    ax = f.add_subplot(gs[1, 1])\n",
    "    sns.kdeplot(x=dfsbc['ANO_MODELO'], ax=ax, color='#990303')\n",
    "\n",
    "f.tight_layout()"
   ]
  },
  {
   "cell_type": "markdown",
   "metadata": {},
   "source": [
    "Para visualizar e entender quais são e quantos são os tipos de erros, serão selecionados todas as entradas e ordenadas do maior para o menor\n",
    "\n",
    "Apesar da base de dados ser até o ano de 2020, é comum as montadoras lançarem carros modelo 2021 ainda no ano de 2020"
   ]
  },
  {
   "cell_type": "code",
   "execution_count": 23,
   "metadata": {},
   "outputs": [
    {
     "data": {
      "text/plain": [
       "array([9150., 2911., 2021., 2020., 2019., 2018., 2017., 2016., 2015.,\n",
       "       2014., 2013., 2012., 2011., 2010., 2009., 2008., 2007., 2006.,\n",
       "       2005., 2004., 2003., 2002., 2001., 2000., 1999., 1998., 1997.,\n",
       "       1996., 1995., 1994., 1993., 1992., 1991., 1990., 1989., 1988.,\n",
       "       1987., 1986., 1985., 1984., 1983., 1982., 1981., 1980., 1979.,\n",
       "       1978., 1977., 1976., 1975., 1974., 1973., 1972., 1971., 1970.,\n",
       "       1969., 1968., 1967., 1964., 1962., 1000.,  600.,  420.,  416.,\n",
       "        150.,   10.,    0.,   nan])"
      ]
     },
     "execution_count": 23,
     "metadata": {},
     "output_type": "execute_result"
    }
   ],
   "source": [
    "dfsbc['ANO_MODELO'].sort_values(ascending=False).unique()"
   ]
  },
  {
   "cell_type": "markdown",
   "metadata": {},
   "source": [
    "Será criada uma restrição de \"ANO_MODELO\" onde as entradas maiores que estiverem nas condições descritas abaixo serão consideradas como \"0\"\n",
    "\n",
    " - **Condição 1** - \"ANO_MODELO\" > 2021\n",
    " - **Condição 2** - \"ANO_MODELO\" < 1900 e \"ANO_MODELO\" > 0  \n",
    "  "
   ]
  },
  {
   "cell_type": "code",
   "execution_count": 44,
   "metadata": {},
   "outputs": [],
   "source": [
    "condicao1 = (dfsbc['ANO_MODELO'] > 2021)\n",
    "condicao2 = (((dfsbc['ANO_MODELO'] < 1900) & (dfsbc['ANO_MODELO'] > 0)))"
   ]
  },
  {
   "cell_type": "code",
   "execution_count": 46,
   "metadata": {},
   "outputs": [
    {
     "name": "stderr",
     "output_type": "stream",
     "text": [
      "<ipython-input-46-6680a13d02d7>:2: SettingWithCopyWarning: \n",
      "A value is trying to be set on a copy of a slice from a DataFrame.\n",
      "Try using .loc[row_indexer,col_indexer] = value instead\n",
      "\n",
      "See the caveats in the documentation: https://pandas.pydata.org/pandas-docs/stable/user_guide/indexing.html#returning-a-view-versus-a-copy\n",
      "  dfsbc['ANO_MODELO'] = np.where(condicao1 | condicao2, 0, dfsbc['ANO_MODELO'])\n"
     ]
    }
   ],
   "source": [
    "# Substitui os valores da condiçao 1 e 2 para \"0\"\n",
    "dfsbc['ANO_MODELO'] = np.where(condicao1 | condicao2, 0, dfsbc['ANO_MODELO'])"
   ]
  },
  {
   "cell_type": "markdown",
   "metadata": {},
   "source": [
    "Ao verificar novamente o *array* de anos únicos, podemos ver que não temos mais *outliers*"
   ]
  },
  {
   "cell_type": "code",
   "execution_count": 48,
   "metadata": {},
   "outputs": [
    {
     "data": {
      "text/plain": [
       "array([2021., 2020., 2019., 2018., 2017., 2016., 2015., 2014., 2013.,\n",
       "       2012., 2011., 2010., 2009., 2008., 2007., 2006., 2005., 2004.,\n",
       "       2003., 2002., 2001., 2000., 1999., 1998., 1997., 1996., 1995.,\n",
       "       1994., 1993., 1992., 1991., 1990., 1989., 1988., 1987., 1986.,\n",
       "       1985., 1984., 1983., 1982., 1981., 1980., 1979., 1978., 1977.,\n",
       "       1976., 1975., 1974., 1973., 1972., 1971., 1970., 1969., 1968.,\n",
       "       1967., 1964., 1962.,    0.,   nan])"
      ]
     },
     "execution_count": 48,
     "metadata": {},
     "output_type": "execute_result"
    }
   ],
   "source": [
    "dfsbc['ANO_MODELO'].sort_values(ascending=False).unique()"
   ]
  },
  {
   "cell_type": "code",
   "execution_count": 53,
   "metadata": {},
   "outputs": [],
   "source": [
    "plot = dfsbc['ANO_MODELO'].loc[(((dfsbc['ANO_MODELO'] > 1900) & (dfsbc['ANO_MODELO'] != 0)))]"
   ]
  },
  {
   "cell_type": "code",
   "execution_count": 54,
   "metadata": {},
   "outputs": [
    {
     "data": {
      "text/plain": [
       "array([2002., 2006., 2010., 2001., 2004., 2000., 1993., 1995., 1997.,\n",
       "       2009., 2008., 1992., 2007., 2003., 1998., 2005., 1999., 1991.,\n",
       "       1994., 1973., 1986., 1974., 2011., 1996., 1989., 1983., 1970.,\n",
       "       1982., 1990., 1987., 1976., 1980., 1985., 1978., 1981., 1988.,\n",
       "       1967., 1972., 1979., 1971., 2012., 1964., 1975., 1984., 2013.,\n",
       "       1977., 1969., 1962., 2014., 2015., 2016., 2017., 2018., 1968.,\n",
       "       2019., 2020., 2021.])"
      ]
     },
     "execution_count": 54,
     "metadata": {},
     "output_type": "execute_result"
    }
   ],
   "source": [
    "plot.unique()"
   ]
  },
  {
   "cell_type": "markdown",
   "metadata": {},
   "source": [
    "# Ajustar Layout - escala X"
   ]
  },
  {
   "cell_type": "code",
   "execution_count": 55,
   "metadata": {
    "scrolled": false
   },
   "outputs": [
    {
     "data": {
      "image/png": "[encoded data removed]",
      "text/plain": [
       "<Figure size 576x432 with 2 Axes>"
      ]
     },
     "metadata": {
      "needs_background": "light"
     },
     "output_type": "display_data"
    }
   ],
   "source": [
    "f = plt.figure(figsize=(8, 6))\n",
    "gs = f.add_gridspec(2, 1)\n",
    "\n",
    "\n",
    "with sns.axes_style(\"darkgrid\"):\n",
    "    ax = f.add_subplot(gs[0, 0])\n",
    "    sns.boxplot(x=plot, color='#990303')\n",
    "\n",
    "\n",
    "with sns.axes_style(\"darkgrid\"):\n",
    "    ax = f.add_subplot(gs[1, 0])\n",
    "    sns.kdeplot(x=plot, ax=ax, color='#990303')\n",
    "\n",
    "#f.tight_layout()"
   ]
  },
  {
   "cell_type": "markdown",
   "metadata": {},
   "source": [
    "## Ajuste do tipo das variáveis"
   ]
  },
  {
   "cell_type": "markdown",
   "metadata": {},
   "source": [
    "\n",
    "Os campos `NUMERO`, `ANO_FABRICACAO`, `ANO_MODELO` e serão convertidos para inteiros,\n",
    "\n",
    "*obs: os valores apresentados como NaN serão preenchidos com \"0\"*"
   ]
  },
  {
   "cell_type": "code",
   "execution_count": 57,
   "metadata": {
    "scrolled": true
   },
   "outputs": [
    {
     "name": "stderr",
     "output_type": "stream",
     "text": [
      "<ipython-input-57-c4a6781daa71>:4: SettingWithCopyWarning: \n",
      "A value is trying to be set on a copy of a slice from a DataFrame.\n",
      "Try using .loc[row_indexer,col_indexer] = value instead\n",
      "\n",
      "See the caveats in the documentation: https://pandas.pydata.org/pandas-docs/stable/user_guide/indexing.html#returning-a-view-versus-a-copy\n",
      "  dfsbc[i] = pd.to_numeric(dfsbc[i].replace(np.nan, 0), downcast='integer', errors='coerce')\n"
     ]
    }
   ],
   "source": [
    "#nos campos NUMERO, ANO_FABRICACAO e ANO_MODELO  os valores apresentados como NaN serão preenchidos com \"0\"\n",
    "lista_int = ['NUMERO', 'ANO_FABRICACAO', 'ANO_MODELO']\n",
    "for i in lista_int:\n",
    "    dfsbc[i] = pd.to_numeric(dfsbc[i].replace(np.nan, 0), downcast='integer', errors='coerce')"
   ]
  },
  {
   "cell_type": "code",
   "execution_count": 58,
   "metadata": {},
   "outputs": [
    {
     "data": {
      "text/plain": [
       "NUMERO            0\n",
       "ANO_FABRICACAO    0\n",
       "ANO_MODELO        0\n",
       "dtype: int64"
      ]
     },
     "execution_count": 58,
     "metadata": {},
     "output_type": "execute_result"
    }
   ],
   "source": [
    "dfsbc[['NUMERO', 'ANO_FABRICACAO', 'ANO_MODELO']].isna().sum()"
   ]
  },
  {
   "cell_type": "code",
   "execution_count": 59,
   "metadata": {},
   "outputs": [
    {
     "data": {
      "text/plain": [
       "ANO_BO                       int64\n",
       "NUM_BO                       int64\n",
       "NUMERO_BOLETIM              object\n",
       "BO_INICIADO                 object\n",
       "BO_EMITIDO                  object\n",
       "DATAOCORRENCIA              object\n",
       "HORAOCORRENCIA              object\n",
       "PERIDOOCORRENCIA            object\n",
       "DATACOMUNICACAO             object\n",
       "DATAELABORACAO              object\n",
       "BO_AUTORIA                  object\n",
       "FLAGRANTE                   object\n",
       "NUMERO_BOLETIM_PRINCIPAL    object\n",
       "LOGRADOURO                  object\n",
       "NUMERO                       int32\n",
       "BAIRRO                      object\n",
       "CIDADE                      object\n",
       "UF                          object\n",
       "LATITUDE                    object\n",
       "LONGITUDE                   object\n",
       "DESCRICAOLOCAL              object\n",
       "SOLUCAO                     object\n",
       "DELEGACIA_NOME              object\n",
       "DELEGACIA_CIRCUNSCRICAO     object\n",
       "ESPECIE                     object\n",
       "RUBRICA                     object\n",
       "STATUS                      object\n",
       "PLACA_VEICULO               object\n",
       "UF_VEICULO                  object\n",
       "CIDADE_VEICULO              object\n",
       "DESCR_COR_VEICULO           object\n",
       "DESCR_MARCA_VEICULO         object\n",
       "ANO_FABRICACAO               int16\n",
       "ANO_MODELO                   int16\n",
       "DESCR_TIPO_VEICULO          object\n",
       "dtype: object"
      ]
     },
     "execution_count": 59,
     "metadata": {},
     "output_type": "execute_result"
    }
   ],
   "source": [
    "dfsbc.dtypes"
   ]
  },
  {
   "cell_type": "markdown",
   "metadata": {},
   "source": [
    "## Salvar o arquivo em um novo arquivo *.csv*"
   ]
  },
  {
   "cell_type": "code",
   "execution_count": 60,
   "metadata": {},
   "outputs": [],
   "source": [
    "dfsbc.to_csv('data_cleaned/roubos_veic_sbc.csv', index=False)"
   ]
  }
 ],
 "metadata": {
  "kernelspec": {
   "display_name": "Python 3",
   "language": "python",
   "name": "python3"
  },
  "language_info": {
   "codemirror_mode": {
    "name": "ipython",
    "version": 3
   },
   "file_extension": ".py",
   "mimetype": "text/x-python",
   "name": "python",
   "nbconvert_exporter": "python",
   "pygments_lexer": "ipython3",
   "version": "3.8.5"
  }
 },
 "nbformat": 4,
 "nbformat_minor": 5
}
