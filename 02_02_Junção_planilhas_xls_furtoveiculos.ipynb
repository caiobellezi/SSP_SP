{
 "cells": [
  {
   "cell_type": "markdown",
   "id": "artistic-wiring",
   "metadata": {},
   "source": [
    "# Limpeza dos Dados"
   ]
  },
  {
   "cell_type": "markdown",
   "id": "through-montreal",
   "metadata": {},
   "source": [
    "Após fazer a coleta dos dados do site da Secretaria de Segurança Publica - SP, agora é necessário concatenar todos os arquivos em um só, com o mesmo padrão de informações"
   ]
  },
  {
   "cell_type": "markdown",
   "id": "handed-ontario",
   "metadata": {},
   "source": [
    "## Importar as bibliotecas que serão utilizadas\n",
    "\n",
    "**Pandas** - Para manipulação de tabelas\n",
    "\n",
    "**os** - Para manipulação e leitura de arquivos"
   ]
  },
  {
   "cell_type": "code",
   "execution_count": 1,
   "id": "august-double",
   "metadata": {},
   "outputs": [],
   "source": [
    "import pandas as pd\n",
    "import os"
   ]
  },
  {
   "cell_type": "markdown",
   "id": "informed-accounting",
   "metadata": {},
   "source": [
    "## Leitura das planilhas e junção em único arquivo\n",
    "\n",
    "Se faz necessário fazer uma varredura para todos os arquivos **`.xls`** na pasta **data/furto_veiculo** e então fazer a junção de todos estes arquivos"
   ]
  },
  {
   "cell_type": "code",
   "execution_count": 3,
   "id": "adjustable-intensity",
   "metadata": {},
   "outputs": [
    {
     "data": {
      "text/plain": [
       "'data/furto_veiculo/'"
      ]
     },
     "execution_count": 3,
     "metadata": {},
     "output_type": "execute_result"
    }
   ],
   "source": [
    "path = 'data/furto_veiculo/'\n"
   ]
  },
  {
   "cell_type": "code",
   "execution_count": 4,
   "id": "absolute-reference",
   "metadata": {
    "scrolled": true
   },
   "outputs": [
    {
     "name": "stdout",
     "output_type": "stream",
     "text": [
      "Linhas totais:  1536341\n",
      "\n",
      "Total de arquivos concatenados: 132\n",
      "\n",
      "Dimensões do dataset: \n",
      "\t- 1536341 Linhas\n",
      "\t- 54 Colunas\n"
     ]
    }
   ],
   "source": [
    "directory = os.path.join(path) # Diretório onde estão salvos os arquivos .xls\n",
    "i=0 # Marcador criado para definir se é o primeiro arquivo ou não\n",
    "counter=0 #Contador de arquivos lidos\n",
    "linhas = 0\n",
    "\n",
    "for root,dirs,files in os.walk(directory): # root - Caminho lido | dirs - diretórios existentes dentro do caminho lido | files - arquivos existentes no caminho lido\n",
    "    \n",
    "    #Percorrer todos os arquivos um a um, e ler somente os arquivos com extensão .xls\n",
    "    for file in files:\n",
    "        if file.endswith(\".xls\"):\n",
    "            dftemp = pd.read_csv(path+file, sep='\\t', encoding='UTF-16LE', low_memory=False) # leitura do arquivo .xls (\"corrompido\")\n",
    "                     \n",
    "            if i==0: # Condição IF para determinar se é a primeira leitura e copiar o dataset para a variável \"df\"\n",
    "                df = dftemp.copy()\n",
    "                i = 1\n",
    "                del(dftemp) # Deletar a variável para não sobrecarregar a memória\n",
    "                \n",
    "            else: # Para os demais arquivos realizar a junção com o primeiro arquivo\n",
    "                df = df.append(dftemp, ignore_index=True)\n",
    "                del(dftemp) # Deletar a variável para não sobrecarregar a memória\n",
    "                \n",
    "            linhas = df.shape[0]\n",
    "            counter = counter + 1\n",
    "            \n",
    "print(\"Linhas totais: \", linhas)\n",
    "print('\\nTotal de arquivos concatenados:', counter)\n",
    "print('\\nDimensões do dataset: \\n\\t- {} Linhas\\n\\t- {} Colunas'.format(df.shape[0],df.shape[1]))\n",
    "            "
   ]
  },
  {
   "cell_type": "markdown",
   "id": "vulnerable-letters",
   "metadata": {},
   "source": [
    "## Salvar para arquivo CSV\n",
    "\n",
    "Após o processo finalizado, o arquivo será salvo na pasta **data_cleaned**"
   ]
  },
  {
   "cell_type": "code",
   "execution_count": 5,
   "id": "unique-unemployment",
   "metadata": {},
   "outputs": [],
   "source": [
    "df.to_csv('data_cleaned/furto_veiculo2010_2020.csv', index=False)\n"
   ]
  }
 ],
 "metadata": {
  "kernelspec": {
   "display_name": "Python 3",
   "language": "python",
   "name": "python3"
  },
  "language_info": {
   "codemirror_mode": {
    "name": "ipython",
    "version": 3
   },
   "file_extension": ".py",
   "mimetype": "text/x-python",
   "name": "python",
   "nbconvert_exporter": "python",
   "pygments_lexer": "ipython3",
   "version": "3.9.1"
  }
 },
 "nbformat": 4,
 "nbformat_minor": 5
}
