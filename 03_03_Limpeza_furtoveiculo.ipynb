{
 "cells": [
  {
   "cell_type": "markdown",
   "id": "promotional-nirvana",
   "metadata": {},
   "source": [
    "# Limpeza dos dados\n",
    "## Furto de Veiculos\n",
    "\n",
    "Com os dados obtidos  e já compilados, o próximo passo é realizar a limpeza do dataset\n",
    "Isso consiste em:\n",
    " - Separar a cidade de São Bernardo do Campo\n",
    " - Verificar valores nulos\n",
    " - Campos duplicados\n",
    " - Remover informações que não serão úteis\n",
    " - Acertar ou remover informações erradas"
   ]
  },
  {
   "cell_type": "markdown",
   "id": "verbal-reply",
   "metadata": {},
   "source": [
    "### Importar as bibliotecas\n",
    "\n",
    "As bibliotecas que serão utilizadas são:\n",
    " - `Pandas` - Manipulação do dataset\n",
    " - `Matplotlib` - Visualização dos dados\n",
    " - `Seaborn`- Visualização dos dados\n",
    " - `Numpy` - habilita propriedades matemáticas"
   ]
  },
  {
   "cell_type": "code",
   "execution_count": 1,
   "id": "controlled-voice",
   "metadata": {},
   "outputs": [],
   "source": [
    "#importando as bibliotecas\n",
    "import pandas as pd\n",
    "import matplotlib.pyplot as plt\n",
    "import seaborn as sns\n",
    "import numpy as np"
   ]
  },
  {
   "cell_type": "markdown",
   "id": "affiliated-opinion",
   "metadata": {},
   "source": [
    "### Carregar o dataset de roubo de veiculos\n",
    "\n",
    "Carregar o dataset, verificar suas dimensões e ter as primeiras impressões"
   ]
  },
  {
   "cell_type": "code",
   "execution_count": 2,
   "id": "impossible-spank",
   "metadata": {},
   "outputs": [],
   "source": [
    "path = 'data_cleaned/furto_veiculo2010_2020.csv'\n",
    "\n",
    "df = pd.read_csv(path, low_memory=False) # Utilizado o low_memory = False devido ao tamnho do arquivo"
   ]
  },
  {
   "cell_type": "code",
   "execution_count": 3,
   "id": "ahead-doctrine",
   "metadata": {},
   "outputs": [
    {
     "name": "stdout",
     "output_type": "stream",
     "text": [
      "1536341 Linhas\n",
      "54 Colunas\n"
     ]
    },
    {
     "data": {
      "text/html": [
       "<div>\n",
       "<style scoped>\n",
       "    .dataframe tbody tr th:only-of-type {\n",
       "        vertical-align: middle;\n",
       "    }\n",
       "\n",
       "    .dataframe tbody tr th {\n",
       "        vertical-align: top;\n",
       "    }\n",
       "\n",
       "    .dataframe thead th {\n",
       "        text-align: right;\n",
       "    }\n",
       "</style>\n",
       "<table border=\"1\" class=\"dataframe\">\n",
       "  <thead>\n",
       "    <tr style=\"text-align: right;\">\n",
       "      <th></th>\n",
       "      <th>ANO_BO</th>\n",
       "      <th>NUM_BO</th>\n",
       "      <th>NUMERO_BOLETIM</th>\n",
       "      <th>BO_INICIADO</th>\n",
       "      <th>BO_EMITIDO</th>\n",
       "      <th>DATAOCORRENCIA</th>\n",
       "      <th>HORAOCORRENCIA</th>\n",
       "      <th>PERIDOOCORRENCIA</th>\n",
       "      <th>DATACOMUNICACAO</th>\n",
       "      <th>DATAELABORACAO</th>\n",
       "      <th>...</th>\n",
       "      <th>PLACA_VEICULO</th>\n",
       "      <th>UF_VEICULO</th>\n",
       "      <th>CIDADE_VEICULO</th>\n",
       "      <th>DESCR_COR_VEICULO</th>\n",
       "      <th>DESCR_MARCA_VEICULO</th>\n",
       "      <th>ANO_FABRICACAO</th>\n",
       "      <th>ANO_MODELO</th>\n",
       "      <th>DESCR_TIPO_VEICULO</th>\n",
       "      <th>QUANT_CELULAR</th>\n",
       "      <th>MARCA_CELULAR</th>\n",
       "    </tr>\n",
       "  </thead>\n",
       "  <tbody>\n",
       "    <tr>\n",
       "      <th>0</th>\n",
       "      <td>2009</td>\n",
       "      <td>4329</td>\n",
       "      <td>4329/2009</td>\n",
       "      <td>31/12/2009 23:58:08</td>\n",
       "      <td>01/01/2010 00:01:48</td>\n",
       "      <td>31/12/2009</td>\n",
       "      <td>23:00</td>\n",
       "      <td>A NOITE</td>\n",
       "      <td>31/12/2009</td>\n",
       "      <td>31/12/2009 23:58:08</td>\n",
       "      <td>...</td>\n",
       "      <td>CIO9192</td>\n",
       "      <td>SP</td>\n",
       "      <td>SUZANO</td>\n",
       "      <td>Branco</td>\n",
       "      <td>VW/GOL PLUS MI</td>\n",
       "      <td>1997.0</td>\n",
       "      <td>1997.0</td>\n",
       "      <td>AUTOMOVEL</td>\n",
       "      <td>NaN</td>\n",
       "      <td>NaN</td>\n",
       "    </tr>\n",
       "    <tr>\n",
       "      <th>1</th>\n",
       "      <td>2009</td>\n",
       "      <td>6595</td>\n",
       "      <td>6595/2009</td>\n",
       "      <td>31/12/2009 23:55:54</td>\n",
       "      <td>01/01/2010 00:02:38</td>\n",
       "      <td>31/12/2009</td>\n",
       "      <td>NaN</td>\n",
       "      <td>A TARDE</td>\n",
       "      <td>31/12/2009</td>\n",
       "      <td>31/12/2009 23:55:54</td>\n",
       "      <td>...</td>\n",
       "      <td>CQK4983</td>\n",
       "      <td>SP</td>\n",
       "      <td>CABRALIA PAULISTA</td>\n",
       "      <td>Branco</td>\n",
       "      <td>VW/KOMBI</td>\n",
       "      <td>1974.0</td>\n",
       "      <td>1974.0</td>\n",
       "      <td>AUTOMOVEL</td>\n",
       "      <td>NaN</td>\n",
       "      <td>NaN</td>\n",
       "    </tr>\n",
       "    <tr>\n",
       "      <th>2</th>\n",
       "      <td>2010</td>\n",
       "      <td>1</td>\n",
       "      <td>1/2010</td>\n",
       "      <td>01/01/2010 00:05:13</td>\n",
       "      <td>01/01/2010 00:12:24</td>\n",
       "      <td>31/12/2009</td>\n",
       "      <td>19:40</td>\n",
       "      <td>A NOITE</td>\n",
       "      <td>31/12/2009</td>\n",
       "      <td>01/01/2010 00:05:13</td>\n",
       "      <td>...</td>\n",
       "      <td>DDW1129</td>\n",
       "      <td>SP</td>\n",
       "      <td>SAO BERNARDO DO CAMP</td>\n",
       "      <td>Azul</td>\n",
       "      <td>FIAT/PALIO YOUNG</td>\n",
       "      <td>2000.0</td>\n",
       "      <td>2001.0</td>\n",
       "      <td>AUTOMOVEL</td>\n",
       "      <td>NaN</td>\n",
       "      <td>NaN</td>\n",
       "    </tr>\n",
       "    <tr>\n",
       "      <th>3</th>\n",
       "      <td>2010</td>\n",
       "      <td>1</td>\n",
       "      <td>1/2010</td>\n",
       "      <td>01/01/2010 00:48:15</td>\n",
       "      <td>01/01/2010 00:51:39</td>\n",
       "      <td>31/12/2009</td>\n",
       "      <td>23:50</td>\n",
       "      <td>A NOITE</td>\n",
       "      <td>01/01/2010</td>\n",
       "      <td>01/01/2010 00:48:15</td>\n",
       "      <td>...</td>\n",
       "      <td>KZW5136</td>\n",
       "      <td>SP</td>\n",
       "      <td>RIO CLARO</td>\n",
       "      <td>Preta</td>\n",
       "      <td>HONDA/CG 125 FAN</td>\n",
       "      <td>2006.0</td>\n",
       "      <td>2006.0</td>\n",
       "      <td>MOTOCICLO</td>\n",
       "      <td>NaN</td>\n",
       "      <td>NaN</td>\n",
       "    </tr>\n",
       "    <tr>\n",
       "      <th>4</th>\n",
       "      <td>2010</td>\n",
       "      <td>1</td>\n",
       "      <td>1/2010</td>\n",
       "      <td>01/01/2010 00:58:51</td>\n",
       "      <td>01/01/2010 01:02:29</td>\n",
       "      <td>31/12/2009</td>\n",
       "      <td>22:30</td>\n",
       "      <td>A NOITE</td>\n",
       "      <td>01/01/2010</td>\n",
       "      <td>01/01/2010 00:58:51</td>\n",
       "      <td>...</td>\n",
       "      <td>CLS4059</td>\n",
       "      <td>SP</td>\n",
       "      <td>SAO PAULO</td>\n",
       "      <td>Branco</td>\n",
       "      <td>IMP/FIAT UNO MILLE SX</td>\n",
       "      <td>1997.0</td>\n",
       "      <td>1998.0</td>\n",
       "      <td>AUTOMOVEL</td>\n",
       "      <td>NaN</td>\n",
       "      <td>NaN</td>\n",
       "    </tr>\n",
       "  </tbody>\n",
       "</table>\n",
       "<p>5 rows × 54 columns</p>\n",
       "</div>"
      ],
      "text/plain": [
       "   ANO_BO  NUM_BO NUMERO_BOLETIM          BO_INICIADO           BO_EMITIDO  \\\n",
       "0    2009    4329      4329/2009  31/12/2009 23:58:08  01/01/2010 00:01:48   \n",
       "1    2009    6595      6595/2009  31/12/2009 23:55:54  01/01/2010 00:02:38   \n",
       "2    2010       1         1/2010  01/01/2010 00:05:13  01/01/2010 00:12:24   \n",
       "3    2010       1         1/2010  01/01/2010 00:48:15  01/01/2010 00:51:39   \n",
       "4    2010       1         1/2010  01/01/2010 00:58:51  01/01/2010 01:02:29   \n",
       "\n",
       "  DATAOCORRENCIA HORAOCORRENCIA PERIDOOCORRENCIA DATACOMUNICACAO  \\\n",
       "0     31/12/2009          23:00          A NOITE      31/12/2009   \n",
       "1     31/12/2009            NaN          A TARDE      31/12/2009   \n",
       "2     31/12/2009          19:40          A NOITE      31/12/2009   \n",
       "3     31/12/2009          23:50          A NOITE      01/01/2010   \n",
       "4     31/12/2009          22:30          A NOITE      01/01/2010   \n",
       "\n",
       "        DATAELABORACAO  ... PLACA_VEICULO UF_VEICULO        CIDADE_VEICULO  \\\n",
       "0  31/12/2009 23:58:08  ...       CIO9192         SP                SUZANO   \n",
       "1  31/12/2009 23:55:54  ...       CQK4983         SP     CABRALIA PAULISTA   \n",
       "2  01/01/2010 00:05:13  ...       DDW1129         SP  SAO BERNARDO DO CAMP   \n",
       "3  01/01/2010 00:48:15  ...       KZW5136         SP             RIO CLARO   \n",
       "4  01/01/2010 00:58:51  ...       CLS4059         SP             SAO PAULO   \n",
       "\n",
       "  DESCR_COR_VEICULO    DESCR_MARCA_VEICULO ANO_FABRICACAO ANO_MODELO  \\\n",
       "0            Branco         VW/GOL PLUS MI         1997.0     1997.0   \n",
       "1            Branco               VW/KOMBI         1974.0     1974.0   \n",
       "2              Azul       FIAT/PALIO YOUNG         2000.0     2001.0   \n",
       "3             Preta       HONDA/CG 125 FAN         2006.0     2006.0   \n",
       "4            Branco  IMP/FIAT UNO MILLE SX         1997.0     1998.0   \n",
       "\n",
       "  DESCR_TIPO_VEICULO QUANT_CELULAR MARCA_CELULAR  \n",
       "0          AUTOMOVEL           NaN           NaN  \n",
       "1          AUTOMOVEL           NaN           NaN  \n",
       "2          AUTOMOVEL           NaN           NaN  \n",
       "3          MOTOCICLO           NaN           NaN  \n",
       "4          AUTOMOVEL           NaN           NaN  \n",
       "\n",
       "[5 rows x 54 columns]"
      ]
     },
     "execution_count": 3,
     "metadata": {},
     "output_type": "execute_result"
    }
   ],
   "source": [
    "print('{} Linhas\\n{} Colunas'.format(df.shape[0],df.shape[1]))\n",
    "df.head() # Mostra as 5 primeiras linhas do dataset"
   ]
  },
  {
   "cell_type": "markdown",
   "id": "basic-interstate",
   "metadata": {},
   "source": [
    "### Extrair os dados da cidade de Sâo Bernardo do Campo\n",
    "\n",
    "Como o foco da análise será somente a cidade de São Bernardo do Campo, deve-se entender como foi registrado o nome das cidades e achar a cidade escolhida."
   ]
  },
  {
   "cell_type": "code",
   "execution_count": 4,
   "id": "grand-justice",
   "metadata": {},
   "outputs": [
    {
     "data": {
      "text/plain": [
       "array(['S.PAULO', 'JAU', 'S.BERNARDO DO CAMPO', ..., 'LUCIANOPOLIS',\n",
       "       'TURMALINA', 'PASSA QUATRO'], dtype=object)"
      ]
     },
     "execution_count": 4,
     "metadata": {},
     "output_type": "execute_result"
    }
   ],
   "source": [
    "df.CIDADE.unique()"
   ]
  },
  {
   "cell_type": "markdown",
   "id": "enclosed-fifteen",
   "metadata": {},
   "source": [
    "Criar um novo dataframe apenas com a cidade de São Bernardo do Campo e verificar suas dimensões"
   ]
  },
  {
   "cell_type": "code",
   "execution_count": 5,
   "id": "laughing-financing",
   "metadata": {
    "scrolled": true
   },
   "outputs": [
    {
     "name": "stdout",
     "output_type": "stream",
     "text": [
      "35656 Linhas\n",
      "54 Colunas\n"
     ]
    }
   ],
   "source": [
    "dfsbc = df.loc[df.CIDADE == 'S.BERNARDO DO CAMPO']\n",
    "print('{} Linhas\\n{} Colunas'.format(dfsbc.shape[0],dfsbc.shape[1]))"
   ]
  },
  {
   "cell_type": "markdown",
   "id": "neural-simulation",
   "metadata": {},
   "source": [
    "### Verificar dados nulos e ausentes\n",
    "\n",
    "É possivel ver que pelo menos 19 colunas possuem mais de 90% de dados ausentes, a grande maioria relacionado a dados pessoais.\n",
    "\n",
    "Essas as quais podem ser diretamente removidas do dataset.\n",
    "\n",
    "Abaixo a lista ordenada em % dos primeiros 35 mais ausentes"
   ]
  },
  {
   "cell_type": "code",
   "execution_count": 6,
   "id": "dominant-uzbekistan",
   "metadata": {},
   "outputs": [
    {
     "data": {
      "text/plain": [
       "MARCA_CELULAR               100.000000\n",
       "QUANT_CELULAR               100.000000\n",
       "PARENTESCO                  100.000000\n",
       "RELACIONAMENTO              100.000000\n",
       "NACIONALIDADE               100.000000\n",
       "ESTADOCIVIL                  99.966345\n",
       "NATURALIDADE                 99.966345\n",
       "SEXO                         99.966345\n",
       "DATANASCIMENTO               99.966345\n",
       "IDADE                        99.966345\n",
       "GRAUINSTRUCAO                99.966345\n",
       "PROFISSAO                    99.966345\n",
       "TIPOPESSOA                   99.966345\n",
       "CORCUTIS                     99.966345\n",
       "NATUREZAVINCULADA            99.966345\n",
       "TIPOVINCULO                  99.966345\n",
       "VITIMAFATAL                  99.966345\n",
       "DESDOBRAMENTO                98.440655\n",
       "NUMERO_BOLETIM_PRINCIPAL     97.568432\n",
       "EXAME                        88.655486\n",
       "HORAOCORRENCIA               36.350123\n",
       "LATITUDE                     18.714943\n",
       "LONGITUDE                    18.714943\n",
       "DESCR_MARCA_VEICULO          16.976105\n",
       "DESCR_TIPO_VEICULO           16.280570\n",
       "CIDADE_VEICULO               15.932802\n",
       "PLACA_VEICULO                15.812206\n",
       "UF_VEICULO                   15.809401\n",
       "DESCR_COR_VEICULO            15.742091\n",
       "ANO_MODELO                    9.384115\n",
       "LOGRADOURO                    7.906103\n",
       "BAIRRO                        5.390397\n",
       "STATUS                        4.630357\n",
       "ANO_FABRICACAO                2.748486\n",
       "SOLUCAO                       0.019632\n",
       "dtype: float64"
      ]
     },
     "execution_count": 6,
     "metadata": {},
     "output_type": "execute_result"
    }
   ],
   "source": [
    "nulos = dfsbc.isnull().sum().sort_values(ascending=False)*100 / dfsbc.shape[0]\n",
    "nulos.head(35)"
   ]
  },
  {
   "cell_type": "markdown",
   "id": "blind-banking",
   "metadata": {},
   "source": [
    "Uma outra maneira de ter uma visão geral é utilizando a função `Heatmap` da biblioteca `Seaborn`"
   ]
  },
  {
   "cell_type": "code",
   "execution_count": 7,
   "id": "consolidated-reporter",
   "metadata": {},
   "outputs": [
    {
     "data": {
      "image/png": "[encoded data removed]",
      "text/plain": [
       "<Figure size 1080x864 with 1 Axes>"
      ]
     },
     "metadata": {
      "needs_background": "light"
     },
     "output_type": "display_data"
    }
   ],
   "source": [
    "fig = plt.figure(figsize = (15,12));\n",
    "sns.heatmap(dfsbc.isnull(), cbar = False);"
   ]
  },
  {
   "cell_type": "markdown",
   "id": "bottom-black",
   "metadata": {},
   "source": [
    "### Remover colunas e dados indesejados\n",
    "\n",
    "Primeiramente avaliar entre as colunas que tem mais que 70% dos dados ausentes o que é possível eliminar e criar uma lista com esses campos"
   ]
  },
  {
   "cell_type": "code",
   "execution_count": 8,
   "id": "proper-general",
   "metadata": {
    "scrolled": true
   },
   "outputs": [
    {
     "data": {
      "text/plain": [
       "Index(['MARCA_CELULAR', 'QUANT_CELULAR', 'PARENTESCO', 'RELACIONAMENTO',\n",
       "       'NACIONALIDADE', 'ESTADOCIVIL', 'NATURALIDADE', 'SEXO',\n",
       "       'DATANASCIMENTO', 'IDADE', 'GRAUINSTRUCAO', 'PROFISSAO', 'TIPOPESSOA',\n",
       "       'CORCUTIS', 'NATUREZAVINCULADA', 'TIPOVINCULO', 'VITIMAFATAL',\n",
       "       'DESDOBRAMENTO', 'NUMERO_BOLETIM_PRINCIPAL', 'EXAME', 'HORAOCORRENCIA',\n",
       "       'LATITUDE', 'LONGITUDE', 'DESCR_MARCA_VEICULO', 'DESCR_TIPO_VEICULO',\n",
       "       'CIDADE_VEICULO', 'PLACA_VEICULO', 'UF_VEICULO', 'DESCR_COR_VEICULO',\n",
       "       'ANO_MODELO', 'LOGRADOURO', 'BAIRRO', 'STATUS', 'ANO_FABRICACAO'],\n",
       "      dtype='object')"
      ]
     },
     "execution_count": 8,
     "metadata": {},
     "output_type": "execute_result"
    }
   ],
   "source": [
    "nulos.index[nulos > 0.7]"
   ]
  },
  {
   "cell_type": "markdown",
   "id": "offensive-sacrifice",
   "metadata": {},
   "source": [
    "Os campos pessoais podem ser diretamente eliminados, assim como marca e quantidade de celular para os demais campos será analisado a real necessidade"
   ]
  },
  {
   "cell_type": "code",
   "execution_count": 9,
   "id": "unknown-oklahoma",
   "metadata": {},
   "outputs": [],
   "source": [
    "eliminar = ['MARCA_CELULAR', 'PARENTESCO', 'QUANT_CELULAR', 'RELACIONAMENTO', 'NACIONALIDADE', 'PROFISSAO',\n",
    "       'GRAUINSTRUCAO', 'NATURALIDADE', 'DATANASCIMENTO', 'ESTADOCIVIL',\n",
    "       'IDADE', 'NATUREZAVINCULADA', 'TIPOPESSOA', 'SEXO', 'CORCUTIS',\n",
    "       'TIPOVINCULO']"
   ]
  },
  {
   "cell_type": "code",
   "execution_count": 10,
   "id": "extensive-colonial",
   "metadata": {},
   "outputs": [
    {
     "name": "stderr",
     "output_type": "stream",
     "text": [
      "c:\\users\\caior\\appdata\\local\\programs\\python\\python39\\lib\\site-packages\\pandas\\core\\frame.py:4305: SettingWithCopyWarning: \n",
      "A value is trying to be set on a copy of a slice from a DataFrame\n",
      "\n",
      "See the caveats in the documentation: https://pandas.pydata.org/pandas-docs/stable/user_guide/indexing.html#returning-a-view-versus-a-copy\n",
      "  return super().drop(\n"
     ]
    }
   ],
   "source": [
    "dfsbc.drop(eliminar, axis=1, inplace=True)"
   ]
  },
  {
   "cell_type": "code",
   "execution_count": 11,
   "id": "cultural-holder",
   "metadata": {},
   "outputs": [
    {
     "data": {
      "text/plain": [
       "(35656, 38)"
      ]
     },
     "execution_count": 11,
     "metadata": {},
     "output_type": "execute_result"
    }
   ],
   "source": [
    "dfsbc.shape"
   ]
  },
  {
   "cell_type": "markdown",
   "id": "internal-guide",
   "metadata": {},
   "source": [
    "### Analisando demais colunas\n",
    "\n",
    "Usar comando abaixo para ajustar configurações de visualização do pandas para explorar os dados das colunas"
   ]
  },
  {
   "cell_type": "code",
   "execution_count": 12,
   "id": "novel-programmer",
   "metadata": {},
   "outputs": [],
   "source": [
    "pd.set_option('display.max_columns', 60) # Define limite de 60 colunas na visualização\n",
    "#pd.set_option('display.max_seq_items', 30) # Define limite de linhas na visualização"
   ]
  },
  {
   "cell_type": "markdown",
   "id": "induced-mattress",
   "metadata": {},
   "source": [
    "Selecionar somente os campos onde há vitima fatal e contar.\n",
    "\n",
    "De acordo com o site da SSP-SP, a referência de quantidade de Boletins de Ocorrência deve ser pelo Número do Boletim (NUMERO_BOLETIM).\n",
    "\n"
   ]
  },
  {
   "cell_type": "code",
   "execution_count": 13,
   "id": "still-engineer",
   "metadata": {},
   "outputs": [
    {
     "name": "stdout",
     "output_type": "stream",
     "text": [
      "1 vitimas fatais de 2010 à 2020\n"
     ]
    }
   ],
   "source": [
    "vitimafatal = dfsbc[dfsbc['VITIMAFATAL'].isnull()==False]\n",
    "total_vf = len(vitimafatal['NUMERO_BOLETIM'].unique())\n",
    "print(total_vf, 'vitimas fatais de 2010 à 2020')"
   ]
  },
  {
   "cell_type": "markdown",
   "id": "swedish-racing",
   "metadata": {},
   "source": [
    "Neste caso, houve 1 vitima fatal entre 2010 e 2020,\n",
    "\n",
    "Por esta razão os dados serão mantidos, apenas a coluna `'VITIMAFATAL'` será removida."
   ]
  },
  {
   "cell_type": "markdown",
   "id": "prescribed-prompt",
   "metadata": {},
   "source": [
    "Os campos `'DESDOBRAMENTO'`, `'EXAME'`, possuem informações que não são relevantes para a ánalise, porém os dados devem ser mantidos, removendo apenas as colunas"
   ]
  },
  {
   "cell_type": "code",
   "execution_count": 14,
   "id": "horizontal-southwest",
   "metadata": {},
   "outputs": [
    {
     "data": {
      "text/plain": [
       "array([nan, 'IC', 'IC-IML', 'IML'], dtype=object)"
      ]
     },
     "execution_count": 14,
     "metadata": {},
     "output_type": "execute_result"
    }
   ],
   "source": [
    "dfsbc.EXAME.unique()"
   ]
  },
  {
   "cell_type": "code",
   "execution_count": 15,
   "id": "rubber-feature",
   "metadata": {},
   "outputs": [
    {
     "data": {
      "text/plain": [
       "array([nan, '§4o. Se o crime é cometido:',\n",
       "       'caput. Subtrair coisa móvel alheia, mediante grave ameaça ou violência a pessoa',\n",
       "       'Caput Corromper ou facilitar a corrupção de menor de 18 (dezoito) anos',\n",
       "       'Lesão corporal decorrente de intervenção policial (RES. SSP 05 - 07/01/2013)',\n",
       "       'Nas mesmas penas incorrem quem (Par. único)',\n",
       "       'Meio empregado para destruição ou rompimento de obstáculo à subtração da coisa',\n",
       "       'Fazer uso de documento PÚBLICO ideologicamente falso (art. 299)',\n",
       "       '§ 4° I - Com destruição ou rompimento de obstáculo à subtração da coisa;',\n",
       "       'Contra autoridade ou agente descrito nos arts. 142 e 144 da Constituição Federal',\n",
       "       'V - para assegurar a execução/ocultação/impunidade/vantagem de outro crime',\n",
       "       '§ 4º IV - Mediante concurso de duas ou mais pessoas.',\n",
       "       'caput. Adulterar/remarcar núm de chassi ou sinal identificador de veículo',\n",
       "       '§ 4º II - Com abuso de confiança, ou mediante fraude, escalada ou destreza;'],\n",
       "      dtype=object)"
      ]
     },
     "execution_count": 15,
     "metadata": {},
     "output_type": "execute_result"
    }
   ],
   "source": [
    "dfsbc.DESDOBRAMENTO.unique()"
   ]
  },
  {
   "cell_type": "code",
   "execution_count": 16,
   "id": "missing-professional",
   "metadata": {},
   "outputs": [
    {
     "name": "stderr",
     "output_type": "stream",
     "text": [
      "c:\\users\\caior\\appdata\\local\\programs\\python\\python39\\lib\\site-packages\\pandas\\core\\frame.py:4305: SettingWithCopyWarning: \n",
      "A value is trying to be set on a copy of a slice from a DataFrame\n",
      "\n",
      "See the caveats in the documentation: https://pandas.pydata.org/pandas-docs/stable/user_guide/indexing.html#returning-a-view-versus-a-copy\n",
      "  return super().drop(\n"
     ]
    }
   ],
   "source": [
    "eliminar = ['VITIMAFATAL', 'DESDOBRAMENTO', 'EXAME']\n",
    "\n",
    "dfsbc.drop(eliminar, axis=1, inplace=True)"
   ]
  },
  {
   "cell_type": "code",
   "execution_count": 17,
   "id": "significant-catalog",
   "metadata": {},
   "outputs": [
    {
     "data": {
      "text/html": [
       "<div>\n",
       "<style scoped>\n",
       "    .dataframe tbody tr th:only-of-type {\n",
       "        vertical-align: middle;\n",
       "    }\n",
       "\n",
       "    .dataframe tbody tr th {\n",
       "        vertical-align: top;\n",
       "    }\n",
       "\n",
       "    .dataframe thead th {\n",
       "        text-align: right;\n",
       "    }\n",
       "</style>\n",
       "<table border=\"1\" class=\"dataframe\">\n",
       "  <thead>\n",
       "    <tr style=\"text-align: right;\">\n",
       "      <th></th>\n",
       "      <th>ANO_BO</th>\n",
       "      <th>NUM_BO</th>\n",
       "      <th>NUMERO_BOLETIM</th>\n",
       "      <th>BO_INICIADO</th>\n",
       "      <th>BO_EMITIDO</th>\n",
       "      <th>DATAOCORRENCIA</th>\n",
       "      <th>HORAOCORRENCIA</th>\n",
       "      <th>PERIDOOCORRENCIA</th>\n",
       "      <th>DATACOMUNICACAO</th>\n",
       "      <th>DATAELABORACAO</th>\n",
       "      <th>BO_AUTORIA</th>\n",
       "      <th>FLAGRANTE</th>\n",
       "      <th>NUMERO_BOLETIM_PRINCIPAL</th>\n",
       "      <th>LOGRADOURO</th>\n",
       "      <th>NUMERO</th>\n",
       "      <th>BAIRRO</th>\n",
       "      <th>CIDADE</th>\n",
       "      <th>UF</th>\n",
       "      <th>LATITUDE</th>\n",
       "      <th>LONGITUDE</th>\n",
       "      <th>DESCRICAOLOCAL</th>\n",
       "      <th>SOLUCAO</th>\n",
       "      <th>DELEGACIA_NOME</th>\n",
       "      <th>DELEGACIA_CIRCUNSCRICAO</th>\n",
       "      <th>ESPECIE</th>\n",
       "      <th>RUBRICA</th>\n",
       "      <th>STATUS</th>\n",
       "      <th>PLACA_VEICULO</th>\n",
       "      <th>UF_VEICULO</th>\n",
       "      <th>CIDADE_VEICULO</th>\n",
       "      <th>DESCR_COR_VEICULO</th>\n",
       "      <th>DESCR_MARCA_VEICULO</th>\n",
       "      <th>ANO_FABRICACAO</th>\n",
       "      <th>ANO_MODELO</th>\n",
       "      <th>DESCR_TIPO_VEICULO</th>\n",
       "    </tr>\n",
       "  </thead>\n",
       "  <tbody>\n",
       "    <tr>\n",
       "      <th>2</th>\n",
       "      <td>2010</td>\n",
       "      <td>1</td>\n",
       "      <td>1/2010</td>\n",
       "      <td>01/01/2010 00:05:13</td>\n",
       "      <td>01/01/2010 00:12:24</td>\n",
       "      <td>31/12/2009</td>\n",
       "      <td>19:40</td>\n",
       "      <td>A NOITE</td>\n",
       "      <td>31/12/2009</td>\n",
       "      <td>01/01/2010 00:05:13</td>\n",
       "      <td>Desconhecida</td>\n",
       "      <td>Não</td>\n",
       "      <td>NaN</td>\n",
       "      <td>R MARIA GASTALDO CATELAN</td>\n",
       "      <td>60</td>\n",
       "      <td>PQ. SELETA</td>\n",
       "      <td>S.BERNARDO DO CAMPO</td>\n",
       "      <td>SP</td>\n",
       "      <td>NaN</td>\n",
       "      <td>NaN</td>\n",
       "      <td>Via pública</td>\n",
       "      <td>ENCAMINHAMENTO DP ÁREA DO FATO</td>\n",
       "      <td>03º D.P. S.BERNARDO DO CAMPO</td>\n",
       "      <td>06º D.P. S.BERNARDO DO CAMPO</td>\n",
       "      <td>Título II - Patrimônio (arts. 155 a 183)</td>\n",
       "      <td>Furto (art. 155) - VEICULO</td>\n",
       "      <td>Consumado</td>\n",
       "      <td>DDW1129</td>\n",
       "      <td>SP</td>\n",
       "      <td>SAO BERNARDO DO CAMP</td>\n",
       "      <td>Azul</td>\n",
       "      <td>FIAT/PALIO YOUNG</td>\n",
       "      <td>2000.0</td>\n",
       "      <td>2001.0</td>\n",
       "      <td>AUTOMOVEL</td>\n",
       "    </tr>\n",
       "    <tr>\n",
       "      <th>19</th>\n",
       "      <td>2010</td>\n",
       "      <td>2</td>\n",
       "      <td>2/2010</td>\n",
       "      <td>01/01/2010 01:44:26</td>\n",
       "      <td>01/01/2010 01:51:59</td>\n",
       "      <td>01/01/2010</td>\n",
       "      <td>00:10</td>\n",
       "      <td>DE MADRUGADA</td>\n",
       "      <td>01/01/2010</td>\n",
       "      <td>01/01/2010 01:44:26</td>\n",
       "      <td>Desconhecida</td>\n",
       "      <td>Não</td>\n",
       "      <td>NaN</td>\n",
       "      <td>R ARMANDO BACKX</td>\n",
       "      <td>644</td>\n",
       "      <td>JERUSALEM</td>\n",
       "      <td>S.BERNARDO DO CAMPO</td>\n",
       "      <td>SP</td>\n",
       "      <td>NaN</td>\n",
       "      <td>NaN</td>\n",
       "      <td>Via pública</td>\n",
       "      <td>APRECIAÇÃO DO DELEGADO TITULAR</td>\n",
       "      <td>03º D.P. S.BERNARDO DO CAMPO</td>\n",
       "      <td>03º D.P. S.BERNARDO DO CAMPO</td>\n",
       "      <td>Título II - Patrimônio (arts. 155 a 183)</td>\n",
       "      <td>Furto (art. 155) - VEICULO</td>\n",
       "      <td>Consumado</td>\n",
       "      <td>DBQ6906</td>\n",
       "      <td>SP</td>\n",
       "      <td>SAO BERNARDO DO CAMP</td>\n",
       "      <td>Cinza</td>\n",
       "      <td>FIAT/UNO MILLE SMART</td>\n",
       "      <td>2000.0</td>\n",
       "      <td>2001.0</td>\n",
       "      <td>AUTOMOVEL</td>\n",
       "    </tr>\n",
       "    <tr>\n",
       "      <th>30</th>\n",
       "      <td>2010</td>\n",
       "      <td>4</td>\n",
       "      <td>4/2010</td>\n",
       "      <td>01/01/2010 02:58:28</td>\n",
       "      <td>01/01/2010 03:02:46</td>\n",
       "      <td>01/01/2010</td>\n",
       "      <td>NaN</td>\n",
       "      <td>DE MADRUGADA</td>\n",
       "      <td>01/01/2010</td>\n",
       "      <td>01/01/2010 02:58:28</td>\n",
       "      <td>Desconhecida</td>\n",
       "      <td>Não</td>\n",
       "      <td>NaN</td>\n",
       "      <td>R ROLANDO GAMBINI</td>\n",
       "      <td>341</td>\n",
       "      <td>LAVINIA</td>\n",
       "      <td>S.BERNARDO DO CAMPO</td>\n",
       "      <td>SP</td>\n",
       "      <td>NaN</td>\n",
       "      <td>NaN</td>\n",
       "      <td>Via pública</td>\n",
       "      <td>APRECIAÇÃO DO DELEGADO TITULAR</td>\n",
       "      <td>03º D.P. S.BERNARDO DO CAMPO</td>\n",
       "      <td>03º D.P. S.BERNARDO DO CAMPO</td>\n",
       "      <td>Título II - Patrimônio (arts. 155 a 183)</td>\n",
       "      <td>Furto (art. 155) - VEICULO</td>\n",
       "      <td>Consumado</td>\n",
       "      <td>BGS2433</td>\n",
       "      <td>SP</td>\n",
       "      <td>SAO BERNARDO DO CAMP</td>\n",
       "      <td>Verde</td>\n",
       "      <td>FIAT/UNO MILLE</td>\n",
       "      <td>1992.0</td>\n",
       "      <td>1992.0</td>\n",
       "      <td>AUTOMOVEL</td>\n",
       "    </tr>\n",
       "    <tr>\n",
       "      <th>36</th>\n",
       "      <td>2010</td>\n",
       "      <td>8</td>\n",
       "      <td>8/2010</td>\n",
       "      <td>01/01/2010 04:31:40</td>\n",
       "      <td>01/01/2010 04:34:55</td>\n",
       "      <td>01/01/2010</td>\n",
       "      <td>02:59</td>\n",
       "      <td>DE MADRUGADA</td>\n",
       "      <td>01/01/2010</td>\n",
       "      <td>01/01/2010 04:31:40</td>\n",
       "      <td>Desconhecida</td>\n",
       "      <td>Não</td>\n",
       "      <td>NaN</td>\n",
       "      <td>AV MARIA SERVIDEI DEMARCHI</td>\n",
       "      <td>398</td>\n",
       "      <td>DEMARCHI</td>\n",
       "      <td>S.BERNARDO DO CAMPO</td>\n",
       "      <td>SP</td>\n",
       "      <td>NaN</td>\n",
       "      <td>NaN</td>\n",
       "      <td>Via pública</td>\n",
       "      <td>APRECIAÇÃO DO DELEGADO TITULAR</td>\n",
       "      <td>03º D.P. S.BERNARDO DO CAMPO</td>\n",
       "      <td>01º D.P. S.B.C-DR OMAR CASSIM</td>\n",
       "      <td>Localização e/ou Devolução</td>\n",
       "      <td>Localização/Apreensão e Entrega de veículo</td>\n",
       "      <td>NaN</td>\n",
       "      <td>NaN</td>\n",
       "      <td>NaN</td>\n",
       "      <td>NaN</td>\n",
       "      <td>NaN</td>\n",
       "      <td>NaN</td>\n",
       "      <td>0.0</td>\n",
       "      <td>0.0</td>\n",
       "      <td>NaN</td>\n",
       "    </tr>\n",
       "    <tr>\n",
       "      <th>37</th>\n",
       "      <td>2010</td>\n",
       "      <td>8</td>\n",
       "      <td>8/2010</td>\n",
       "      <td>01/01/2010 04:31:40</td>\n",
       "      <td>01/01/2010 04:34:55</td>\n",
       "      <td>01/01/2010</td>\n",
       "      <td>02:59</td>\n",
       "      <td>DE MADRUGADA</td>\n",
       "      <td>01/01/2010</td>\n",
       "      <td>01/01/2010 04:31:40</td>\n",
       "      <td>Desconhecida</td>\n",
       "      <td>Não</td>\n",
       "      <td>NaN</td>\n",
       "      <td>AV MARIA SERVIDEI DEMARCHI</td>\n",
       "      <td>398</td>\n",
       "      <td>DEMARCHI</td>\n",
       "      <td>S.BERNARDO DO CAMPO</td>\n",
       "      <td>SP</td>\n",
       "      <td>NaN</td>\n",
       "      <td>NaN</td>\n",
       "      <td>Via pública</td>\n",
       "      <td>APRECIAÇÃO DO DELEGADO TITULAR</td>\n",
       "      <td>03º D.P. S.BERNARDO DO CAMPO</td>\n",
       "      <td>01º D.P. S.B.C-DR OMAR CASSIM</td>\n",
       "      <td>Localização e/ou Devolução</td>\n",
       "      <td>Localização/Apreensão e Entrega de veículo</td>\n",
       "      <td>NaN</td>\n",
       "      <td>BHE5448</td>\n",
       "      <td>SP</td>\n",
       "      <td>SAO BERNARDO DO CAMP</td>\n",
       "      <td>Cinza</td>\n",
       "      <td>FIAT/UNO MILLE BRIO</td>\n",
       "      <td>1991.0</td>\n",
       "      <td>1991.0</td>\n",
       "      <td>AUTOMOVEL</td>\n",
       "    </tr>\n",
       "  </tbody>\n",
       "</table>\n",
       "</div>"
      ],
      "text/plain": [
       "    ANO_BO  NUM_BO NUMERO_BOLETIM          BO_INICIADO           BO_EMITIDO  \\\n",
       "2     2010       1         1/2010  01/01/2010 00:05:13  01/01/2010 00:12:24   \n",
       "19    2010       2         2/2010  01/01/2010 01:44:26  01/01/2010 01:51:59   \n",
       "30    2010       4         4/2010  01/01/2010 02:58:28  01/01/2010 03:02:46   \n",
       "36    2010       8         8/2010  01/01/2010 04:31:40  01/01/2010 04:34:55   \n",
       "37    2010       8         8/2010  01/01/2010 04:31:40  01/01/2010 04:34:55   \n",
       "\n",
       "   DATAOCORRENCIA HORAOCORRENCIA PERIDOOCORRENCIA DATACOMUNICACAO  \\\n",
       "2      31/12/2009          19:40          A NOITE      31/12/2009   \n",
       "19     01/01/2010          00:10     DE MADRUGADA      01/01/2010   \n",
       "30     01/01/2010            NaN     DE MADRUGADA      01/01/2010   \n",
       "36     01/01/2010          02:59     DE MADRUGADA      01/01/2010   \n",
       "37     01/01/2010          02:59     DE MADRUGADA      01/01/2010   \n",
       "\n",
       "         DATAELABORACAO    BO_AUTORIA FLAGRANTE NUMERO_BOLETIM_PRINCIPAL  \\\n",
       "2   01/01/2010 00:05:13  Desconhecida       Não                      NaN   \n",
       "19  01/01/2010 01:44:26  Desconhecida       Não                      NaN   \n",
       "30  01/01/2010 02:58:28  Desconhecida       Não                      NaN   \n",
       "36  01/01/2010 04:31:40  Desconhecida       Não                      NaN   \n",
       "37  01/01/2010 04:31:40  Desconhecida       Não                      NaN   \n",
       "\n",
       "                    LOGRADOURO NUMERO      BAIRRO               CIDADE  UF  \\\n",
       "2     R MARIA GASTALDO CATELAN     60  PQ. SELETA  S.BERNARDO DO CAMPO  SP   \n",
       "19             R ARMANDO BACKX    644   JERUSALEM  S.BERNARDO DO CAMPO  SP   \n",
       "30           R ROLANDO GAMBINI    341     LAVINIA  S.BERNARDO DO CAMPO  SP   \n",
       "36  AV MARIA SERVIDEI DEMARCHI    398    DEMARCHI  S.BERNARDO DO CAMPO  SP   \n",
       "37  AV MARIA SERVIDEI DEMARCHI    398    DEMARCHI  S.BERNARDO DO CAMPO  SP   \n",
       "\n",
       "   LATITUDE LONGITUDE DESCRICAOLOCAL                         SOLUCAO  \\\n",
       "2       NaN       NaN    Via pública  ENCAMINHAMENTO DP ÁREA DO FATO   \n",
       "19      NaN       NaN    Via pública  APRECIAÇÃO DO DELEGADO TITULAR   \n",
       "30      NaN       NaN    Via pública  APRECIAÇÃO DO DELEGADO TITULAR   \n",
       "36      NaN       NaN    Via pública  APRECIAÇÃO DO DELEGADO TITULAR   \n",
       "37      NaN       NaN    Via pública  APRECIAÇÃO DO DELEGADO TITULAR   \n",
       "\n",
       "                  DELEGACIA_NOME        DELEGACIA_CIRCUNSCRICAO  \\\n",
       "2   03º D.P. S.BERNARDO DO CAMPO   06º D.P. S.BERNARDO DO CAMPO   \n",
       "19  03º D.P. S.BERNARDO DO CAMPO   03º D.P. S.BERNARDO DO CAMPO   \n",
       "30  03º D.P. S.BERNARDO DO CAMPO   03º D.P. S.BERNARDO DO CAMPO   \n",
       "36  03º D.P. S.BERNARDO DO CAMPO  01º D.P. S.B.C-DR OMAR CASSIM   \n",
       "37  03º D.P. S.BERNARDO DO CAMPO  01º D.P. S.B.C-DR OMAR CASSIM   \n",
       "\n",
       "                                     ESPECIE  \\\n",
       "2   Título II - Patrimônio (arts. 155 a 183)   \n",
       "19  Título II - Patrimônio (arts. 155 a 183)   \n",
       "30  Título II - Patrimônio (arts. 155 a 183)   \n",
       "36                Localização e/ou Devolução   \n",
       "37                Localização e/ou Devolução   \n",
       "\n",
       "                                       RUBRICA     STATUS PLACA_VEICULO  \\\n",
       "2                   Furto (art. 155) - VEICULO  Consumado       DDW1129   \n",
       "19                  Furto (art. 155) - VEICULO  Consumado       DBQ6906   \n",
       "30                  Furto (art. 155) - VEICULO  Consumado       BGS2433   \n",
       "36  Localização/Apreensão e Entrega de veículo        NaN           NaN   \n",
       "37  Localização/Apreensão e Entrega de veículo        NaN       BHE5448   \n",
       "\n",
       "   UF_VEICULO        CIDADE_VEICULO DESCR_COR_VEICULO   DESCR_MARCA_VEICULO  \\\n",
       "2          SP  SAO BERNARDO DO CAMP              Azul      FIAT/PALIO YOUNG   \n",
       "19         SP  SAO BERNARDO DO CAMP             Cinza  FIAT/UNO MILLE SMART   \n",
       "30         SP  SAO BERNARDO DO CAMP             Verde        FIAT/UNO MILLE   \n",
       "36        NaN                   NaN               NaN                   NaN   \n",
       "37         SP  SAO BERNARDO DO CAMP             Cinza   FIAT/UNO MILLE BRIO   \n",
       "\n",
       "    ANO_FABRICACAO  ANO_MODELO DESCR_TIPO_VEICULO  \n",
       "2           2000.0      2001.0          AUTOMOVEL  \n",
       "19          2000.0      2001.0          AUTOMOVEL  \n",
       "30          1992.0      1992.0          AUTOMOVEL  \n",
       "36             0.0         0.0                NaN  \n",
       "37          1991.0      1991.0          AUTOMOVEL  "
      ]
     },
     "execution_count": 17,
     "metadata": {},
     "output_type": "execute_result"
    }
   ],
   "source": [
    "dfsbc.head()"
   ]
  },
  {
   "cell_type": "code",
   "execution_count": 18,
   "id": "addressed-microphone",
   "metadata": {},
   "outputs": [
    {
     "data": {
      "text/plain": [
       "(35656, 35)"
      ]
     },
     "execution_count": 18,
     "metadata": {},
     "output_type": "execute_result"
    }
   ],
   "source": [
    "dfsbc.shape"
   ]
  },
  {
   "cell_type": "markdown",
   "id": "labeled-saskatchewan",
   "metadata": {},
   "source": [
    "Plotar novamente o gráfico *heatmap* para verificar como ficou o dataset após a eliminação dos dados anteriores"
   ]
  },
  {
   "cell_type": "code",
   "execution_count": 19,
   "id": "insured-packet",
   "metadata": {},
   "outputs": [
    {
     "data": {
      "image/png": "[encoded data removed]",
      "text/plain": [
       "<Figure size 1080x864 with 1 Axes>"
      ]
     },
     "metadata": {
      "needs_background": "light"
     },
     "output_type": "display_data"
    }
   ],
   "source": [
    "fig = plt.figure(figsize = (15,12));\n",
    "sns.heatmap(dfsbc.isnull(), cbar = False);"
   ]
  },
  {
   "cell_type": "markdown",
   "id": "convertible-teacher",
   "metadata": {},
   "source": [
    "## Verificando Outliers\n",
    "\n",
    "Ao executar o comando `.describe()`, é possível visualizar que na coluna `ANO_FABRICACAO` tem algum valor não correto, pois é maior do que a data atual"
   ]
  },
  {
   "cell_type": "code",
   "execution_count": 20,
   "id": "legitimate-commercial",
   "metadata": {
    "scrolled": true
   },
   "outputs": [
    {
     "data": {
      "text/html": [
       "<div>\n",
       "<style scoped>\n",
       "    .dataframe tbody tr th:only-of-type {\n",
       "        vertical-align: middle;\n",
       "    }\n",
       "\n",
       "    .dataframe tbody tr th {\n",
       "        vertical-align: top;\n",
       "    }\n",
       "\n",
       "    .dataframe thead th {\n",
       "        text-align: right;\n",
       "    }\n",
       "</style>\n",
       "<table border=\"1\" class=\"dataframe\">\n",
       "  <thead>\n",
       "    <tr style=\"text-align: right;\">\n",
       "      <th></th>\n",
       "      <th>ANO_BO</th>\n",
       "      <th>NUM_BO</th>\n",
       "      <th>ANO_FABRICACAO</th>\n",
       "      <th>ANO_MODELO</th>\n",
       "    </tr>\n",
       "  </thead>\n",
       "  <tbody>\n",
       "    <tr>\n",
       "      <th>count</th>\n",
       "      <td>35656.000000</td>\n",
       "      <td>3.565600e+04</td>\n",
       "      <td>34676.000000</td>\n",
       "      <td>32310.000000</td>\n",
       "    </tr>\n",
       "    <tr>\n",
       "      <th>mean</th>\n",
       "      <td>2014.847852</td>\n",
       "      <td>1.811347e+05</td>\n",
       "      <td>1733.521485</td>\n",
       "      <td>1713.040235</td>\n",
       "    </tr>\n",
       "    <tr>\n",
       "      <th>std</th>\n",
       "      <td>2.928281</td>\n",
       "      <td>4.081576e+05</td>\n",
       "      <td>687.408791</td>\n",
       "      <td>707.146987</td>\n",
       "    </tr>\n",
       "    <tr>\n",
       "      <th>min</th>\n",
       "      <td>2010.000000</td>\n",
       "      <td>1.000000e+00</td>\n",
       "      <td>0.000000</td>\n",
       "      <td>0.000000</td>\n",
       "    </tr>\n",
       "    <tr>\n",
       "      <th>25%</th>\n",
       "      <td>2012.000000</td>\n",
       "      <td>2.000000e+03</td>\n",
       "      <td>1993.000000</td>\n",
       "      <td>1993.000000</td>\n",
       "    </tr>\n",
       "    <tr>\n",
       "      <th>50%</th>\n",
       "      <td>2015.000000</td>\n",
       "      <td>5.035000e+03</td>\n",
       "      <td>2007.000000</td>\n",
       "      <td>2006.000000</td>\n",
       "    </tr>\n",
       "    <tr>\n",
       "      <th>75%</th>\n",
       "      <td>2017.000000</td>\n",
       "      <td>1.212200e+04</td>\n",
       "      <td>2011.000000</td>\n",
       "      <td>2011.000000</td>\n",
       "    </tr>\n",
       "    <tr>\n",
       "      <th>max</th>\n",
       "      <td>2020.000000</td>\n",
       "      <td>3.000022e+06</td>\n",
       "      <td>8989.000000</td>\n",
       "      <td>2021.000000</td>\n",
       "    </tr>\n",
       "  </tbody>\n",
       "</table>\n",
       "</div>"
      ],
      "text/plain": [
       "             ANO_BO        NUM_BO  ANO_FABRICACAO    ANO_MODELO\n",
       "count  35656.000000  3.565600e+04    34676.000000  32310.000000\n",
       "mean    2014.847852  1.811347e+05     1733.521485   1713.040235\n",
       "std        2.928281  4.081576e+05      687.408791    707.146987\n",
       "min     2010.000000  1.000000e+00        0.000000      0.000000\n",
       "25%     2012.000000  2.000000e+03     1993.000000   1993.000000\n",
       "50%     2015.000000  5.035000e+03     2007.000000   2006.000000\n",
       "75%     2017.000000  1.212200e+04     2011.000000   2011.000000\n",
       "max     2020.000000  3.000022e+06     8989.000000   2021.000000"
      ]
     },
     "metadata": {},
     "output_type": "display_data"
    }
   ],
   "source": [
    "display(dfsbc.describe())"
   ]
  },
  {
   "cell_type": "markdown",
   "id": "english-olympus",
   "metadata": {},
   "source": [
    "Abaixo um *boxplot* e um gráfico de densidade para melhor visualizar estes *outliers*\n",
    "\n",
    "No caso um comparativo do `ANO_FABRICAÇÃO` com `ANO_MODELO` onde os 2 apresentam valores nulos (representados como zeros)"
   ]
  },
  {
   "cell_type": "code",
   "execution_count": 21,
   "id": "returning-cheese",
   "metadata": {
    "scrolled": false
   },
   "outputs": [
    {
     "data": {
      "image/png": "[encoded data removed]",
      "text/plain": [
       "<Figure size 1080x432 with 4 Axes>"
      ]
     },
     "metadata": {
      "needs_background": "light"
     },
     "output_type": "display_data"
    }
   ],
   "source": [
    "f = plt.figure(figsize=(15, 6))\n",
    "gs = f.add_gridspec(2, 2)\n",
    "\n",
    "with sns.axes_style(\"darkgrid\"):\n",
    "    ax = f.add_subplot(gs[0, 0])\n",
    "    ax.set(xlim=(-200, 9200))\n",
    "    sns.boxplot(x=dfsbc['ANO_FABRICACAO'], color='#033399')\n",
    "\n",
    "with sns.axes_style(\"darkgrid\"):\n",
    "    ax = f.add_subplot(gs[0, 1])\n",
    "    ax.set(xlim=(-200, 2300))\n",
    "    sns.boxplot(x=dfsbc['ANO_MODELO'], color='#990303')\n",
    "\n",
    "\n",
    "with sns.axes_style(\"darkgrid\"):\n",
    "    ax = f.add_subplot(gs[1, 0])\n",
    "    ax.set(xlim=(-200, 9200))\n",
    "    sns.kdeplot(x=dfsbc['ANO_FABRICACAO'], ax=ax, color='#033399')\n",
    "\n",
    "with sns.axes_style(\"darkgrid\"):\n",
    "    ax = f.add_subplot(gs[1, 1])\n",
    "    ax.set(xlim=(-200, 2300))\n",
    "    sns.kdeplot(x=dfsbc['ANO_MODELO'], ax=ax, color='#990303')\n",
    "\n",
    "f.tight_layout()"
   ]
  },
  {
   "cell_type": "markdown",
   "id": "cubic-genius",
   "metadata": {},
   "source": [
    "Para visualizar e entender quais são e quantos são os tipos de erros, serão selecionados todas as entradas e ordenadas do maior para o menor\n",
    "\n",
    "Apesar da base de dados ser até o ano de 2020, é comum as montadoras lançarem carros modelo 2021 ainda no ano de 2020"
   ]
  },
  {
   "cell_type": "code",
   "execution_count": 22,
   "id": "purple-density",
   "metadata": {},
   "outputs": [
    {
     "data": {
      "text/plain": [
       "array([8989, 2912, 2020, 2019, 2018, 2017, 2016, 2015, 2014, 2013, 2012,\n",
       "       2011, 2010, 2009, 2008, 2007, 2006, 2005, 2004, 2003, 2002, 2001,\n",
       "       2000, 1999, 1998, 1997, 1996, 1995, 1994, 1993, 1992, 1991, 1990,\n",
       "       1989, 1988, 1987, 1986, 1985, 1984, 1983, 1982, 1981, 1980, 1979,\n",
       "       1978, 1977, 1976, 1975, 1974, 1973, 1972, 1971, 1970, 1969, 1968,\n",
       "       1967, 1966, 1965, 1964, 1957, 1889, 1884, 1213,  708,    7,    0])"
      ]
     },
     "execution_count": 22,
     "metadata": {},
     "output_type": "execute_result"
    }
   ],
   "source": [
    "dfsbc['ANO_FABRICACAO'].sort_values(ascending=False).unique()[:-1].astype(int)"
   ]
  },
  {
   "cell_type": "code",
   "execution_count": 23,
   "id": "vocational-cemetery",
   "metadata": {},
   "outputs": [
    {
     "data": {
      "text/plain": [
       "array([2021., 2020., 2019., 2018., 2017., 2016., 2015., 2014., 2013.,\n",
       "       2012., 2011., 2010., 2009., 2008., 2007., 2006., 2005., 2004.,\n",
       "       2003., 2002., 2001., 2000., 1999., 1998., 1997., 1996., 1995.,\n",
       "       1994., 1993., 1992., 1991., 1990., 1989., 1988., 1987., 1986.,\n",
       "       1985., 1984., 1983., 1982., 1981., 1980., 1979., 1978., 1977.,\n",
       "       1976., 1975., 1974., 1973., 1972., 1971., 1970., 1969., 1968.,\n",
       "       1967., 1966., 1965., 1964., 1957., 1889., 1884., 1213.,  708.,\n",
       "        100.,   16.,   10.,    8.,    0.,   nan])"
      ]
     },
     "execution_count": 23,
     "metadata": {},
     "output_type": "execute_result"
    }
   ],
   "source": [
    "dfsbc['ANO_MODELO'].sort_values(ascending=False).unique()"
   ]
  },
  {
   "cell_type": "markdown",
   "id": "veterinary-binary",
   "metadata": {},
   "source": [
    "Será criada uma restrição de \"ANO_FABRICACAO\" onde as entradas que estiverem nas condições descritas abaixo serão consideradas como \"0\"\n",
    "\n",
    " - **Condição 1** - \"ANO_FABRICACAO\" > 2020\n",
    " - **Condição 2** - \"ANO_FABRICACAO\" < 1900 e \"ANO_FABRICACAO\" > 0\n",
    " \n",
    " \n",
    " - **Condição 3** - \"ANO_MODELO\" > 2021\n",
    " - **Condição 4** - \"ANO_MODELO\" < 1900 e \"ANO_MODEELO\" > 0\n",
    " \n",
    "  "
   ]
  },
  {
   "cell_type": "code",
   "execution_count": 24,
   "id": "atlantic-complaint",
   "metadata": {},
   "outputs": [],
   "source": [
    "condicao1 = (dfsbc['ANO_FABRICACAO'] > 2020)\n",
    "condicao2 = (((dfsbc['ANO_FABRICACAO'] < 1900) & (dfsbc['ANO_FABRICACAO'] > 0)))\n",
    "\n",
    "condicao3 = (dfsbc['ANO_MODELO'] > 2021)\n",
    "condicao4 = (((dfsbc['ANO_MODELO'] < 1900) & (dfsbc['ANO_MODELO'] > 0)))"
   ]
  },
  {
   "cell_type": "markdown",
   "id": "banner-provincial",
   "metadata": {},
   "source": [
    "### Verificar quantas são as entradas com valores errôneos"
   ]
  },
  {
   "cell_type": "code",
   "execution_count": 25,
   "id": "solved-beginning",
   "metadata": {},
   "outputs": [
    {
     "name": "stdout",
     "output_type": "stream",
     "text": [
      "Há 2 entradas com \"ANO_FABRICACAO\" maior que 2020\n",
      "Há 5 entradas com \"ANO_FABRICACAO\" maior que zero e menor que 1900\n",
      "\n",
      "Há 0 entradas com \"ANO_MODELO\" maior que 2021\n",
      "Há 9 entradas com \"ANO_MODELO\" maior que zero e menor que 1900\n"
     ]
    }
   ],
   "source": [
    "print('Há {} entradas com \"ANO_FABRICACAO\" maior que 2020'.format(condicao1.sum()))\n",
    "print('Há {} entradas com \"ANO_FABRICACAO\" maior que zero e menor que 1900\\n'.format(condicao2.sum()))\n",
    "\n",
    "print('Há {} entradas com \"ANO_MODELO\" maior que 2021'.format(condicao3.sum()))\n",
    "print('Há {} entradas com \"ANO_MODELO\" maior que zero e menor que 1900'.format(condicao4.sum()))"
   ]
  },
  {
   "cell_type": "markdown",
   "id": "impaired-polyester",
   "metadata": {},
   "source": [
    "Como há apenas 16 entradas discrepantes, esses valores serão substituidos por \"0\""
   ]
  },
  {
   "cell_type": "code",
   "execution_count": 26,
   "id": "northern-brass",
   "metadata": {},
   "outputs": [
    {
     "name": "stderr",
     "output_type": "stream",
     "text": [
      "<ipython-input-26-d11eecd32afc>:2: SettingWithCopyWarning: \n",
      "A value is trying to be set on a copy of a slice from a DataFrame.\n",
      "Try using .loc[row_indexer,col_indexer] = value instead\n",
      "\n",
      "See the caveats in the documentation: https://pandas.pydata.org/pandas-docs/stable/user_guide/indexing.html#returning-a-view-versus-a-copy\n",
      "  dfsbc['ANO_FABRICACAO'] = np.where(condicao1 | condicao2, 0, dfsbc['ANO_FABRICACAO'])\n",
      "<ipython-input-26-d11eecd32afc>:5: SettingWithCopyWarning: \n",
      "A value is trying to be set on a copy of a slice from a DataFrame.\n",
      "Try using .loc[row_indexer,col_indexer] = value instead\n",
      "\n",
      "See the caveats in the documentation: https://pandas.pydata.org/pandas-docs/stable/user_guide/indexing.html#returning-a-view-versus-a-copy\n",
      "  dfsbc['ANO_MODELO'] = np.where(condicao3 | condicao4, 0, dfsbc['ANO_MODELO'])\n"
     ]
    }
   ],
   "source": [
    "# Substitui os valores da condiçao 1 e 2 para \"0\"\n",
    "dfsbc['ANO_FABRICACAO'] = np.where(condicao1 | condicao2, 0, dfsbc['ANO_FABRICACAO'])\n",
    "\n",
    "# Substitui os valores da condiçao 3 e 4 para \"0\"\n",
    "dfsbc['ANO_MODELO'] = np.where(condicao3 | condicao4, 0, dfsbc['ANO_MODELO'])"
   ]
  },
  {
   "cell_type": "markdown",
   "id": "czech-principal",
   "metadata": {},
   "source": [
    "Ao verificar novamente o *array* de anos únicos, podemos ver que não temos mais *outliers*"
   ]
  },
  {
   "cell_type": "code",
   "execution_count": 27,
   "id": "choice-approach",
   "metadata": {},
   "outputs": [
    {
     "data": {
      "text/plain": [
       "array([2020., 2019., 2018., 2017., 2016., 2015., 2014., 2013., 2012.,\n",
       "       2011., 2010., 2009., 2008., 2007., 2006., 2005., 2004., 2003.,\n",
       "       2002., 2001., 2000., 1999., 1998., 1997., 1996., 1995., 1994.,\n",
       "       1993., 1992., 1991., 1990., 1989., 1988., 1987., 1986., 1985.,\n",
       "       1984., 1983., 1982., 1981., 1980., 1979., 1978., 1977., 1976.,\n",
       "       1975., 1974., 1973., 1972., 1971., 1970., 1969., 1968., 1967.,\n",
       "       1966., 1965., 1964., 1957.,    0.,   nan])"
      ]
     },
     "execution_count": 27,
     "metadata": {},
     "output_type": "execute_result"
    }
   ],
   "source": [
    "dfsbc['ANO_FABRICACAO'].sort_values(ascending=False).unique()"
   ]
  },
  {
   "cell_type": "code",
   "execution_count": 28,
   "id": "atmospheric-oasis",
   "metadata": {},
   "outputs": [
    {
     "data": {
      "text/plain": [
       "array([2021., 2020., 2019., 2018., 2017., 2016., 2015., 2014., 2013.,\n",
       "       2012., 2011., 2010., 2009., 2008., 2007., 2006., 2005., 2004.,\n",
       "       2003., 2002., 2001., 2000., 1999., 1998., 1997., 1996., 1995.,\n",
       "       1994., 1993., 1992., 1991., 1990., 1989., 1988., 1987., 1986.,\n",
       "       1985., 1984., 1983., 1982., 1981., 1980., 1979., 1978., 1977.,\n",
       "       1976., 1975., 1974., 1973., 1972., 1971., 1970., 1969., 1968.,\n",
       "       1967., 1966., 1965., 1964., 1957.,    0.,   nan])"
      ]
     },
     "execution_count": 28,
     "metadata": {},
     "output_type": "execute_result"
    }
   ],
   "source": [
    "dfsbc['ANO_MODELO'].sort_values(ascending=False).unique()"
   ]
  },
  {
   "cell_type": "markdown",
   "id": "union-hamburg",
   "metadata": {},
   "source": [
    "Plotar novamente os gráficos de caixas e de densidade"
   ]
  },
  {
   "cell_type": "code",
   "execution_count": 29,
   "id": "bearing-triumph",
   "metadata": {},
   "outputs": [],
   "source": [
    "#Seleciona os dados maiores que 1900 que sejam diferentes de zero\n",
    "\n",
    "plot_fabricacao = dfsbc['ANO_FABRICACAO'].loc[(((dfsbc['ANO_FABRICACAO'] > 1900) & (dfsbc['ANO_FABRICACAO'] != 0)))]\n",
    "plot_modelo = dfsbc['ANO_MODELO'].loc[(((dfsbc['ANO_MODELO'] > 1900) & (dfsbc['ANO_MODELO'] != 0)))]"
   ]
  },
  {
   "cell_type": "code",
   "execution_count": 30,
   "id": "prime-toddler",
   "metadata": {},
   "outputs": [
    {
     "data": {
      "image/png": "[encoded data removed]",
      "text/plain": [
       "<Figure size 1080x432 with 4 Axes>"
      ]
     },
     "metadata": {
      "needs_background": "light"
     },
     "output_type": "display_data"
    }
   ],
   "source": [
    "f = plt.figure(figsize=(15, 6))\n",
    "gs = f.add_gridspec(2, 2)\n",
    "\n",
    "with sns.axes_style(\"darkgrid\"):\n",
    "    ax = f.add_subplot(gs[0, 0])\n",
    "    ax.set(xlim=(1960, 2025))\n",
    "    sns.boxplot(x=plot_fabricacao, color='#033399')\n",
    "\n",
    "with sns.axes_style(\"darkgrid\"):\n",
    "    ax = f.add_subplot(gs[0, 1])\n",
    "    ax.set(xlim=(1960, 2025))\n",
    "    sns.boxplot(x=plot_modelo, color='#990303')\n",
    "\n",
    "\n",
    "with sns.axes_style(\"darkgrid\"):\n",
    "    ax = f.add_subplot(gs[1, 0])\n",
    "    ax.set(xlim=(1960, 2025))\n",
    "    sns.kdeplot(x=plot_fabricacao, ax=ax, color='#033399')\n",
    "\n",
    "with sns.axes_style(\"darkgrid\"):\n",
    "    ax = f.add_subplot(gs[1, 1])\n",
    "    ax.set(xlim=(1960, 2025))\n",
    "    sns.kdeplot(x=plot_modelo, ax=ax, color='#990303')\n",
    "\n",
    "f.tight_layout()"
   ]
  },
  {
   "cell_type": "markdown",
   "id": "micro-billion",
   "metadata": {},
   "source": [
    "## Ajuste do tipo das variáveis"
   ]
  },
  {
   "cell_type": "markdown",
   "id": "indirect-turning",
   "metadata": {},
   "source": [
    "\n",
    "Os campos `NUMERO`, `ANO_FABRICACAO`, `ANO_MODELO` e serão convertidos para inteiros,\n",
    "\n",
    "*obs: os valores apresentados como NaN serão preenchidos com \"0\"*"
   ]
  },
  {
   "cell_type": "code",
   "execution_count": 31,
   "id": "alleged-butterfly",
   "metadata": {
    "scrolled": true
   },
   "outputs": [
    {
     "name": "stderr",
     "output_type": "stream",
     "text": [
      "<ipython-input-31-c4a6781daa71>:4: SettingWithCopyWarning: \n",
      "A value is trying to be set on a copy of a slice from a DataFrame.\n",
      "Try using .loc[row_indexer,col_indexer] = value instead\n",
      "\n",
      "See the caveats in the documentation: https://pandas.pydata.org/pandas-docs/stable/user_guide/indexing.html#returning-a-view-versus-a-copy\n",
      "  dfsbc[i] = pd.to_numeric(dfsbc[i].replace(np.nan, 0), downcast='integer', errors='coerce')\n"
     ]
    }
   ],
   "source": [
    "#nos campos NUMERO, ANO_FABRICACAO e ANO_MODELO  os valores apresentados como NaN serão preenchidos com \"0\"\n",
    "lista_int = ['NUMERO', 'ANO_FABRICACAO', 'ANO_MODELO']\n",
    "for i in lista_int:\n",
    "    dfsbc[i] = pd.to_numeric(dfsbc[i].replace(np.nan, 0), downcast='integer', errors='coerce')"
   ]
  },
  {
   "cell_type": "code",
   "execution_count": 32,
   "id": "amino-czech",
   "metadata": {},
   "outputs": [
    {
     "data": {
      "text/plain": [
       "ANO_BO                       int64\n",
       "NUM_BO                       int64\n",
       "NUMERO_BOLETIM              object\n",
       "BO_INICIADO                 object\n",
       "BO_EMITIDO                  object\n",
       "DATAOCORRENCIA              object\n",
       "HORAOCORRENCIA              object\n",
       "PERIDOOCORRENCIA            object\n",
       "DATACOMUNICACAO             object\n",
       "DATAELABORACAO              object\n",
       "BO_AUTORIA                  object\n",
       "FLAGRANTE                   object\n",
       "NUMERO_BOLETIM_PRINCIPAL    object\n",
       "LOGRADOURO                  object\n",
       "NUMERO                       int32\n",
       "BAIRRO                      object\n",
       "CIDADE                      object\n",
       "UF                          object\n",
       "LATITUDE                    object\n",
       "LONGITUDE                   object\n",
       "DESCRICAOLOCAL              object\n",
       "SOLUCAO                     object\n",
       "DELEGACIA_NOME              object\n",
       "DELEGACIA_CIRCUNSCRICAO     object\n",
       "ESPECIE                     object\n",
       "RUBRICA                     object\n",
       "STATUS                      object\n",
       "PLACA_VEICULO               object\n",
       "UF_VEICULO                  object\n",
       "CIDADE_VEICULO              object\n",
       "DESCR_COR_VEICULO           object\n",
       "DESCR_MARCA_VEICULO         object\n",
       "ANO_FABRICACAO               int16\n",
       "ANO_MODELO                   int16\n",
       "DESCR_TIPO_VEICULO          object\n",
       "dtype: object"
      ]
     },
     "execution_count": 32,
     "metadata": {},
     "output_type": "execute_result"
    }
   ],
   "source": [
    "dfsbc.dtypes"
   ]
  },
  {
   "cell_type": "markdown",
   "id": "bacterial-barrier",
   "metadata": {},
   "source": [
    "## Salvar o arquivo em um novo arquivo *.csv*"
   ]
  },
  {
   "cell_type": "code",
   "execution_count": 33,
   "id": "lucky-multimedia",
   "metadata": {},
   "outputs": [],
   "source": [
    "dfsbc.to_csv('data_cleaned/furtos_veic_sbc.csv', index=False)"
   ]
  },
  {
   "cell_type": "code",
   "execution_count": null,
   "id": "respected-kennedy",
   "metadata": {},
   "outputs": [],
   "source": []
  }
 ],
 "metadata": {
  "kernelspec": {
   "display_name": "Python 3",
   "language": "python",
   "name": "python3"
  },
  "language_info": {
   "codemirror_mode": {
    "name": "ipython",
    "version": 3
   },
   "file_extension": ".py",
   "mimetype": "text/x-python",
   "name": "python",
   "nbconvert_exporter": "python",
   "pygments_lexer": "ipython3",
   "version": "3.9.1"
  }
 },
 "nbformat": 4,
 "nbformat_minor": 5
}
